{
  "nbformat": 4,
  "nbformat_minor": 0,
  "metadata": {
    "colab": {
      "provenance": [],
      "authorship_tag": "ABX9TyO7xKokr5Hwdojlit9+J/xi",
      "include_colab_link": true
    },
    "kernelspec": {
      "name": "python3",
      "display_name": "Python 3"
    },
    "language_info": {
      "name": "python"
    }
  },
  "cells": [
    {
      "cell_type": "markdown",
      "metadata": {
        "id": "view-in-github",
        "colab_type": "text"
      },
      "source": [
        "<a href=\"https://colab.research.google.com/github/romanfen/F21DL-G6/blob/main/Lab_10_MultiLayer_Perceptron_Heart.ipynb\" target=\"_parent\"><img src=\"https://colab.research.google.com/assets/colab-badge.svg\" alt=\"Open In Colab\"/></a>"
      ]
    },
    {
      "cell_type": "markdown",
      "source": [
        "# Setup"
      ],
      "metadata": {
        "id": "Jt6__G7HjjYn"
      }
    },
    {
      "cell_type": "code",
      "execution_count": 4,
      "metadata": {
        "id": "OL99C5qcjilS"
      },
      "outputs": [],
      "source": [
        "import sklearn\n",
        "import tensorflow as tf\n",
        "import numpy as np\n",
        "import pandas as pd\n",
        "\n",
        "\n",
        "%matplotlib inline\n",
        "import matplotlib as mpl\n",
        "import matplotlib.pyplot as plt\n",
        "mpl.rc('axes', labelsize=14)\n",
        "mpl.rc('xtick', labelsize=12)\n",
        "mpl.rc('ytick', labelsize=12)"
      ]
    },
    {
      "cell_type": "markdown",
      "source": [
        "# Load Data"
      ],
      "metadata": {
        "id": "aFdGDlTYl5Fp"
      }
    },
    {
      "cell_type": "markdown",
      "source": [
        "Chosen dataset relates to data from patients to deduce their risk of heart attack.\n",
        "\n",
        "Source: https://www.kaggle.com/datasets/rashikrahmanpritom/heart-attack-analysis-prediction-dataset\n",
        "\n",
        "Columns:\n",
        "* Age: Age of patient (numerical)\n",
        "* Sex: Sex of patient (ordinal)\n",
        "```\n",
        "0 : Female\n",
        "1 : Male\n",
        "```\n",
        "* Cp: Chest Pain type (ordinal)\n",
        "```\n",
        "0 : typical angina\n",
        "1 : atypical angina\n",
        "2 : non-anginal \n",
        "3 : asymptomatic\n",
        "```\n",
        "* Trtbps: Resting blood pressure measured in mm Hg (numerical)\n",
        "* Chol: Cholesterol in mg/dl via BMI sensor (numerical)\n",
        "* Fbs: Is fasting blood sugar below 120 mg / dl (binary)\n",
        "```\n",
        "0 : False\n",
        "1 : True\n",
        "```\n",
        "* Rest_ecg Resting Electrocardiographic Results (ordinal)\n",
        "```\n",
        "0 : Normal\n",
        "1 : ST-T Wave Abnormality\n",
        "2 : Probably / definite ventricular hypertrophy\n",
        "```\n",
        "* Thalach: Maximum heart rate achieved (numerical)\n",
        "* Exang: Does patient experience exercise induced angina (binary)\n",
        "```\n",
        "0 : No\n",
        "1 : Yes\n",
        "```\n",
        "* Oldpeak: ST depression induced by exercise relative to rest (numerical)\n",
        "* Slp: Slope of peak exercise ST segment (ordinal)\n",
        "```\n",
        "0 : unsloping\n",
        "1 : flat\n",
        "2 : downsloping\n",
        "```\n",
        "* caa: Number of major blood vessels (numerical range from 0 to 3)\n",
        "* thall: thalassemia\n",
        "```\n",
        "0 : null\n",
        "1 : fixed defect\n",
        "2 : normal \n",
        "3 : reversable defect\n",
        "```\n",
        "\n",
        "Target:\n",
        "* output: Diagnosis Chance of Heart Disease\n",
        "```\n",
        "0 : Less Chance\n",
        "1 : Increased Risk\n",
        "```"
      ],
      "metadata": {
        "id": "l2hB9XTFmUai"
      }
    },
    {
      "cell_type": "code",
      "source": [
        "# Load the data\n",
        "def load_data():\n",
        "    url = \"https://raw.githubusercontent.com/romanfen/F21DL-G6/main/datasets/heart.csv\"\n",
        "    return pd.read_csv(url)\n",
        "\n",
        "heart_data = load_data()\n",
        "heart_cols = list(heart_data.columns)\n",
        "print(heart_cols)"
      ],
      "metadata": {
        "colab": {
          "base_uri": "https://localhost:8080/"
        },
        "id": "GZyTujJ8l6KD",
        "outputId": "28bb0ff7-181d-4632-a125-ea36f68c4236"
      },
      "execution_count": 5,
      "outputs": [
        {
          "output_type": "stream",
          "name": "stdout",
          "text": [
            "['age', 'sex', 'cp', 'trtbps', 'chol', 'fbs', 'restecg', 'thalachh', 'exng', 'oldpeak', 'slp', 'caa', 'thall', 'output']\n"
          ]
        }
      ]
    },
    {
      "cell_type": "markdown",
      "source": [
        "# Perceptron"
      ],
      "metadata": {
        "id": "e3u7pF0WlXhB"
      }
    },
    {
      "cell_type": "markdown",
      "source": [],
      "metadata": {
        "id": "gtY3pN_ilqdx"
      }
    }
  ]
}