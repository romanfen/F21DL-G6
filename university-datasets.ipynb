{
 "cells": [
  {
   "cell_type": "markdown",
   "id": "f15acbe8",
   "metadata": {},
   "source": [
    "# Setup"
   ]
  },
  {
   "cell_type": "markdown",
   "id": "fadc1fd7",
   "metadata": {},
   "source": [
    "### Importing all the dependencies for working with the dataset."
   ]
  },
  {
   "cell_type": "code",
   "execution_count": 2,
   "id": "10940034",
   "metadata": {},
   "outputs": [],
   "source": [
    "import sys\n",
    "assert sys.version_info >= (3, 5)\n",
    "import sklearn\n",
    "assert sklearn.__version__ >= \"0.20\"\n",
    "import numpy as np\n",
    "import os\n",
    "import tarfile\n",
    "import urllib\n",
    "import pandas as pd\n",
    "import urllib.request\n",
    "%matplotlib inline\n",
    "import matplotlib as mpl\n",
    "import matplotlib.pyplot as plt"
   ]
  },
  {
   "cell_type": "code",
   "execution_count": 3,
   "id": "9fbf26a9",
   "metadata": {},
   "outputs": [],
   "source": [
    "DOWNLOAD_ROOT = \"https://raw.githubusercontent.com/Ya2001/F21DL-G6/master/universities.csv\"\n",
    "UNI_PATH = os.path.join(\"datasets\", \"university\")\n",
    "UNI_URL = DOWNLOAD_ROOT + \"datasets/university/universities.csv\"\n",
    "\n",
    "#ran into issues using this to download data locally "
   ]
  },
  {
   "cell_type": "code",
   "execution_count": 4,
   "id": "5f91351a",
   "metadata": {},
   "outputs": [],
   "source": [
    "# def load_uni_data(uni_path=UNI_PATH):\n",
    "#     csv_path = os.path.join(uni_path, \"universities.csv\")\n",
    "#     return pd.read_csv(csv_path)\n",
    "\n",
    "# Also could not use this method \n",
    "url = \"https://raw.githubusercontent.com/Ya2001/F21DL-G6/master/universities.csv\"\n",
    "uni = pd.read_csv(url)"
   ]
  },
  {
   "cell_type": "code",
   "execution_count": 5,
   "id": "408d4697",
   "metadata": {},
   "outputs": [
    {
     "data": {
      "text/html": [
       "<div>\n",
       "<style scoped>\n",
       "    .dataframe tbody tr th:only-of-type {\n",
       "        vertical-align: middle;\n",
       "    }\n",
       "\n",
       "    .dataframe tbody tr th {\n",
       "        vertical-align: top;\n",
       "    }\n",
       "\n",
       "    .dataframe thead th {\n",
       "        text-align: right;\n",
       "    }\n",
       "</style>\n",
       "<table border=\"1\" class=\"dataframe\">\n",
       "  <thead>\n",
       "    <tr style=\"text-align: right;\">\n",
       "      <th></th>\n",
       "      <th>World Rank</th>\n",
       "      <th>Institution</th>\n",
       "      <th>Country</th>\n",
       "      <th>National Rank</th>\n",
       "      <th>Quality of Education Rank</th>\n",
       "      <th>Alumni Employment Rank</th>\n",
       "      <th>Quality of Faculty Rank</th>\n",
       "      <th>Research Performance Rank</th>\n",
       "      <th>Score</th>\n",
       "    </tr>\n",
       "  </thead>\n",
       "  <tbody>\n",
       "    <tr>\n",
       "      <th>0</th>\n",
       "      <td>1</td>\n",
       "      <td>Harvard University</td>\n",
       "      <td>USA</td>\n",
       "      <td>1</td>\n",
       "      <td>1</td>\n",
       "      <td>1</td>\n",
       "      <td>1</td>\n",
       "      <td>1</td>\n",
       "      <td>100.0</td>\n",
       "    </tr>\n",
       "    <tr>\n",
       "      <th>1</th>\n",
       "      <td>2</td>\n",
       "      <td>Massachusetts Institute of Technology</td>\n",
       "      <td>USA</td>\n",
       "      <td>2</td>\n",
       "      <td>4</td>\n",
       "      <td>12</td>\n",
       "      <td>2</td>\n",
       "      <td>8</td>\n",
       "      <td>96.7</td>\n",
       "    </tr>\n",
       "    <tr>\n",
       "      <th>2</th>\n",
       "      <td>3</td>\n",
       "      <td>Stanford University</td>\n",
       "      <td>USA</td>\n",
       "      <td>3</td>\n",
       "      <td>10</td>\n",
       "      <td>4</td>\n",
       "      <td>3</td>\n",
       "      <td>2</td>\n",
       "      <td>95.1</td>\n",
       "    </tr>\n",
       "    <tr>\n",
       "      <th>3</th>\n",
       "      <td>4</td>\n",
       "      <td>University of Cambridge</td>\n",
       "      <td>United Kingdom</td>\n",
       "      <td>1</td>\n",
       "      <td>3</td>\n",
       "      <td>25</td>\n",
       "      <td>4</td>\n",
       "      <td>10</td>\n",
       "      <td>94.1</td>\n",
       "    </tr>\n",
       "    <tr>\n",
       "      <th>4</th>\n",
       "      <td>5</td>\n",
       "      <td>University of Oxford</td>\n",
       "      <td>United Kingdom</td>\n",
       "      <td>2</td>\n",
       "      <td>7</td>\n",
       "      <td>27</td>\n",
       "      <td>9</td>\n",
       "      <td>4</td>\n",
       "      <td>93.3</td>\n",
       "    </tr>\n",
       "  </tbody>\n",
       "</table>\n",
       "</div>"
      ],
      "text/plain": [
       "   World Rank                            Institution         Country  \\\n",
       "0           1                     Harvard University             USA   \n",
       "1           2  Massachusetts Institute of Technology             USA   \n",
       "2           3                    Stanford University             USA   \n",
       "3           4                University of Cambridge  United Kingdom   \n",
       "4           5                   University of Oxford  United Kingdom   \n",
       "\n",
       "   National Rank Quality of Education Rank Alumni Employment Rank  \\\n",
       "0              1                         1                      1   \n",
       "1              2                         4                     12   \n",
       "2              3                        10                      4   \n",
       "3              1                         3                     25   \n",
       "4              2                         7                     27   \n",
       "\n",
       "  Quality of Faculty Rank Research Performance Rank  Score  \n",
       "0                       1                         1  100.0  \n",
       "1                       2                         8   96.7  \n",
       "2                       3                         2   95.1  \n",
       "3                       4                        10   94.1  \n",
       "4                       9                         4   93.3  "
      ]
     },
     "execution_count": 5,
     "metadata": {},
     "output_type": "execute_result"
    }
   ],
   "source": [
    "uni.head()"
   ]
  },
  {
   "cell_type": "code",
   "execution_count": 6,
   "id": "4aa66cff",
   "metadata": {},
   "outputs": [
    {
     "name": "stdout",
     "output_type": "stream",
     "text": [
      "<class 'pandas.core.frame.DataFrame'>\n",
      "RangeIndex: 2000 entries, 0 to 1999\n",
      "Data columns (total 9 columns):\n",
      " #   Column                     Non-Null Count  Dtype  \n",
      "---  ------                     --------------  -----  \n",
      " 0   World Rank                 2000 non-null   int64  \n",
      " 1   Institution                2000 non-null   object \n",
      " 2   Country                    2000 non-null   object \n",
      " 3   National Rank              2000 non-null   int64  \n",
      " 4   Quality of Education Rank  2000 non-null   object \n",
      " 5   Alumni Employment Rank     2000 non-null   object \n",
      " 6   Quality of Faculty Rank    2000 non-null   object \n",
      " 7   Research Performance Rank  2000 non-null   object \n",
      " 8   Score                      2000 non-null   float64\n",
      "dtypes: float64(1), int64(2), object(6)\n",
      "memory usage: 140.8+ KB\n"
     ]
    }
   ],
   "source": [
    "uni.info()"
   ]
  },
  {
   "cell_type": "markdown",
   "id": "7e601739",
   "metadata": {},
   "source": [
    "Using this info table we can see that out of the 2000 records, we have 2000 non-null entries. This means we do not have any missing values that we need to deal with during pre-processing of our data."
   ]
  },
  {
   "cell_type": "code",
   "execution_count": 7,
   "id": "c2cba354",
   "metadata": {},
   "outputs": [
    {
     "data": {
      "text/plain": [
       "65.8     29\n",
       "66.0     28\n",
       "65.9     27\n",
       "66.1     27\n",
       "66.2     27\n",
       "         ..\n",
       "86.0      1\n",
       "86.1      1\n",
       "86.3      1\n",
       "86.4      1\n",
       "100.0     1\n",
       "Name: Score, Length: 238, dtype: int64"
      ]
     },
     "execution_count": 7,
     "metadata": {},
     "output_type": "execute_result"
    }
   ],
   "source": [
    "uni['Score'].value_counts()"
   ]
  },
  {
   "cell_type": "markdown",
   "id": "ce99aab1",
   "metadata": {},
   "source": [
    "We can use this information if we were to filter or approach universities within a specific score range"
   ]
  },
  {
   "cell_type": "code",
   "execution_count": 8,
   "id": "27086f14",
   "metadata": {},
   "outputs": [
    {
     "data": {
      "text/html": [
       "<div>\n",
       "<style scoped>\n",
       "    .dataframe tbody tr th:only-of-type {\n",
       "        vertical-align: middle;\n",
       "    }\n",
       "\n",
       "    .dataframe tbody tr th {\n",
       "        vertical-align: top;\n",
       "    }\n",
       "\n",
       "    .dataframe thead th {\n",
       "        text-align: right;\n",
       "    }\n",
       "</style>\n",
       "<table border=\"1\" class=\"dataframe\">\n",
       "  <thead>\n",
       "    <tr style=\"text-align: right;\">\n",
       "      <th></th>\n",
       "      <th>World Rank</th>\n",
       "      <th>National Rank</th>\n",
       "      <th>Score</th>\n",
       "    </tr>\n",
       "  </thead>\n",
       "  <tbody>\n",
       "    <tr>\n",
       "      <th>count</th>\n",
       "      <td>2000.000000</td>\n",
       "      <td>2000.000000</td>\n",
       "      <td>2000.000000</td>\n",
       "    </tr>\n",
       "    <tr>\n",
       "      <th>mean</th>\n",
       "      <td>1000.500000</td>\n",
       "      <td>67.523000</td>\n",
       "      <td>71.586450</td>\n",
       "    </tr>\n",
       "    <tr>\n",
       "      <th>std</th>\n",
       "      <td>577.494589</td>\n",
       "      <td>83.128615</td>\n",
       "      <td>5.079795</td>\n",
       "    </tr>\n",
       "    <tr>\n",
       "      <th>min</th>\n",
       "      <td>1.000000</td>\n",
       "      <td>1.000000</td>\n",
       "      <td>65.700000</td>\n",
       "    </tr>\n",
       "    <tr>\n",
       "      <th>25%</th>\n",
       "      <td>500.750000</td>\n",
       "      <td>10.000000</td>\n",
       "      <td>67.700000</td>\n",
       "    </tr>\n",
       "    <tr>\n",
       "      <th>50%</th>\n",
       "      <td>1000.500000</td>\n",
       "      <td>33.000000</td>\n",
       "      <td>70.200000</td>\n",
       "    </tr>\n",
       "    <tr>\n",
       "      <th>75%</th>\n",
       "      <td>1500.250000</td>\n",
       "      <td>86.000000</td>\n",
       "      <td>74.100000</td>\n",
       "    </tr>\n",
       "    <tr>\n",
       "      <th>max</th>\n",
       "      <td>2000.000000</td>\n",
       "      <td>347.000000</td>\n",
       "      <td>100.000000</td>\n",
       "    </tr>\n",
       "  </tbody>\n",
       "</table>\n",
       "</div>"
      ],
      "text/plain": [
       "        World Rank  National Rank        Score\n",
       "count  2000.000000    2000.000000  2000.000000\n",
       "mean   1000.500000      67.523000    71.586450\n",
       "std     577.494589      83.128615     5.079795\n",
       "min       1.000000       1.000000    65.700000\n",
       "25%     500.750000      10.000000    67.700000\n",
       "50%    1000.500000      33.000000    70.200000\n",
       "75%    1500.250000      86.000000    74.100000\n",
       "max    2000.000000     347.000000   100.000000"
      ]
     },
     "execution_count": 8,
     "metadata": {},
     "output_type": "execute_result"
    }
   ],
   "source": [
    "uni.describe()"
   ]
  },
  {
   "cell_type": "code",
   "execution_count": 9,
   "id": "2faec5d7",
   "metadata": {},
   "outputs": [
    {
     "data": {
      "image/png": "[encoded data removed]",
      "text/plain": [
       "<Figure size 432x288 with 4 Axes>"
      ]
     },
     "metadata": {
      "needs_background": "light"
     },
     "output_type": "display_data"
    }
   ],
   "source": [
    "uni.hist(bins=50)\n",
    "plt.show()"
   ]
  },
  {
   "cell_type": "code",
   "execution_count": 33,
   "id": "61acf8ff",
   "metadata": {},
   "outputs": [
    {
     "data": {
      "text/plain": [
       "<AxesSubplot:xlabel='Quality of Education Rank', ylabel='Alumni Employment Rank'>"
      ]
     },
     "execution_count": 33,
     "metadata": {},
     "output_type": "execute_result"
    },
    {
     "data": {
      "image/png": "[encoded data removed]",
      "text/plain": [
       "<Figure size 432x288 with 1 Axes>"
      ]
     },
     "metadata": {
      "needs_background": "light"
     },
     "output_type": "display_data"
    }
   ],
   "source": [
    "uni.plot(kind=\"scatter\", y=\"Alumni Employment Rank\", x=\"Quality of Education Rank\")"
   ]
  },
  {
   "cell_type": "code",
   "execution_count": 34,
   "id": "85196413",
   "metadata": {},
   "outputs": [
    {
     "data": {
      "text/plain": [
       "<AxesSubplot:xlabel='Quality of Education Rank', ylabel='Quality of Faculty Rank'>"
      ]
     },
     "execution_count": 34,
     "metadata": {},
     "output_type": "execute_result"
    },
    {
     "data": {
      "image/png": "[encoded data removed]",
      "text/plain": [
       "<Figure size 432x288 with 1 Axes>"
      ]
     },
     "metadata": {
      "needs_background": "light"
     },
     "output_type": "display_data"
    }
   ],
   "source": [
    "uni.plot(kind=\"scatter\", y=\"Quality of Faculty Rank\", x=\"Quality of Education Rank\")"
   ]
  },
  {
   "cell_type": "code",
   "execution_count": null,
   "id": "8b3c3596",
   "metadata": {},
   "outputs": [],
   "source": []
  }
 ],
 "metadata": {
  "kernelspec": {
   "display_name": "Python 3 (ipykernel)",
   "language": "python",
   "name": "python3"
  },
  "language_info": {
   "codemirror_mode": {
    "name": "ipython",
    "version": 3
   },
   "file_extension": ".py",
   "mimetype": "text/x-python",
   "name": "python",
   "nbconvert_exporter": "python",
   "pygments_lexer": "ipython3",
   "version": "3.9.12"
  }
 },
 "nbformat": 4,
 "nbformat_minor": 5
}
