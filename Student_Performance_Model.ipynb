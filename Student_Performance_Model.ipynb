{
 "cells": [
  {
   "cell_type": "markdown",
   "metadata": {
    "id": "9UxOyzldC0DT"
   },
   "source": [
    "## Set Up"
   ]
  },
  {
   "cell_type": "code",
   "execution_count": 29,
   "metadata": {
    "colab": {
     "base_uri": "https://localhost:8080/"
    },
    "id": "_78bNezq-z0y",
    "outputId": "9e76f63a-236e-45c5-a722-447169157529"
   },
   "outputs": [
    {
     "name": "stdout",
     "output_type": "stream",
     "text": [
      "3.9.13\n"
     ]
    }
   ],
   "source": [
    "import sys\n",
    "sys.path\n",
    "from platform import python_version\n",
    "assert sys.version_info >= (3, 5)\n",
    "print(python_version())"
   ]
  },
  {
   "cell_type": "code",
   "execution_count": 30,
   "metadata": {
    "id": "inhEFA6t-7ZQ"
   },
   "outputs": [],
   "source": [
    "import numpy as np\n",
    "import os\n",
    "import tarfile\n",
    "import urllib\n",
    "import pandas as pd\n",
    "import urllib.request\n",
    "from pylab import rcParams\n",
    "import seaborn as sb"
   ]
  },
  {
   "cell_type": "code",
   "execution_count": 31,
   "metadata": {
    "id": "imvQO5Qn_FHH"
   },
   "outputs": [],
   "source": [
    "import sklearn\n",
    "assert sklearn.__version__ >= \"0.20\"\n",
    "from sklearn.preprocessing import OneHotEncoder\n",
    "from sklearn.linear_model import LinearRegression\n",
    "from sklearn.preprocessing import scale\n",
    "from sklearn.preprocessing import MinMaxScaler\n",
    "from collections import Counter"
   ]
  },
  {
   "cell_type": "code",
   "execution_count": 32,
   "metadata": {
    "id": "I8cyJc4mC-rp"
   },
   "outputs": [],
   "source": [
    "# To plot pretty figures\n",
    "%matplotlib inline\n",
    "import matplotlib as mpl\n",
    "import matplotlib.pyplot as plt"
   ]
  },
  {
   "cell_type": "code",
   "execution_count": 33,
   "metadata": {
    "colab": {
     "base_uri": "https://localhost:8080/"
    },
    "id": "De47DGby_I-x",
    "outputId": "74fc7b58-5325-4e3a-b76d-77fbd7decce9"
   },
   "outputs": [
    {
     "name": "stdout",
     "output_type": "stream",
     "text": [
      "['school', 'sex', 'age', 'address', 'famsize', 'Pstatus', 'Medu', 'Fedu', 'Mjob', 'Fjob', 'reason', 'guardian', 'traveltime', 'studytime', 'failures', 'schoolsup', 'famsup', 'paid', 'activities', 'nursery', 'higher', 'internet', 'romantic', 'famrel', 'freetime', 'goout', 'Dalc', 'Walc', 'health', 'absences', 'G1', 'G2', 'G3']\n"
     ]
    }
   ],
   "source": [
    "# Load the data\n",
    "def load_data():\n",
    "    url = \"https://raw.githubusercontent.com/romanfen/F21DL-G6/main/datasets/Maths.csv\"\n",
    "    return pd.read_csv(url)\n",
    "\n",
    "students = load_data()\n",
    "students_cols = list(students.columns)\n",
    "print(students_cols)"
   ]
  },
  {
   "cell_type": "code",
   "execution_count": 34,
   "metadata": {
    "colab": {
     "base_uri": "https://localhost:8080/"
    },
    "id": "D9O8AYPm_Zt2",
    "outputId": "00bcb0e4-2f39-437b-c1bf-3dd8744f20dd"
   },
   "outputs": [
    {
     "data": {
      "text/html": [
       "<div>\n",
       "<style scoped>\n",
       "    .dataframe tbody tr th:only-of-type {\n",
       "        vertical-align: middle;\n",
       "    }\n",
       "\n",
       "    .dataframe tbody tr th {\n",
       "        vertical-align: top;\n",
       "    }\n",
       "\n",
       "    .dataframe thead th {\n",
       "        text-align: right;\n",
       "    }\n",
       "</style>\n",
       "<table border=\"1\" class=\"dataframe\">\n",
       "  <thead>\n",
       "    <tr style=\"text-align: right;\">\n",
       "      <th></th>\n",
       "      <th>school</th>\n",
       "      <th>sex</th>\n",
       "      <th>age</th>\n",
       "      <th>address</th>\n",
       "      <th>famsize</th>\n",
       "      <th>Pstatus</th>\n",
       "      <th>Medu</th>\n",
       "      <th>Fedu</th>\n",
       "      <th>Mjob</th>\n",
       "      <th>Fjob</th>\n",
       "      <th>...</th>\n",
       "      <th>famrel</th>\n",
       "      <th>freetime</th>\n",
       "      <th>goout</th>\n",
       "      <th>Dalc</th>\n",
       "      <th>Walc</th>\n",
       "      <th>health</th>\n",
       "      <th>absences</th>\n",
       "      <th>G1</th>\n",
       "      <th>G2</th>\n",
       "      <th>G3</th>\n",
       "    </tr>\n",
       "  </thead>\n",
       "  <tbody>\n",
       "    <tr>\n",
       "      <th>0</th>\n",
       "      <td>GP</td>\n",
       "      <td>F</td>\n",
       "      <td>18</td>\n",
       "      <td>U</td>\n",
       "      <td>GT3</td>\n",
       "      <td>A</td>\n",
       "      <td>4</td>\n",
       "      <td>4</td>\n",
       "      <td>at_home</td>\n",
       "      <td>teacher</td>\n",
       "      <td>...</td>\n",
       "      <td>4</td>\n",
       "      <td>3</td>\n",
       "      <td>4</td>\n",
       "      <td>1</td>\n",
       "      <td>1</td>\n",
       "      <td>3</td>\n",
       "      <td>6</td>\n",
       "      <td>5</td>\n",
       "      <td>6</td>\n",
       "      <td>6</td>\n",
       "    </tr>\n",
       "    <tr>\n",
       "      <th>1</th>\n",
       "      <td>GP</td>\n",
       "      <td>F</td>\n",
       "      <td>17</td>\n",
       "      <td>U</td>\n",
       "      <td>GT3</td>\n",
       "      <td>T</td>\n",
       "      <td>1</td>\n",
       "      <td>1</td>\n",
       "      <td>at_home</td>\n",
       "      <td>other</td>\n",
       "      <td>...</td>\n",
       "      <td>5</td>\n",
       "      <td>3</td>\n",
       "      <td>3</td>\n",
       "      <td>1</td>\n",
       "      <td>1</td>\n",
       "      <td>3</td>\n",
       "      <td>4</td>\n",
       "      <td>5</td>\n",
       "      <td>5</td>\n",
       "      <td>6</td>\n",
       "    </tr>\n",
       "    <tr>\n",
       "      <th>2</th>\n",
       "      <td>GP</td>\n",
       "      <td>F</td>\n",
       "      <td>15</td>\n",
       "      <td>U</td>\n",
       "      <td>LE3</td>\n",
       "      <td>T</td>\n",
       "      <td>1</td>\n",
       "      <td>1</td>\n",
       "      <td>at_home</td>\n",
       "      <td>other</td>\n",
       "      <td>...</td>\n",
       "      <td>4</td>\n",
       "      <td>3</td>\n",
       "      <td>2</td>\n",
       "      <td>2</td>\n",
       "      <td>3</td>\n",
       "      <td>3</td>\n",
       "      <td>10</td>\n",
       "      <td>7</td>\n",
       "      <td>8</td>\n",
       "      <td>10</td>\n",
       "    </tr>\n",
       "    <tr>\n",
       "      <th>3</th>\n",
       "      <td>GP</td>\n",
       "      <td>F</td>\n",
       "      <td>15</td>\n",
       "      <td>U</td>\n",
       "      <td>GT3</td>\n",
       "      <td>T</td>\n",
       "      <td>4</td>\n",
       "      <td>2</td>\n",
       "      <td>health</td>\n",
       "      <td>services</td>\n",
       "      <td>...</td>\n",
       "      <td>3</td>\n",
       "      <td>2</td>\n",
       "      <td>2</td>\n",
       "      <td>1</td>\n",
       "      <td>1</td>\n",
       "      <td>5</td>\n",
       "      <td>2</td>\n",
       "      <td>15</td>\n",
       "      <td>14</td>\n",
       "      <td>15</td>\n",
       "    </tr>\n",
       "    <tr>\n",
       "      <th>4</th>\n",
       "      <td>GP</td>\n",
       "      <td>F</td>\n",
       "      <td>16</td>\n",
       "      <td>U</td>\n",
       "      <td>GT3</td>\n",
       "      <td>T</td>\n",
       "      <td>3</td>\n",
       "      <td>3</td>\n",
       "      <td>other</td>\n",
       "      <td>other</td>\n",
       "      <td>...</td>\n",
       "      <td>4</td>\n",
       "      <td>3</td>\n",
       "      <td>2</td>\n",
       "      <td>1</td>\n",
       "      <td>2</td>\n",
       "      <td>5</td>\n",
       "      <td>4</td>\n",
       "      <td>6</td>\n",
       "      <td>10</td>\n",
       "      <td>10</td>\n",
       "    </tr>\n",
       "  </tbody>\n",
       "</table>\n",
       "<p>5 rows × 33 columns</p>\n",
       "</div>"
      ],
      "text/plain": [
       "  school sex  age address famsize Pstatus  Medu  Fedu     Mjob      Fjob  ...  \\\n",
       "0     GP   F   18       U     GT3       A     4     4  at_home   teacher  ...   \n",
       "1     GP   F   17       U     GT3       T     1     1  at_home     other  ...   \n",
       "2     GP   F   15       U     LE3       T     1     1  at_home     other  ...   \n",
       "3     GP   F   15       U     GT3       T     4     2   health  services  ...   \n",
       "4     GP   F   16       U     GT3       T     3     3    other     other  ...   \n",
       "\n",
       "  famrel freetime  goout  Dalc  Walc health absences  G1  G2  G3  \n",
       "0      4        3      4     1     1      3        6   5   6   6  \n",
       "1      5        3      3     1     1      3        4   5   5   6  \n",
       "2      4        3      2     2     3      3       10   7   8  10  \n",
       "3      3        2      2     1     1      5        2  15  14  15  \n",
       "4      4        3      2     1     2      5        4   6  10  10  \n",
       "\n",
       "[5 rows x 33 columns]"
      ]
     },
     "execution_count": 34,
     "metadata": {},
     "output_type": "execute_result"
    }
   ],
   "source": [
    "# Look at the data\n",
    "students.head()"
   ]
  },
  {
   "cell_type": "code",
   "execution_count": 35,
   "metadata": {
    "colab": {
     "base_uri": "https://localhost:8080/"
    },
    "id": "6xK0EsZ__hzV",
    "outputId": "3ef2a8da-6fae-4305-96e0-6e0993af826b"
   },
   "outputs": [
    {
     "name": "stdout",
     "output_type": "stream",
     "text": [
      "<class 'pandas.core.frame.DataFrame'>\n",
      "RangeIndex: 395 entries, 0 to 394\n",
      "Data columns (total 33 columns):\n",
      " #   Column      Non-Null Count  Dtype \n",
      "---  ------      --------------  ----- \n",
      " 0   school      395 non-null    object\n",
      " 1   sex         395 non-null    object\n",
      " 2   age         395 non-null    int64 \n",
      " 3   address     395 non-null    object\n",
      " 4   famsize     395 non-null    object\n",
      " 5   Pstatus     395 non-null    object\n",
      " 6   Medu        395 non-null    int64 \n",
      " 7   Fedu        395 non-null    int64 \n",
      " 8   Mjob        395 non-null    object\n",
      " 9   Fjob        395 non-null    object\n",
      " 10  reason      395 non-null    object\n",
      " 11  guardian    395 non-null    object\n",
      " 12  traveltime  395 non-null    int64 \n",
      " 13  studytime   395 non-null    int64 \n",
      " 14  failures    395 non-null    int64 \n",
      " 15  schoolsup   395 non-null    object\n",
      " 16  famsup      395 non-null    object\n",
      " 17  paid        395 non-null    object\n",
      " 18  activities  395 non-null    object\n",
      " 19  nursery     395 non-null    object\n",
      " 20  higher      395 non-null    object\n",
      " 21  internet    395 non-null    object\n",
      " 22  romantic    395 non-null    object\n",
      " 23  famrel      395 non-null    int64 \n",
      " 24  freetime    395 non-null    int64 \n",
      " 25  goout       395 non-null    int64 \n",
      " 26  Dalc        395 non-null    int64 \n",
      " 27  Walc        395 non-null    int64 \n",
      " 28  health      395 non-null    int64 \n",
      " 29  absences    395 non-null    int64 \n",
      " 30  G1          395 non-null    int64 \n",
      " 31  G2          395 non-null    int64 \n",
      " 32  G3          395 non-null    int64 \n",
      "dtypes: int64(16), object(17)\n",
      "memory usage: 102.0+ KB\n"
     ]
    }
   ],
   "source": [
    "# Describe the data\n",
    "students.info()"
   ]
  },
  {
   "cell_type": "code",
   "execution_count": 36,
   "metadata": {
    "colab": {
     "base_uri": "https://localhost:8080/"
    },
    "id": "UOJUvSjX_mt6",
    "outputId": "28c62a86-948a-4861-bf94-17250c8c772f"
   },
   "outputs": [
    {
     "data": {
      "text/html": [
       "<div>\n",
       "<style scoped>\n",
       "    .dataframe tbody tr th:only-of-type {\n",
       "        vertical-align: middle;\n",
       "    }\n",
       "\n",
       "    .dataframe tbody tr th {\n",
       "        vertical-align: top;\n",
       "    }\n",
       "\n",
       "    .dataframe thead th {\n",
       "        text-align: right;\n",
       "    }\n",
       "</style>\n",
       "<table border=\"1\" class=\"dataframe\">\n",
       "  <thead>\n",
       "    <tr style=\"text-align: right;\">\n",
       "      <th></th>\n",
       "      <th>age</th>\n",
       "      <th>Medu</th>\n",
       "      <th>Fedu</th>\n",
       "      <th>traveltime</th>\n",
       "      <th>studytime</th>\n",
       "      <th>failures</th>\n",
       "      <th>famrel</th>\n",
       "      <th>freetime</th>\n",
       "      <th>goout</th>\n",
       "      <th>Dalc</th>\n",
       "      <th>Walc</th>\n",
       "      <th>health</th>\n",
       "      <th>absences</th>\n",
       "      <th>G1</th>\n",
       "      <th>G2</th>\n",
       "      <th>G3</th>\n",
       "    </tr>\n",
       "  </thead>\n",
       "  <tbody>\n",
       "    <tr>\n",
       "      <th>count</th>\n",
       "      <td>395.000000</td>\n",
       "      <td>395.000000</td>\n",
       "      <td>395.000000</td>\n",
       "      <td>395.000000</td>\n",
       "      <td>395.000000</td>\n",
       "      <td>395.000000</td>\n",
       "      <td>395.000000</td>\n",
       "      <td>395.000000</td>\n",
       "      <td>395.000000</td>\n",
       "      <td>395.000000</td>\n",
       "      <td>395.000000</td>\n",
       "      <td>395.000000</td>\n",
       "      <td>395.000000</td>\n",
       "      <td>395.000000</td>\n",
       "      <td>395.000000</td>\n",
       "      <td>395.000000</td>\n",
       "    </tr>\n",
       "    <tr>\n",
       "      <th>mean</th>\n",
       "      <td>16.696203</td>\n",
       "      <td>2.749367</td>\n",
       "      <td>2.521519</td>\n",
       "      <td>1.448101</td>\n",
       "      <td>2.035443</td>\n",
       "      <td>0.334177</td>\n",
       "      <td>3.944304</td>\n",
       "      <td>3.235443</td>\n",
       "      <td>3.108861</td>\n",
       "      <td>1.481013</td>\n",
       "      <td>2.291139</td>\n",
       "      <td>3.554430</td>\n",
       "      <td>5.708861</td>\n",
       "      <td>10.908861</td>\n",
       "      <td>10.713924</td>\n",
       "      <td>10.415190</td>\n",
       "    </tr>\n",
       "    <tr>\n",
       "      <th>std</th>\n",
       "      <td>1.276043</td>\n",
       "      <td>1.094735</td>\n",
       "      <td>1.088201</td>\n",
       "      <td>0.697505</td>\n",
       "      <td>0.839240</td>\n",
       "      <td>0.743651</td>\n",
       "      <td>0.896659</td>\n",
       "      <td>0.998862</td>\n",
       "      <td>1.113278</td>\n",
       "      <td>0.890741</td>\n",
       "      <td>1.287897</td>\n",
       "      <td>1.390303</td>\n",
       "      <td>8.003096</td>\n",
       "      <td>3.319195</td>\n",
       "      <td>3.761505</td>\n",
       "      <td>4.581443</td>\n",
       "    </tr>\n",
       "    <tr>\n",
       "      <th>min</th>\n",
       "      <td>15.000000</td>\n",
       "      <td>0.000000</td>\n",
       "      <td>0.000000</td>\n",
       "      <td>1.000000</td>\n",
       "      <td>1.000000</td>\n",
       "      <td>0.000000</td>\n",
       "      <td>1.000000</td>\n",
       "      <td>1.000000</td>\n",
       "      <td>1.000000</td>\n",
       "      <td>1.000000</td>\n",
       "      <td>1.000000</td>\n",
       "      <td>1.000000</td>\n",
       "      <td>0.000000</td>\n",
       "      <td>3.000000</td>\n",
       "      <td>0.000000</td>\n",
       "      <td>0.000000</td>\n",
       "    </tr>\n",
       "    <tr>\n",
       "      <th>25%</th>\n",
       "      <td>16.000000</td>\n",
       "      <td>2.000000</td>\n",
       "      <td>2.000000</td>\n",
       "      <td>1.000000</td>\n",
       "      <td>1.000000</td>\n",
       "      <td>0.000000</td>\n",
       "      <td>4.000000</td>\n",
       "      <td>3.000000</td>\n",
       "      <td>2.000000</td>\n",
       "      <td>1.000000</td>\n",
       "      <td>1.000000</td>\n",
       "      <td>3.000000</td>\n",
       "      <td>0.000000</td>\n",
       "      <td>8.000000</td>\n",
       "      <td>9.000000</td>\n",
       "      <td>8.000000</td>\n",
       "    </tr>\n",
       "    <tr>\n",
       "      <th>50%</th>\n",
       "      <td>17.000000</td>\n",
       "      <td>3.000000</td>\n",
       "      <td>2.000000</td>\n",
       "      <td>1.000000</td>\n",
       "      <td>2.000000</td>\n",
       "      <td>0.000000</td>\n",
       "      <td>4.000000</td>\n",
       "      <td>3.000000</td>\n",
       "      <td>3.000000</td>\n",
       "      <td>1.000000</td>\n",
       "      <td>2.000000</td>\n",
       "      <td>4.000000</td>\n",
       "      <td>4.000000</td>\n",
       "      <td>11.000000</td>\n",
       "      <td>11.000000</td>\n",
       "      <td>11.000000</td>\n",
       "    </tr>\n",
       "    <tr>\n",
       "      <th>75%</th>\n",
       "      <td>18.000000</td>\n",
       "      <td>4.000000</td>\n",
       "      <td>3.000000</td>\n",
       "      <td>2.000000</td>\n",
       "      <td>2.000000</td>\n",
       "      <td>0.000000</td>\n",
       "      <td>5.000000</td>\n",
       "      <td>4.000000</td>\n",
       "      <td>4.000000</td>\n",
       "      <td>2.000000</td>\n",
       "      <td>3.000000</td>\n",
       "      <td>5.000000</td>\n",
       "      <td>8.000000</td>\n",
       "      <td>13.000000</td>\n",
       "      <td>13.000000</td>\n",
       "      <td>14.000000</td>\n",
       "    </tr>\n",
       "    <tr>\n",
       "      <th>max</th>\n",
       "      <td>22.000000</td>\n",
       "      <td>4.000000</td>\n",
       "      <td>4.000000</td>\n",
       "      <td>4.000000</td>\n",
       "      <td>4.000000</td>\n",
       "      <td>3.000000</td>\n",
       "      <td>5.000000</td>\n",
       "      <td>5.000000</td>\n",
       "      <td>5.000000</td>\n",
       "      <td>5.000000</td>\n",
       "      <td>5.000000</td>\n",
       "      <td>5.000000</td>\n",
       "      <td>75.000000</td>\n",
       "      <td>19.000000</td>\n",
       "      <td>19.000000</td>\n",
       "      <td>20.000000</td>\n",
       "    </tr>\n",
       "  </tbody>\n",
       "</table>\n",
       "</div>"
      ],
      "text/plain": [
       "              age        Medu        Fedu  traveltime   studytime    failures  \\\n",
       "count  395.000000  395.000000  395.000000  395.000000  395.000000  395.000000   \n",
       "mean    16.696203    2.749367    2.521519    1.448101    2.035443    0.334177   \n",
       "std      1.276043    1.094735    1.088201    0.697505    0.839240    0.743651   \n",
       "min     15.000000    0.000000    0.000000    1.000000    1.000000    0.000000   \n",
       "25%     16.000000    2.000000    2.000000    1.000000    1.000000    0.000000   \n",
       "50%     17.000000    3.000000    2.000000    1.000000    2.000000    0.000000   \n",
       "75%     18.000000    4.000000    3.000000    2.000000    2.000000    0.000000   \n",
       "max     22.000000    4.000000    4.000000    4.000000    4.000000    3.000000   \n",
       "\n",
       "           famrel    freetime       goout        Dalc        Walc      health  \\\n",
       "count  395.000000  395.000000  395.000000  395.000000  395.000000  395.000000   \n",
       "mean     3.944304    3.235443    3.108861    1.481013    2.291139    3.554430   \n",
       "std      0.896659    0.998862    1.113278    0.890741    1.287897    1.390303   \n",
       "min      1.000000    1.000000    1.000000    1.000000    1.000000    1.000000   \n",
       "25%      4.000000    3.000000    2.000000    1.000000    1.000000    3.000000   \n",
       "50%      4.000000    3.000000    3.000000    1.000000    2.000000    4.000000   \n",
       "75%      5.000000    4.000000    4.000000    2.000000    3.000000    5.000000   \n",
       "max      5.000000    5.000000    5.000000    5.000000    5.000000    5.000000   \n",
       "\n",
       "         absences          G1          G2          G3  \n",
       "count  395.000000  395.000000  395.000000  395.000000  \n",
       "mean     5.708861   10.908861   10.713924   10.415190  \n",
       "std      8.003096    3.319195    3.761505    4.581443  \n",
       "min      0.000000    3.000000    0.000000    0.000000  \n",
       "25%      0.000000    8.000000    9.000000    8.000000  \n",
       "50%      4.000000   11.000000   11.000000   11.000000  \n",
       "75%      8.000000   13.000000   13.000000   14.000000  \n",
       "max     75.000000   19.000000   19.000000   20.000000  "
      ]
     },
     "execution_count": 36,
     "metadata": {},
     "output_type": "execute_result"
    }
   ],
   "source": [
    "# Analyze the data\n",
    "students.describe()"
   ]
  },
  {
   "cell_type": "markdown",
   "metadata": {
    "id": "me5jQK7b_5Cn"
   },
   "source": [
    "The average grade mark for the class sits at around 10 or 11, perfectly average which is to be expected."
   ]
  },
  {
   "cell_type": "code",
   "execution_count": 37,
   "metadata": {
    "colab": {
     "base_uri": "https://localhost:8080/"
    },
    "id": "WoFY-t84ABMe",
    "outputId": "1f7ab836-b42d-4368-9aa4-35bfb222e198"
   },
   "outputs": [
    {
     "data": {
      "text/plain": [
       "array([[<AxesSubplot:title={'center':'age'}>,\n",
       "        <AxesSubplot:title={'center':'Medu'}>,\n",
       "        <AxesSubplot:title={'center':'Fedu'}>,\n",
       "        <AxesSubplot:title={'center':'traveltime'}>],\n",
       "       [<AxesSubplot:title={'center':'studytime'}>,\n",
       "        <AxesSubplot:title={'center':'failures'}>,\n",
       "        <AxesSubplot:title={'center':'famrel'}>,\n",
       "        <AxesSubplot:title={'center':'freetime'}>],\n",
       "       [<AxesSubplot:title={'center':'goout'}>,\n",
       "        <AxesSubplot:title={'center':'Dalc'}>,\n",
       "        <AxesSubplot:title={'center':'Walc'}>,\n",
       "        <AxesSubplot:title={'center':'health'}>],\n",
       "       [<AxesSubplot:title={'center':'absences'}>,\n",
       "        <AxesSubplot:title={'center':'G1'}>,\n",
       "        <AxesSubplot:title={'center':'G2'}>,\n",
       "        <AxesSubplot:title={'center':'G3'}>]], dtype=object)"
      ]
     },
     "execution_count": 37,
     "metadata": {},
     "output_type": "execute_result"
    },
    {
     "data": {
      "image/png": "[encoded data removed]",
      "text/plain": [
       "<Figure size 2000x1500 with 16 Axes>"
      ]
     },
     "metadata": {},
     "output_type": "display_data"
    }
   ],
   "source": [
    "# Look at the data as histograms\n",
    "students.hist(figsize=(20,15))"
   ]
  },
  {
   "cell_type": "code",
   "execution_count": 38,
   "metadata": {
    "colab": {
     "base_uri": "https://localhost:8080/"
    },
    "id": "Oy00pceSBJw9",
    "outputId": "9805e82c-6f1e-4763-9fde-c357c330fb48"
   },
   "outputs": [
    {
     "data": {
      "text/plain": [
       "G3            1.000000\n",
       "G2            0.904868\n",
       "G1            0.801468\n",
       "Medu          0.217147\n",
       "Fedu          0.152457\n",
       "studytime     0.097820\n",
       "famrel        0.051363\n",
       "absences      0.034247\n",
       "freetime      0.011307\n",
       "Walc         -0.051939\n",
       "Dalc         -0.054660\n",
       "health       -0.061335\n",
       "traveltime   -0.117142\n",
       "goout        -0.132791\n",
       "age          -0.161579\n",
       "failures     -0.360415\n",
       "Name: G3, dtype: float64"
      ]
     },
     "execution_count": 38,
     "metadata": {},
     "output_type": "execute_result"
    }
   ],
   "source": [
    "# Attribute correlation\n",
    "\n",
    "corr_matrix = students.corr()\n",
    "corr_matrix['G3'].sort_values(ascending=False)"
   ]
  },
  {
   "cell_type": "markdown",
   "metadata": {
    "id": "XPp0_GssCHsR"
   },
   "source": [
    "# Data Preparation"
   ]
  },
  {
   "cell_type": "markdown",
   "metadata": {
    "id": "DJmAQrnBKGPI"
   },
   "source": [
    "## Binning"
   ]
  },
  {
   "cell_type": "markdown",
   "metadata": {
    "id": "e8Z42XFnEECQ"
   },
   "source": [
    "The begin with we bin the G3 results of students into categories of A, B, C or Fail grades."
   ]
  },
  {
   "cell_type": "code",
   "execution_count": 39,
   "metadata": {
    "colab": {
     "base_uri": "https://localhost:8080/"
    },
    "id": "pw2U9YwYZN1p",
    "outputId": "6b1b0edf-69b4-492e-9642-f1c6c7e2572f"
   },
   "outputs": [
    {
     "data": {
      "text/plain": [
       "<AxesSubplot:>"
      ]
     },
     "execution_count": 39,
     "metadata": {},
     "output_type": "execute_result"
    },
    {
     "data": {
      "image/png": "[encoded data removed]",
      "text/plain": [
       "<Figure size 640x480 with 1 Axes>"
      ]
     },
     "metadata": {},
     "output_type": "display_data"
    }
   ],
   "source": [
    "students['G1'].hist()"
   ]
  },
  {
   "cell_type": "code",
   "execution_count": 40,
   "metadata": {
    "colab": {
     "base_uri": "https://localhost:8080/"
    },
    "id": "57cO5Wkoz5fT",
    "outputId": "a32c6315-51df-4b04-c0ab-a6a0aca59652"
   },
   "outputs": [
    {
     "data": {
      "text/plain": [
       "<AxesSubplot:>"
      ]
     },
     "execution_count": 40,
     "metadata": {},
     "output_type": "execute_result"
    },
    {
     "data": {
      "image/png": "[encoded data removed]",
      "text/plain": [
       "<Figure size 640x480 with 1 Axes>"
      ]
     },
     "metadata": {},
     "output_type": "display_data"
    }
   ],
   "source": [
    "students['G2'].hist()"
   ]
  },
  {
   "cell_type": "code",
   "execution_count": 41,
   "metadata": {
    "colab": {
     "base_uri": "https://localhost:8080/"
    },
    "id": "FcfZkbPgz6wo",
    "outputId": "d7a80245-94a5-451a-c979-1887de40132b"
   },
   "outputs": [
    {
     "data": {
      "text/plain": [
       "<AxesSubplot:>"
      ]
     },
     "execution_count": 41,
     "metadata": {},
     "output_type": "execute_result"
    },
    {
     "data": {
      "image/png": "[encoded data removed]",
      "text/plain": [
       "<Figure size 640x480 with 1 Axes>"
      ]
     },
     "metadata": {},
     "output_type": "display_data"
    }
   ],
   "source": [
    "students['G3'].hist()"
   ]
  },
  {
   "cell_type": "code",
   "execution_count": 42,
   "metadata": {
    "id": "rXvF0CPpZWzI"
   },
   "outputs": [],
   "source": [
    "# Sort Grade 3 results into A,B,C and Fail Grades\n",
    "# A >= 70%\n",
    "# B >= 60%\n",
    "# C >= 50%\n",
    "# Fail < 70%\n",
    "\n",
    "def bin_grades(dataset):\n",
    "  dataset['G3_cat'] = pd.cut(dataset['G3'],\n",
    "                            bins=[-np.inf, 9.0, 11.0, 13.0, 20],\n",
    "                            labels=['Fail', 'C', 'B', 'A'])"
   ]
  },
  {
   "cell_type": "code",
   "execution_count": 43,
   "metadata": {
    "colab": {
     "base_uri": "https://localhost:8080/"
    },
    "id": "EraI75iPKlsC",
    "outputId": "c14c4339-0992-431e-b109-53bf16d5ab17"
   },
   "outputs": [
    {
     "data": {
      "text/plain": [
       "<AxesSubplot:>"
      ]
     },
     "execution_count": 43,
     "metadata": {},
     "output_type": "execute_result"
    },
    {
     "data": {
      "image/png": "[encoded data removed]",
      "text/plain": [
       "<Figure size 640x480 with 1 Axes>"
      ]
     },
     "metadata": {},
     "output_type": "display_data"
    }
   ],
   "source": [
    "bin_grades(students)\n",
    "students['G3_cat'].hist()"
   ]
  },
  {
   "cell_type": "markdown",
   "metadata": {
    "id": "_wu7o4K_G4U1"
   },
   "source": [
    "## Data Subsets"
   ]
  },
  {
   "cell_type": "markdown",
   "metadata": {
    "id": "jKL4yer5G-5F"
   },
   "source": [
    "In order to find relationships between the features of our data we will split the data into smaller datasets.\n",
    "\n",
    "activities_data - This dataset will contain infortmation relating to a students extra-cirricular activities\n",
    "\n",
    "family_data - This dataset will contain information relating to a students family life.\n",
    "\n",
    "school_data - This dataset will contain information relating to a students school and study habits.\n",
    "\n",
    "personal_data - This dataset contains information relating to the invdividuals lifestyle and health"
   ]
  },
  {
   "cell_type": "code",
   "execution_count": 78,
   "metadata": {
    "id": "DNSJVH9pHfgs"
   },
   "outputs": [],
   "source": [
    "activities_data = students[['activities','romantic','freetime','goout','Dalc','Walc','G1','G2','G3','G3_cat']]\n",
    "family_data = students[['famsize','Pstatus','Medu','Fedu','Mjob','Fjob','guardian','famsup','internet','G3_cat']]\n",
    "school_data = students[['school','studytime','failures','schoolsup','paid','nursery','higher','absences','G3_cat']]#,'G1','G2','G3','G3_cat']]\n",
    "personal_data = students[['school','sex','age','Dalc','Walc','health','absences','G1','G2','G3','G3_cat']]\n",
    "\n",
    "subsets = [activities_data, family_data, school_data, personal_data]"
   ]
  },
  {
   "cell_type": "code",
   "execution_count": 45,
   "metadata": {
    "colab": {
     "base_uri": "https://localhost:8080/"
    },
    "id": "lYPltL1w8A8e",
    "outputId": "51e7d501-eb7d-4654-8c2e-681d7c76253d"
   },
   "outputs": [
    {
     "name": "stdout",
     "output_type": "stream",
     "text": [
      "    activities romantic  freetime  goout  Dalc  Walc  G1  G2  G3 G3_cat\n",
      "0           no       no         3      4     1     1   5   6   6   Fail\n",
      "1           no       no         3      3     1     1   5   5   6   Fail\n",
      "2           no       no         3      2     2     3   7   8  10      C\n",
      "3          yes      yes         2      2     1     1  15  14  15      A\n",
      "4           no       no         3      2     1     2   6  10  10      C\n",
      "..         ...      ...       ...    ...   ...   ...  ..  ..  ..    ...\n",
      "390         no       no         5      4     4     5   9   9   9   Fail\n",
      "391         no       no         4      5     3     4  14  16  16      A\n",
      "392         no       no         5      3     3     3  10   8   7   Fail\n",
      "393         no       no         4      1     3     4  11  12  10      C\n",
      "394         no       no         2      3     3     3   8   9   9   Fail\n",
      "\n",
      "[395 rows x 10 columns]\n",
      "    famsize Pstatus  Medu  Fedu      Mjob      Fjob guardian famsup internet  \\\n",
      "0       GT3       A     4     4   at_home   teacher   mother     no       no   \n",
      "1       GT3       T     1     1   at_home     other   father    yes      yes   \n",
      "2       LE3       T     1     1   at_home     other   mother     no      yes   \n",
      "3       GT3       T     4     2    health  services   mother    yes      yes   \n",
      "4       GT3       T     3     3     other     other   father    yes       no   \n",
      "..      ...     ...   ...   ...       ...       ...      ...    ...      ...   \n",
      "390     LE3       A     2     2  services  services    other    yes       no   \n",
      "391     LE3       T     3     1  services  services   mother     no      yes   \n",
      "392     GT3       T     1     1     other     other    other     no       no   \n",
      "393     LE3       T     3     2  services     other   mother     no      yes   \n",
      "394     LE3       T     1     1     other   at_home   father     no      yes   \n",
      "\n",
      "     G1  G2  G3 G3_cat  \n",
      "0     5   6   6   Fail  \n",
      "1     5   5   6   Fail  \n",
      "2     7   8  10      C  \n",
      "3    15  14  15      A  \n",
      "4     6  10  10      C  \n",
      "..   ..  ..  ..    ...  \n",
      "390   9   9   9   Fail  \n",
      "391  14  16  16      A  \n",
      "392  10   8   7   Fail  \n",
      "393  11  12  10      C  \n",
      "394   8   9   9   Fail  \n",
      "\n",
      "[395 rows x 13 columns]\n",
      "    school  studytime  failures schoolsup paid nursery higher  absences  G1  \\\n",
      "0       GP          2         0       yes   no     yes    yes         6   5   \n",
      "1       GP          2         0        no   no      no    yes         4   5   \n",
      "2       GP          2         3       yes  yes     yes    yes        10   7   \n",
      "3       GP          3         0        no  yes     yes    yes         2  15   \n",
      "4       GP          2         0        no  yes     yes    yes         4   6   \n",
      "..     ...        ...       ...       ...  ...     ...    ...       ...  ..   \n",
      "390     MS          2         2        no  yes     yes    yes        11   9   \n",
      "391     MS          1         0        no   no      no    yes         3  14   \n",
      "392     MS          1         3        no   no      no    yes         3  10   \n",
      "393     MS          1         0        no   no      no    yes         0  11   \n",
      "394     MS          1         0        no   no     yes    yes         5   8   \n",
      "\n",
      "     G2  G3 G3_cat  \n",
      "0     6   6   Fail  \n",
      "1     5   6   Fail  \n",
      "2     8  10      C  \n",
      "3    14  15      A  \n",
      "4    10  10      C  \n",
      "..   ..  ..    ...  \n",
      "390   9   9   Fail  \n",
      "391  16  16      A  \n",
      "392   8   7   Fail  \n",
      "393  12  10      C  \n",
      "394   9   9   Fail  \n",
      "\n",
      "[395 rows x 12 columns]\n",
      "    school sex  age  Dalc  Walc  health  absences  G1  G2  G3 G3_cat\n",
      "0       GP   F   18     1     1       3         6   5   6   6   Fail\n",
      "1       GP   F   17     1     1       3         4   5   5   6   Fail\n",
      "2       GP   F   15     2     3       3        10   7   8  10      C\n",
      "3       GP   F   15     1     1       5         2  15  14  15      A\n",
      "4       GP   F   16     1     2       5         4   6  10  10      C\n",
      "..     ...  ..  ...   ...   ...     ...       ...  ..  ..  ..    ...\n",
      "390     MS   M   20     4     5       4        11   9   9   9   Fail\n",
      "391     MS   M   17     3     4       2         3  14  16  16      A\n",
      "392     MS   M   21     3     3       3         3  10   8   7   Fail\n",
      "393     MS   M   18     3     4       5         0  11  12  10      C\n",
      "394     MS   M   19     3     3       5         5   8   9   9   Fail\n",
      "\n",
      "[395 rows x 11 columns]\n"
     ]
    }
   ],
   "source": [
    "for set in subsets:\n",
    "  print(set)"
   ]
  },
  {
   "cell_type": "markdown",
   "metadata": {
    "id": "wUfbKg0nLTQe"
   },
   "source": [
    "## Stratified Splitting"
   ]
  },
  {
   "cell_type": "code",
   "execution_count": 46,
   "metadata": {
    "id": "mHrmhfkUIW7K"
   },
   "outputs": [],
   "source": [
    "# Can also do stratified data split\n",
    "from sklearn.model_selection import StratifiedShuffleSplit\n",
    "\n",
    "split = StratifiedShuffleSplit(n_splits=1, test_size=0.2, random_state=42)\n",
    "\n",
    "def split_dataset(data):\n",
    "  for train_index, test_index in split.split(data, data[\"G3_cat\"]):\n",
    "      strat_train_set = data.loc[train_index]\n",
    "      strat_test_set = data.loc[test_index]\n",
    "  return strat_train_set, strat_test_set"
   ]
  },
  {
   "cell_type": "code",
   "execution_count": 98,
   "metadata": {
    "id": "yqrrzQMYLtGY"
   },
   "outputs": [],
   "source": [
    "activities_train, activities_test = split_dataset(activities_data)\n",
    "activities_target = activities_train['G3_cat'].copy()\n",
    "\n",
    "family_train, family_test = split_dataset(family_data)\n",
    "family_target = family_train['G3_cat'].copy()\n",
    "family_train, family_test = family_train.drop(['G3_cat'], axis=1), family_test.drop(['G3_cat'], axis=1)\n",
    "\n",
    "school_train, school_test = split_dataset(school_data)\n",
    "school_target = school_train['G3_cat'].copy()\n",
    "school_train, school_test = school_train.drop(['G3_cat'], axis=1), school_test.drop(['G3_cat'], axis=1)\n",
    "\n",
    "personal_train, personal_test = split_dataset(personal_data)\n",
    "personal_target = personal_train['G3_cat'].copy()"
   ]
  },
  {
   "cell_type": "code",
   "execution_count": 99,
   "metadata": {
    "colab": {
     "base_uri": "https://localhost:8080/"
    },
    "id": "GqJcrLB5alkd",
    "outputId": "853b8be3-efa5-41ba-8524-49fefcde70d0"
   },
   "outputs": [
    {
     "data": {
      "text/html": [
       "<div>\n",
       "<style scoped>\n",
       "    .dataframe tbody tr th:only-of-type {\n",
       "        vertical-align: middle;\n",
       "    }\n",
       "\n",
       "    .dataframe tbody tr th {\n",
       "        vertical-align: top;\n",
       "    }\n",
       "\n",
       "    .dataframe thead th {\n",
       "        text-align: right;\n",
       "    }\n",
       "</style>\n",
       "<table border=\"1\" class=\"dataframe\">\n",
       "  <thead>\n",
       "    <tr style=\"text-align: right;\">\n",
       "      <th></th>\n",
       "      <th>famsize</th>\n",
       "      <th>Pstatus</th>\n",
       "      <th>Medu</th>\n",
       "      <th>Fedu</th>\n",
       "      <th>Mjob</th>\n",
       "      <th>Fjob</th>\n",
       "      <th>guardian</th>\n",
       "      <th>famsup</th>\n",
       "      <th>internet</th>\n",
       "    </tr>\n",
       "  </thead>\n",
       "  <tbody>\n",
       "    <tr>\n",
       "      <th>107</th>\n",
       "      <td>GT3</td>\n",
       "      <td>T</td>\n",
       "      <td>3</td>\n",
       "      <td>3</td>\n",
       "      <td>services</td>\n",
       "      <td>other</td>\n",
       "      <td>father</td>\n",
       "      <td>yes</td>\n",
       "      <td>yes</td>\n",
       "    </tr>\n",
       "    <tr>\n",
       "      <th>355</th>\n",
       "      <td>GT3</td>\n",
       "      <td>T</td>\n",
       "      <td>3</td>\n",
       "      <td>3</td>\n",
       "      <td>services</td>\n",
       "      <td>services</td>\n",
       "      <td>father</td>\n",
       "      <td>yes</td>\n",
       "      <td>no</td>\n",
       "    </tr>\n",
       "    <tr>\n",
       "      <th>121</th>\n",
       "      <td>GT3</td>\n",
       "      <td>T</td>\n",
       "      <td>2</td>\n",
       "      <td>2</td>\n",
       "      <td>services</td>\n",
       "      <td>services</td>\n",
       "      <td>father</td>\n",
       "      <td>yes</td>\n",
       "      <td>yes</td>\n",
       "    </tr>\n",
       "    <tr>\n",
       "      <th>36</th>\n",
       "      <td>LE3</td>\n",
       "      <td>T</td>\n",
       "      <td>4</td>\n",
       "      <td>3</td>\n",
       "      <td>teacher</td>\n",
       "      <td>services</td>\n",
       "      <td>mother</td>\n",
       "      <td>yes</td>\n",
       "      <td>yes</td>\n",
       "    </tr>\n",
       "    <tr>\n",
       "      <th>112</th>\n",
       "      <td>GT3</td>\n",
       "      <td>T</td>\n",
       "      <td>2</td>\n",
       "      <td>2</td>\n",
       "      <td>at_home</td>\n",
       "      <td>other</td>\n",
       "      <td>mother</td>\n",
       "      <td>no</td>\n",
       "      <td>yes</td>\n",
       "    </tr>\n",
       "    <tr>\n",
       "      <th>...</th>\n",
       "      <td>...</td>\n",
       "      <td>...</td>\n",
       "      <td>...</td>\n",
       "      <td>...</td>\n",
       "      <td>...</td>\n",
       "      <td>...</td>\n",
       "      <td>...</td>\n",
       "      <td>...</td>\n",
       "      <td>...</td>\n",
       "    </tr>\n",
       "    <tr>\n",
       "      <th>46</th>\n",
       "      <td>LE3</td>\n",
       "      <td>A</td>\n",
       "      <td>3</td>\n",
       "      <td>3</td>\n",
       "      <td>other</td>\n",
       "      <td>services</td>\n",
       "      <td>mother</td>\n",
       "      <td>yes</td>\n",
       "      <td>yes</td>\n",
       "    </tr>\n",
       "    <tr>\n",
       "      <th>278</th>\n",
       "      <td>GT3</td>\n",
       "      <td>T</td>\n",
       "      <td>4</td>\n",
       "      <td>4</td>\n",
       "      <td>health</td>\n",
       "      <td>health</td>\n",
       "      <td>father</td>\n",
       "      <td>yes</td>\n",
       "      <td>yes</td>\n",
       "    </tr>\n",
       "    <tr>\n",
       "      <th>96</th>\n",
       "      <td>GT3</td>\n",
       "      <td>T</td>\n",
       "      <td>4</td>\n",
       "      <td>3</td>\n",
       "      <td>services</td>\n",
       "      <td>other</td>\n",
       "      <td>mother</td>\n",
       "      <td>yes</td>\n",
       "      <td>yes</td>\n",
       "    </tr>\n",
       "    <tr>\n",
       "      <th>126</th>\n",
       "      <td>LE3</td>\n",
       "      <td>A</td>\n",
       "      <td>3</td>\n",
       "      <td>4</td>\n",
       "      <td>other</td>\n",
       "      <td>other</td>\n",
       "      <td>mother</td>\n",
       "      <td>no</td>\n",
       "      <td>yes</td>\n",
       "    </tr>\n",
       "    <tr>\n",
       "      <th>14</th>\n",
       "      <td>GT3</td>\n",
       "      <td>A</td>\n",
       "      <td>2</td>\n",
       "      <td>2</td>\n",
       "      <td>other</td>\n",
       "      <td>other</td>\n",
       "      <td>other</td>\n",
       "      <td>yes</td>\n",
       "      <td>yes</td>\n",
       "    </tr>\n",
       "  </tbody>\n",
       "</table>\n",
       "<p>316 rows × 9 columns</p>\n",
       "</div>"
      ],
      "text/plain": [
       "    famsize Pstatus  Medu  Fedu      Mjob      Fjob guardian famsup internet\n",
       "107     GT3       T     3     3  services     other   father    yes      yes\n",
       "355     GT3       T     3     3  services  services   father    yes       no\n",
       "121     GT3       T     2     2  services  services   father    yes      yes\n",
       "36      LE3       T     4     3   teacher  services   mother    yes      yes\n",
       "112     GT3       T     2     2   at_home     other   mother     no      yes\n",
       "..      ...     ...   ...   ...       ...       ...      ...    ...      ...\n",
       "46      LE3       A     3     3     other  services   mother    yes      yes\n",
       "278     GT3       T     4     4    health    health   father    yes      yes\n",
       "96      GT3       T     4     3  services     other   mother    yes      yes\n",
       "126     LE3       A     3     4     other     other   mother     no      yes\n",
       "14      GT3       A     2     2     other     other    other    yes      yes\n",
       "\n",
       "[316 rows x 9 columns]"
      ]
     },
     "execution_count": 99,
     "metadata": {},
     "output_type": "execute_result"
    }
   ],
   "source": [
    "family_train"
   ]
  },
  {
   "cell_type": "code",
   "execution_count": 85,
   "metadata": {
    "colab": {
     "base_uri": "https://localhost:8080/"
    },
    "id": "UJI_IbkPbtjE",
    "outputId": "8ec34ff4-86d0-42a5-aa55-3175af861e43"
   },
   "outputs": [
    {
     "data": {
      "text/plain": [
       "10    56\n",
       "11    47\n",
       "0     38\n",
       "15    33\n",
       "8     32\n",
       "13    31\n",
       "12    31\n",
       "9     28\n",
       "14    27\n",
       "16    16\n",
       "6     15\n",
       "18    12\n",
       "7      9\n",
       "5      7\n",
       "17     6\n",
       "19     5\n",
       "20     1\n",
       "4      1\n",
       "Name: G3, dtype: int64"
      ]
     },
     "execution_count": 85,
     "metadata": {},
     "output_type": "execute_result"
    }
   ],
   "source": [
    "\"\"\"\n",
    "  Fail: 130\n",
    "  C: 103\n",
    "  B: 62\n",
    "  A: 100\n",
    "\"\"\"\n",
    "activities_data['G3'].value_counts()"
   ]
  },
  {
   "cell_type": "code",
   "execution_count": 50,
   "metadata": {
    "colab": {
     "base_uri": "https://localhost:8080/",
     "height": 283
    },
    "id": "0qq23dBlbNdH",
    "outputId": "e85ebfc9-2bc4-4e8d-804c-c52c2dfe73ab"
   },
   "outputs": [
    {
     "data": {
      "text/plain": [
       "<AxesSubplot:>"
      ]
     },
     "execution_count": 50,
     "metadata": {},
     "output_type": "execute_result"
    },
    {
     "data": {
      "image/png": "[encoded data removed]",
      "text/plain": [
       "<Figure size 640x480 with 1 Axes>"
      ]
     },
     "metadata": {},
     "output_type": "display_data"
    }
   ],
   "source": [
    "activities_data['G3_cat'].hist()"
   ]
  },
  {
   "cell_type": "code",
   "execution_count": 51,
   "metadata": {
    "id": "EVzMajQpNur-"
   },
   "outputs": [],
   "source": [
    "# dropping the g3_cat for later things\n",
    "# activities_data = activities_data.drop(['G3_cat'], axis=1)"
   ]
  },
  {
   "cell_type": "markdown",
   "metadata": {
    "id": "-uRLrpffQ3bd"
   },
   "source": [
    "This sections makes sure that all of the datasets have proportional classes"
   ]
  },
  {
   "cell_type": "markdown",
   "metadata": {
    "id": "CXQ266m4J9r5"
   },
   "source": [
    "## Pipeline"
   ]
  },
  {
   "cell_type": "code",
   "execution_count": 101,
   "metadata": {
    "colab": {
     "base_uri": "https://localhost:8080/"
    },
    "id": "seZCG2KSILD0",
    "outputId": "0cfa7144-5c42-40fc-8a41-2e092b1f2e65"
   },
   "outputs": [
    {
     "name": "stdout",
     "output_type": "stream",
     "text": [
      "['freetime', 'goout', 'Dalc', 'Walc', 'G1', 'G2', 'G3'] ['activities', 'romantic', 'G3_cat']\n",
      "['age', 'Dalc', 'Walc', 'health', 'absences', 'G1', 'G2', 'G3'] ['school', 'sex', 'G3_cat']\n",
      "['studytime', 'failures', 'absences'] ['school', 'schoolsup', 'paid', 'nursery', 'higher']\n",
      "['Medu', 'Fedu'] ['famsize', 'Pstatus', 'Mjob', 'Fjob', 'guardian', 'famsup', 'internet']\n"
     ]
    }
   ],
   "source": [
    "# Pipeline\n",
    "from sklearn.pipeline import Pipeline\n",
    "from sklearn.preprocessing import MinMaxScaler\n",
    "from sklearn.impute import SimpleImputer\n",
    "from sklearn.compose import ColumnTransformer\n",
    "from sklearn.preprocessing import OneHotEncoder\n",
    "from sklearn.preprocessing import OrdinalEncoder\n",
    "\n",
    "def get_types(dataset):\n",
    "  num_attr = list(dataset.select_dtypes(include='number'))\n",
    "  cat_attr = list(dataset.select_dtypes(exclude='number'))\n",
    "  print(num_attr, cat_attr)\n",
    "  return num_attr, cat_attr\n",
    "\n",
    "act_num, act_cat = get_types(activities_data)\n",
    "prsnl_num, prsnl_cat = get_types(personal_data)\n",
    "school_num, school_cat = get_types(school_train)\n",
    "fam_num, fam_cat = get_types(family_train)\n",
    "\n",
    "num_pipeline = Pipeline([\n",
    "      ('MnMx_scaler', MinMaxScaler()),\n",
    "  ])\n",
    "cat_pipeline = OrdinalEncoder()\n",
    "\n",
    "full_pipeline =  ColumnTransformer(\n",
    "    transformers=[\n",
    "        (\"num\", num_pipeline, fam_num),#  Apply the numerical transformation to the all numeric columns\n",
    "        (\"cat\", cat_pipeline, fam_cat), # Apply the One Hot Encoding to the all categorical columns\n",
    "  ])"
   ]
  },
  {
   "cell_type": "code",
   "execution_count": 87,
   "metadata": {
    "colab": {
     "base_uri": "https://localhost:8080/",
     "height": 423
    },
    "id": "um8I6WjsXKeT",
    "outputId": "7048dbb8-1c9b-4a68-cc09-1cf7322f36a4"
   },
   "outputs": [
    {
     "data": {
      "text/html": [
       "<div>\n",
       "<style scoped>\n",
       "    .dataframe tbody tr th:only-of-type {\n",
       "        vertical-align: middle;\n",
       "    }\n",
       "\n",
       "    .dataframe tbody tr th {\n",
       "        vertical-align: top;\n",
       "    }\n",
       "\n",
       "    .dataframe thead th {\n",
       "        text-align: right;\n",
       "    }\n",
       "</style>\n",
       "<table border=\"1\" class=\"dataframe\">\n",
       "  <thead>\n",
       "    <tr style=\"text-align: right;\">\n",
       "      <th></th>\n",
       "      <th>absences</th>\n",
       "      <th>G1</th>\n",
       "      <th>G2</th>\n",
       "      <th>G3</th>\n",
       "    </tr>\n",
       "  </thead>\n",
       "  <tbody>\n",
       "    <tr>\n",
       "      <th>107</th>\n",
       "      <td>2</td>\n",
       "      <td>16</td>\n",
       "      <td>18</td>\n",
       "      <td>18</td>\n",
       "    </tr>\n",
       "    <tr>\n",
       "      <th>355</th>\n",
       "      <td>0</td>\n",
       "      <td>10</td>\n",
       "      <td>9</td>\n",
       "      <td>9</td>\n",
       "    </tr>\n",
       "    <tr>\n",
       "      <th>121</th>\n",
       "      <td>6</td>\n",
       "      <td>16</td>\n",
       "      <td>14</td>\n",
       "      <td>15</td>\n",
       "    </tr>\n",
       "    <tr>\n",
       "      <th>36</th>\n",
       "      <td>2</td>\n",
       "      <td>15</td>\n",
       "      <td>16</td>\n",
       "      <td>18</td>\n",
       "    </tr>\n",
       "    <tr>\n",
       "      <th>112</th>\n",
       "      <td>6</td>\n",
       "      <td>10</td>\n",
       "      <td>13</td>\n",
       "      <td>13</td>\n",
       "    </tr>\n",
       "    <tr>\n",
       "      <th>...</th>\n",
       "      <td>...</td>\n",
       "      <td>...</td>\n",
       "      <td>...</td>\n",
       "      <td>...</td>\n",
       "    </tr>\n",
       "    <tr>\n",
       "      <th>46</th>\n",
       "      <td>12</td>\n",
       "      <td>11</td>\n",
       "      <td>12</td>\n",
       "      <td>11</td>\n",
       "    </tr>\n",
       "    <tr>\n",
       "      <th>278</th>\n",
       "      <td>15</td>\n",
       "      <td>9</td>\n",
       "      <td>8</td>\n",
       "      <td>8</td>\n",
       "    </tr>\n",
       "    <tr>\n",
       "      <th>96</th>\n",
       "      <td>2</td>\n",
       "      <td>11</td>\n",
       "      <td>15</td>\n",
       "      <td>15</td>\n",
       "    </tr>\n",
       "    <tr>\n",
       "      <th>126</th>\n",
       "      <td>0</td>\n",
       "      <td>7</td>\n",
       "      <td>10</td>\n",
       "      <td>11</td>\n",
       "    </tr>\n",
       "    <tr>\n",
       "      <th>14</th>\n",
       "      <td>0</td>\n",
       "      <td>14</td>\n",
       "      <td>16</td>\n",
       "      <td>16</td>\n",
       "    </tr>\n",
       "  </tbody>\n",
       "</table>\n",
       "<p>316 rows × 4 columns</p>\n",
       "</div>"
      ],
      "text/plain": [
       "     absences  G1  G2  G3\n",
       "107         2  16  18  18\n",
       "355         0  10   9   9\n",
       "121         6  16  14  15\n",
       "36          2  15  16  18\n",
       "112         6  10  13  13\n",
       "..        ...  ..  ..  ..\n",
       "46         12  11  12  11\n",
       "278        15   9   8   8\n",
       "96          2  11  15  15\n",
       "126         0   7  10  11\n",
       "14          0  14  16  16\n",
       "\n",
       "[316 rows x 4 columns]"
      ]
     },
     "execution_count": 87,
     "metadata": {},
     "output_type": "execute_result"
    }
   ],
   "source": [
    "temp = personal_train.drop(['school','sex','age','Dalc','Walc','health','G3_cat'],axis=1)\n",
    "temp"
   ]
  },
  {
   "cell_type": "code",
   "execution_count": 102,
   "metadata": {
    "colab": {
     "base_uri": "https://localhost:8080/"
    },
    "id": "7C9dM7DAPS3u",
    "outputId": "125f8e84-b804-4d6d-e7d3-86d1e5c9b2ce"
   },
   "outputs": [
    {
     "name": "stdout",
     "output_type": "stream",
     "text": [
      "    famsize Pstatus  Medu  Fedu      Mjob      Fjob guardian famsup internet\n",
      "107     GT3       T     3     3  services     other   father    yes      yes\n",
      "355     GT3       T     3     3  services  services   father    yes       no\n",
      "121     GT3       T     2     2  services  services   father    yes      yes\n",
      "36      LE3       T     4     3   teacher  services   mother    yes      yes\n",
      "112     GT3       T     2     2   at_home     other   mother     no      yes\n",
      "[0.75 0.75 0.   1.   3.   2.   0.   1.   1.  ]\n"
     ]
    }
   ],
   "source": [
    "\"\"\"activities_prep = full_pipeline.fit_transform(activities_train)\"\"\"\n",
    "\"\"\"personal_prep = num_pipeline.fit_transform(temp)\"\"\"\n",
    "#school_prep = full_pipeline.fit_transform(school_train)\n",
    "fam_prep = full_pipeline.fit_transform(family_train)\n",
    "\n",
    "print(family_train.head())\n",
    "print(fam_prep[0])"
   ]
  },
  {
   "cell_type": "markdown",
   "metadata": {
    "id": "pvo2g6TNHsQh"
   },
   "source": [
    "Since numerical encoding is done first the features are listed in order:\n",
    "studytime, failures, absences, G1, G2, school, schoolsup, paid, nursery, higher"
   ]
  },
  {
   "cell_type": "markdown",
   "metadata": {
    "id": "VTs3AIw454JC"
   },
   "source": [
    "# Regression Models\n",
    "\n",
    "These Models will test for G3 exact grades"
   ]
  },
  {
   "cell_type": "markdown",
   "metadata": {
    "id": "lAL2n6aJlfl2"
   },
   "source": [
    "##Linear Regression Model\n"
   ]
  },
  {
   "cell_type": "code",
   "execution_count": 28,
   "metadata": {
    "colab": {
     "base_uri": "https://localhost:8080/",
     "height": 345
    },
    "id": "ikJPN6mZIMS5",
    "outputId": "580b8cce-d78b-47e3-bcb7-c208ec2b23cf"
   },
   "outputs": [
    {
     "ename": "NameError",
     "evalue": "name 'activities_prep' is not defined",
     "output_type": "error",
     "traceback": [
      "\u001b[1;31m---------------------------------------------------------------------------\u001b[0m",
      "\u001b[1;31mNameError\u001b[0m                                 Traceback (most recent call last)",
      "Input \u001b[1;32mIn [28]\u001b[0m, in \u001b[0;36m<cell line: 8>\u001b[1;34m()\u001b[0m\n\u001b[0;32m      5\u001b[0m   lin_reg \u001b[38;5;241m=\u001b[39m LinearRegression()\n\u001b[0;32m      6\u001b[0m   lin_reg\u001b[38;5;241m.\u001b[39mfit(data, labels)\n\u001b[1;32m----> 8\u001b[0m lin_model(\u001b[43mactivities_prep\u001b[49m, activities_labels)\n",
      "\u001b[1;31mNameError\u001b[0m: name 'activities_prep' is not defined"
     ]
    }
   ],
   "source": [
    "# Linear Regression Model\n",
    "from sklearn.linear_model import LinearRegression\n",
    "\n",
    "def lin_model(data, labels):\n",
    "  lin_reg = LinearRegression()\n",
    "  lin_reg.fit(data, labels)\n",
    "\n",
    "lin_model(activities_prep, activities_labels)"
   ]
  },
  {
   "cell_type": "markdown",
   "metadata": {
    "id": "Dtdb54XjmLDl"
   },
   "source": [
    "##Mean Squared Error"
   ]
  },
  {
   "cell_type": "code",
   "execution_count": null,
   "metadata": {
    "colab": {
     "base_uri": "https://localhost:8080/",
     "height": 415
    },
    "id": "vXn_eQKWmJqh",
    "outputId": "c0b2e807-1aa3-4af0-bbfc-96422521ef0a"
   },
   "outputs": [],
   "source": [
    "from sklearn.metrics import mean_squared_error\n",
    "\n",
    "grade_predictions = lin_reg.predict(students_prepared)\n",
    "lin_mse = mean_squared_error(students_labels, grade_predictions)\n",
    "lin_rmse = np.sqrt(lin_mse)\n",
    "lin_rmse"
   ]
  },
  {
   "cell_type": "markdown",
   "metadata": {
    "id": "OJvqQlI8mqMR"
   },
   "source": [
    "##Decision Tree Regressor"
   ]
  },
  {
   "cell_type": "code",
   "execution_count": null,
   "metadata": {
    "id": "tFRbWHjVmpI5"
   },
   "outputs": [],
   "source": [
    "from sklearn.tree import DecisionTreeRegressor\n",
    "tree_reg = DecisionTreeRegressor(random_state=42)\n",
    "tree_reg.fit(students_prepared, students_labels)"
   ]
  },
  {
   "cell_type": "code",
   "execution_count": null,
   "metadata": {
    "id": "_PNzOIU0m5_5"
   },
   "outputs": [],
   "source": [
    "grade_predictions = tree_reg.predict(students_prepared)\n",
    "tree_mse = mean_squared_error(students_labels, grade_predictions)\n",
    "tree_rmse = np.sqrt(tree_mse)\n",
    "tree_rmse"
   ]
  },
  {
   "cell_type": "markdown",
   "metadata": {
    "id": "eCChe4O0obzc"
   },
   "source": [
    "##Evaluation Using Cross-Validation"
   ]
  },
  {
   "cell_type": "code",
   "execution_count": null,
   "metadata": {
    "id": "etc9taAxoewo"
   },
   "outputs": [],
   "source": [
    "from sklearn.model_selection import cross_val_score\n",
    "\n",
    "tree_scores = cross_val_score(tree_reg, students_prepared, students_labels,\n",
    "                         scoring=\"neg_mean_squared_error\", cv=10)   # 10 folds are tested\n",
    "tree_rmse_scores = np.sqrt(-tree_scores)"
   ]
  },
  {
   "cell_type": "code",
   "execution_count": null,
   "metadata": {
    "id": "zu7wa3goovzA"
   },
   "outputs": [],
   "source": [
    "def display_scores(scores):\n",
    "  print(\"Scores:\", scores)\n",
    "  print(\"Mean:\", scores.mean())\n",
    "  print(\"Standard deviation:\", scores.std())\n",
    "\n",
    "display_scores(tree_rmse_scores)"
   ]
  },
  {
   "cell_type": "code",
   "execution_count": null,
   "metadata": {
    "id": "N1X01klRpKq8"
   },
   "outputs": [],
   "source": [
    "lin_scores = cross_val_score(lin_reg, students_prepared, students_labels,\n",
    "                             scoring=\"neg_mean_squared_error\", cv=10) # 10 folds are tested\n",
    "lin_rmse_scores = np.sqrt(-lin_scores)\n",
    "display_scores(lin_rmse_scores)"
   ]
  },
  {
   "cell_type": "markdown",
   "metadata": {
    "id": "3mh8OMBV6K_i"
   },
   "source": [
    "#Classification Models\n",
    "\n",
    "***Predicting a grade the student will get from A,B,C or Fail***"
   ]
  },
  {
   "cell_type": "code",
   "execution_count": null,
   "metadata": {
    "colab": {
     "base_uri": "https://localhost:8080/"
    },
    "id": "Y16l8BO8o11q",
    "outputId": "8401db42-d524-4ed7-9cda-a47573e408e4"
   },
   "outputs": [],
   "source": [
    "act_grade_A = (activities_train['G3_cat'] == 'A')\n",
    "\n",
    "act_grade_A"
   ]
  },
  {
   "cell_type": "markdown",
   "metadata": {
    "id": "07rgs3sQ6sG-"
   },
   "source": [
    "##Stochastic Gradient Descent"
   ]
  },
  {
   "cell_type": "code",
   "execution_count": null,
   "metadata": {
    "colab": {
     "base_uri": "https://localhost:8080/"
    },
    "id": "cSAA2m1z6u-R",
    "outputId": "7e99a8bb-5bab-4c0d-f46f-d0dc4edd8556"
   },
   "outputs": [],
   "source": [
    "from sklearn.linear_model import SGDClassifier\n",
    "\n",
    "sgd_clf = SGDClassifier(max_iter=1000, tol=1e-3, random_state=42)\n",
    "sgd_clf.fit(activities_prep, act_grade_A)"
   ]
  },
  {
   "cell_type": "code",
   "execution_count": null,
   "metadata": {
    "colab": {
     "base_uri": "https://localhost:8080/"
    },
    "id": "JShQ5eVT9mZ6",
    "outputId": "85a37d07-aa57-4106-c4ab-d182f69d3567"
   },
   "outputs": [],
   "source": [
    "# Our classifier was set to predict whether a student would recieve an A grade on their final exam of the year\n",
    "sgd_clf.predict(activities_prep)"
   ]
  },
  {
   "cell_type": "markdown",
   "metadata": {
    "id": "AOGQDx2jnv_s"
   },
   "source": [
    "# Bayesian Learning and Bayes Nets"
   ]
  },
  {
   "cell_type": "markdown",
   "metadata": {
    "id": "UXgfx591KlnA"
   },
   "source": [
    "Imports"
   ]
  },
  {
   "cell_type": "code",
   "execution_count": null,
   "metadata": {
    "id": "t-SUBG3UKm8M"
   },
   "outputs": [],
   "source": [
    "from sklearn.naive_bayes import MultinomialNB\n",
    "from sklearn.naive_bayes import GaussianNB\n",
    "from sklearn.naive_bayes import ComplementNB\n",
    "from sklearn.naive_bayes import BernoulliNB\n",
    "from sklearn.naive_bayes import CategoricalNB"
   ]
  },
  {
   "cell_type": "markdown",
   "metadata": {
    "id": "a2Omzfe4KNt_"
   },
   "source": [
    "Multinomial"
   ]
  },
  {
   "cell_type": "code",
   "execution_count": null,
   "metadata": {
    "colab": {
     "base_uri": "https://localhost:8080/"
    },
    "id": "Dohtd62In1nj",
    "outputId": "2f3d85ab-1837-47e4-8a9b-ccb60bed5fda"
   },
   "outputs": [],
   "source": [
    "# For this to work, needed the change the scaler used in the pipeline: Standard -> MinMax\n",
    "multiNBModel = MultinomialNB()\n",
    "multiNBModel.fit(students_prepared, students_grade_A)\n",
    "\n",
    "multiNBModel.predict(students_prepared)"
   ]
  },
  {
   "cell_type": "markdown",
   "metadata": {
    "id": "1UgiU5S2KPrU"
   },
   "source": [
    "Gaussian"
   ]
  },
  {
   "cell_type": "code",
   "execution_count": null,
   "metadata": {
    "colab": {
     "base_uri": "https://localhost:8080/"
    },
    "id": "elEYYheMKSWd",
    "outputId": "286198da-6c39-4931-94f1-7c8d419ddc8b"
   },
   "outputs": [],
   "source": [
    "gausNBModel = GaussianNB()\n",
    "gausNBModel.fit(students_prepared, students_grade_A)\n",
    "\n",
    "gausNBModel.predict(students_prepared)"
   ]
  },
  {
   "cell_type": "markdown",
   "metadata": {
    "id": "WtXLnOk8MZVJ"
   },
   "source": [
    "Complement"
   ]
  },
  {
   "cell_type": "code",
   "execution_count": null,
   "metadata": {
    "colab": {
     "base_uri": "https://localhost:8080/"
    },
    "id": "I7MsGTP-MZ8j",
    "outputId": "e0f30daf-4edf-4240-c37c-0685a8cc08ab"
   },
   "outputs": [],
   "source": [
    "compNBModel = ComplementNB()\n",
    "compNBModel.fit(students_prepared, students_grade_A)\n",
    "\n",
    "compNBModel.predict(students_prepared)"
   ]
  },
  {
   "cell_type": "markdown",
   "metadata": {
    "id": "n_Jklvj1NBiy"
   },
   "source": [
    "Bernoulli"
   ]
  },
  {
   "cell_type": "code",
   "execution_count": null,
   "metadata": {
    "colab": {
     "base_uri": "https://localhost:8080/"
    },
    "id": "naO2LBf3NA-0",
    "outputId": "bab890a6-2623-4f59-e813-4bb79ac69093"
   },
   "outputs": [],
   "source": [
    "bernNBModel = BernoulliNB()\n",
    "bernNBModel.fit(students_prepared, students_grade_A)\n",
    "\n",
    "bernNBModel.predict(students_prepared)"
   ]
  },
  {
   "cell_type": "markdown",
   "metadata": {
    "id": "_bscV0jINDD0"
   },
   "source": [
    "Categorical"
   ]
  },
  {
   "cell_type": "code",
   "execution_count": null,
   "metadata": {
    "colab": {
     "base_uri": "https://localhost:8080/"
    },
    "id": "H-3Um5-wNBRa",
    "outputId": "16563891-6665-4f14-ef47-3f2e3bcf0144"
   },
   "outputs": [],
   "source": [
    "catNB = CategoricalNB()\n",
    "catNB.fit(students_prepared, students_grade_A)\n",
    "\n",
    "catNB.predict(students_prepared)"
   ]
  },
  {
   "cell_type": "markdown",
   "metadata": {
    "id": "ALcZI4PTmFWi"
   },
   "source": [
    "#Clustering"
   ]
  },
  {
   "cell_type": "markdown",
   "metadata": {
    "id": "Ol8__28fmK5K"
   },
   "source": [
    "##K-Means Algorithms"
   ]
  },
  {
   "cell_type": "code",
   "execution_count": null,
   "metadata": {
    "id": "q8CjQ5JumOEa"
   },
   "outputs": [],
   "source": [
    "from sklearn.cluster import KMeans"
   ]
  },
  {
   "cell_type": "code",
   "execution_count": null,
   "metadata": {
    "id": "2R_fYsNpntcr"
   },
   "outputs": [],
   "source": [
    "k = 5\n",
    "kmeans = KMeans(n_clusters=k, random_state=2)\n",
    "y_pred = kmeans.fit_predict(personal_prep)"
   ]
  },
  {
   "cell_type": "code",
   "execution_count": null,
   "metadata": {
    "colab": {
     "base_uri": "https://localhost:8080/"
    },
    "id": "U0eSeQYGovvu",
    "outputId": "8f5d9b73-1b1b-4039-cadb-cb34945dab80"
   },
   "outputs": [],
   "source": [
    "y_pred"
   ]
  },
  {
   "cell_type": "markdown",
   "metadata": {
    "id": "VGSo9rIICJbi"
   },
   "source": [
    "Clusters are in multiple dimensions as shown below."
   ]
  },
  {
   "cell_type": "code",
   "execution_count": null,
   "metadata": {
    "colab": {
     "base_uri": "https://localhost:8080/"
    },
    "id": "5spfCQuEBsvp",
    "outputId": "75c7627b-af19-4d36-8f82-724575531311"
   },
   "outputs": [],
   "source": [
    "kmeans.cluster_centers_"
   ]
  },
  {
   "cell_type": "markdown",
   "metadata": {
    "id": "vZUd3zfVMrRB"
   },
   "source": [
    "## Plotting"
   ]
  },
  {
   "cell_type": "markdown",
   "metadata": {
    "id": "3angaXDaM9wb"
   },
   "source": [
    "An issue that was discovered when attempting clustering for the first time with this data was the fact that a lot of the data contained identical values. This was due to the original data being formatted categorically or by a scale of 0 - 5"
   ]
  },
  {
   "cell_type": "code",
   "execution_count": null,
   "metadata": {
    "id": "tAOVQjmxLZ50"
   },
   "outputs": [],
   "source": [
    "def plot_clusters(X, y=None):\n",
    "    plt.scatter(X[:, 0], X[:, 1], c=y, s=1)\n",
    "    plt.xlabel(\"$x_1$\", fontsize=14)\n",
    "    plt.ylabel(\"$x_2$\", fontsize=14, rotation=0)"
   ]
  },
  {
   "cell_type": "code",
   "execution_count": null,
   "metadata": {
    "colab": {
     "base_uri": "https://localhost:8080/",
     "height": 501
    },
    "id": "6p8ctqvLMsy9",
    "outputId": "9437e497-0490-434d-f109-83cd1f97c008"
   },
   "outputs": [],
   "source": [
    "plt.figure(figsize=(16, 8))\n",
    "plot_clusters(personal_prep)\n",
    "plt.show()"
   ]
  },
  {
   "cell_type": "markdown",
   "metadata": {
    "id": "kVOBJbZzZR4J"
   },
   "source": [
    "##Voronoi Diagram"
   ]
  },
  {
   "cell_type": "code",
   "execution_count": null,
   "metadata": {
    "id": "YsEYkTZzZV5h"
   },
   "outputs": [],
   "source": [
    "def plot_data(X):\n",
    "    plt.plot(X[:, 0], X[:, 1], 'k.', markersize=2)\n",
    "\n",
    "def plot_centroids(centroids, weights=None, circle_color='w', cross_color='k'):\n",
    "    if weights is not None:\n",
    "        centroids = centroids[weights > weights.max() / 10]\n",
    "    plt.scatter(centroids[:, 0], centroids[:, 1],\n",
    "                marker='o', s=30, linewidths=8,\n",
    "                color=circle_color, zorder=10, alpha=0.9)\n",
    "    plt.scatter(centroids[:, 0], centroids[:, 1],\n",
    "                marker='x', s=50, linewidths=50,\n",
    "                color=cross_color, zorder=11, alpha=1)\n",
    "\n",
    "def plot_decision_boundaries(clusterer, X, resolution=1000, show_centroids=True,\n",
    "                             show_xlabels=True, show_ylabels=True):\n",
    "    mins = X.min(axis=0) - 0.1\n",
    "    maxs = X.max(axis=0) + 0.1\n",
    "    xx, yy = np.meshgrid(np.linspace(mins[0], maxs[0], resolution),\n",
    "                         np.linspace(mins[1], maxs[1], resolution))\n",
    "    Z = clusterer.predict(np.c_[xx.ravel(), yy.ravel()])\n",
    "    Z = Z.reshape(xx.shape)\n",
    "\n",
    "    plt.contourf(Z, extent=(mins[0], maxs[0], mins[1], maxs[1]),\n",
    "                cmap=\"Pastel2\")\n",
    "    plt.contour(Z, extent=(mins[0], maxs[0], mins[1], maxs[1]),\n",
    "                linewidths=1, colors='k')\n",
    "    plot_data(X)\n",
    "    if show_centroids:\n",
    "        plot_centroids(clusterer.cluster_centers_)\n",
    "\n",
    "    if show_xlabels:\n",
    "        plt.xlabel(\"$x_1$\", fontsize=14)\n",
    "    else:\n",
    "        plt.tick_params(labelbottom=False)\n",
    "    if show_ylabels:\n",
    "        plt.ylabel(\"$x_2$\", fontsize=14, rotation=0)\n",
    "    else:\n",
    "        plt.tick_params(labelleft=False)"
   ]
  },
  {
   "cell_type": "code",
   "execution_count": null,
   "metadata": {
    "colab": {
     "base_uri": "https://localhost:8080/",
     "height": 378
    },
    "id": "iVJgkjCZZbXJ",
    "outputId": "9a96a5cf-a0a3-4dc4-c97a-24104047fb9a"
   },
   "outputs": [],
   "source": [
    "plt.figure(figsize=(8, 4))\n",
    "plot_decision_boundaries(kmeans, personal_prep)\n",
    "plt.show()"
   ]
  },
  {
   "cell_type": "markdown",
   "metadata": {
    "id": "WVNHLrWKemvp"
   },
   "source": [
    "## Intertia"
   ]
  },
  {
   "cell_type": "markdown",
   "metadata": {
    "id": "IZ5fzPMievLF"
   },
   "source": [
    "Inertia can give us a good measure of the distance between the instances and its centroid"
   ]
  },
  {
   "cell_type": "code",
   "execution_count": null,
   "metadata": {
    "colab": {
     "base_uri": "https://localhost:8080/"
    },
    "id": "nCk2kN5leowL",
    "outputId": "460ce2f3-b7c4-424d-e004-ce722686fc96"
   },
   "outputs": [],
   "source": [
    "kmeans.inertia_"
   ]
  },
  {
   "cell_type": "code",
   "execution_count": null,
   "metadata": {
    "colab": {
     "base_uri": "https://localhost:8080/"
    },
    "id": "LlBxDohsf88b",
    "outputId": "725a2850-035a-4af5-95c5-72162ee8d5d3"
   },
   "outputs": [],
   "source": [
    "kmeans_k3 = KMeans(n_clusters=3, random_state=42)\n",
    "kmeans_k3.fit(personal_prep)\n",
    "kmeans_k8 = KMeans(n_clusters=8, random_state=42)\n",
    "kmeans_k8.fit(personal_prep)"
   ]
  },
  {
   "cell_type": "code",
   "execution_count": null,
   "metadata": {
    "colab": {
     "base_uri": "https://localhost:8080/"
    },
    "id": "5n8yGkcYgFDl",
    "outputId": "86996132-10da-4fd5-b972-6702a6a86208"
   },
   "outputs": [],
   "source": [
    "kmeans_k3.inertia_"
   ]
  },
  {
   "cell_type": "code",
   "execution_count": null,
   "metadata": {
    "colab": {
     "base_uri": "https://localhost:8080/"
    },
    "id": "307pTZpdgXTb",
    "outputId": "3f2e9fe1-2fda-4c82-e124-898b1c781320"
   },
   "outputs": [],
   "source": [
    "kmeans_k8.inertia_"
   ]
  },
  {
   "cell_type": "markdown",
   "metadata": {
    "id": "xiiqk3cRfwLP"
   },
   "source": [
    "From this the question of how many clusters is best for this example. To figure this out we can use an elbow diagram"
   ]
  },
  {
   "cell_type": "code",
   "execution_count": null,
   "metadata": {
    "id": "ZVYzH0kZghg8"
   },
   "outputs": [],
   "source": [
    "kmeans_per_k = [KMeans(n_clusters=k, random_state=42).fit(personal_prep)\n",
    "                for k in range(1, 10)]\n",
    "inertias = [model.inertia_ for model in kmeans_per_k]"
   ]
  },
  {
   "cell_type": "code",
   "execution_count": null,
   "metadata": {
    "colab": {
     "base_uri": "https://localhost:8080/",
     "height": 257
    },
    "id": "mW9fHK-1gpEq",
    "outputId": "7ab990c6-7ae7-49b4-9e99-611bb65d0e1c"
   },
   "outputs": [],
   "source": [
    "plt.figure(figsize=(8, 3.5))\n",
    "plt.plot(range(1, 10), inertias, \"bo-\")\n",
    "plt.xlabel(\"$k$\", fontsize=14)\n",
    "plt.ylabel(\"Inertia\", fontsize=14)\n",
    "plt.annotate('Elbow',\n",
    "             xy=(2, inertias[3]),\n",
    "             xytext=(0.55, 0.55),\n",
    "             textcoords='figure fraction',\n",
    "             fontsize=16,\n",
    "             arrowprops=dict(facecolor='black', shrink=0.1)\n",
    "            )\n",
    "plt.axis([1, 8.5, 0, 1300])\n",
    "plt.show()"
   ]
  },
  {
   "cell_type": "markdown",
   "metadata": {
    "id": "fWpplIwdhGwQ"
   },
   "source": [
    "This once again points out a problem that was recognised earlier. There is a notable lack of variance in the data that means the data is difficult to cluster."
   ]
  },
  {
   "cell_type": "markdown",
   "metadata": {
    "id": "dcYdVaiyoJjk"
   },
   "source": [
    "# Evaluation and Testing"
   ]
  },
  {
   "cell_type": "markdown",
   "metadata": {
    "id": "MF9uzTUh2Np7"
   },
   "source": [
    "# Decision Trees"
   ]
  },
  {
   "cell_type": "markdown",
   "metadata": {
    "id": "hYAbD8edLnIg"
   },
   "source": [
    "studytime[0], failures[1], absences[2], G1[3], G2[4], school[5], schoolsup[6], paid[7], nursery[8], higher[9]"
   ]
  },
  {
   "cell_type": "markdown",
   "metadata": {
    "id": "Mr-f556Q2oGf"
   },
   "source": [
    "Import packages and set up"
   ]
  },
  {
   "cell_type": "code",
   "execution_count": 103,
   "metadata": {
    "colab": {
     "base_uri": "https://localhost:8080/"
    },
    "id": "lIfT_HIu2Q6T",
    "outputId": "e9bbd7a0-4b1d-44cc-c0fa-6bf04b9ce3e1"
   },
   "outputs": [
    {
     "name": "stdout",
     "output_type": "stream",
     "text": [
      "[0.66666667 0.         0.02666667 0.         0.         0.\n",
      " 1.         1.        ]\n"
     ]
    },
    {
     "data": {
      "text/html": [
       "<style>#sk-container-id-4 {color: black;background-color: white;}#sk-container-id-4 pre{padding: 0;}#sk-container-id-4 div.sk-toggleable {background-color: white;}#sk-container-id-4 label.sk-toggleable__label {cursor: pointer;display: block;width: 100%;margin-bottom: 0;padding: 0.3em;box-sizing: border-box;text-align: center;}#sk-container-id-4 label.sk-toggleable__label-arrow:before {content: \"▸\";float: left;margin-right: 0.25em;color: #696969;}#sk-container-id-4 label.sk-toggleable__label-arrow:hover:before {color: black;}#sk-container-id-4 div.sk-estimator:hover label.sk-toggleable__label-arrow:before {color: black;}#sk-container-id-4 div.sk-toggleable__content {max-height: 0;max-width: 0;overflow: hidden;text-align: left;background-color: #f0f8ff;}#sk-container-id-4 div.sk-toggleable__content pre {margin: 0.2em;color: black;border-radius: 0.25em;background-color: #f0f8ff;}#sk-container-id-4 input.sk-toggleable__control:checked~div.sk-toggleable__content {max-height: 200px;max-width: 100%;overflow: auto;}#sk-container-id-4 input.sk-toggleable__control:checked~label.sk-toggleable__label-arrow:before {content: \"▾\";}#sk-container-id-4 div.sk-estimator input.sk-toggleable__control:checked~label.sk-toggleable__label {background-color: #d4ebff;}#sk-container-id-4 div.sk-label input.sk-toggleable__control:checked~label.sk-toggleable__label {background-color: #d4ebff;}#sk-container-id-4 input.sk-hidden--visually {border: 0;clip: rect(1px 1px 1px 1px);clip: rect(1px, 1px, 1px, 1px);height: 1px;margin: -1px;overflow: hidden;padding: 0;position: absolute;width: 1px;}#sk-container-id-4 div.sk-estimator {font-family: monospace;background-color: #f0f8ff;border: 1px dotted black;border-radius: 0.25em;box-sizing: border-box;margin-bottom: 0.5em;}#sk-container-id-4 div.sk-estimator:hover {background-color: #d4ebff;}#sk-container-id-4 div.sk-parallel-item::after {content: \"\";width: 100%;border-bottom: 1px solid gray;flex-grow: 1;}#sk-container-id-4 div.sk-label:hover label.sk-toggleable__label {background-color: #d4ebff;}#sk-container-id-4 div.sk-serial::before {content: \"\";position: absolute;border-left: 1px solid gray;box-sizing: border-box;top: 0;bottom: 0;left: 50%;z-index: 0;}#sk-container-id-4 div.sk-serial {display: flex;flex-direction: column;align-items: center;background-color: white;padding-right: 0.2em;padding-left: 0.2em;position: relative;}#sk-container-id-4 div.sk-item {position: relative;z-index: 1;}#sk-container-id-4 div.sk-parallel {display: flex;align-items: stretch;justify-content: center;background-color: white;position: relative;}#sk-container-id-4 div.sk-item::before, #sk-container-id-4 div.sk-parallel-item::before {content: \"\";position: absolute;border-left: 1px solid gray;box-sizing: border-box;top: 0;bottom: 0;left: 50%;z-index: -1;}#sk-container-id-4 div.sk-parallel-item {display: flex;flex-direction: column;z-index: 1;position: relative;background-color: white;}#sk-container-id-4 div.sk-parallel-item:first-child::after {align-self: flex-end;width: 50%;}#sk-container-id-4 div.sk-parallel-item:last-child::after {align-self: flex-start;width: 50%;}#sk-container-id-4 div.sk-parallel-item:only-child::after {width: 0;}#sk-container-id-4 div.sk-dashed-wrapped {border: 1px dashed gray;margin: 0 0.4em 0.5em 0.4em;box-sizing: border-box;padding-bottom: 0.4em;background-color: white;}#sk-container-id-4 div.sk-label label {font-family: monospace;font-weight: bold;display: inline-block;line-height: 1.2em;}#sk-container-id-4 div.sk-label-container {text-align: center;}#sk-container-id-4 div.sk-container {/* jupyter's `normalize.less` sets `[hidden] { display: none; }` but bootstrap.min.css set `[hidden] { display: none !important; }` so we also need the `!important` here to be able to override the default hidden behavior on the sphinx rendered scikit-learn.org. See: https://github.com/scikit-learn/scikit-learn/issues/21755 */display: inline-block !important;position: relative;}#sk-container-id-4 div.sk-text-repr-fallback {display: none;}</style><div id=\"sk-container-id-4\" class=\"sk-top-container\"><div class=\"sk-text-repr-fallback\"><pre>DecisionTreeClassifier(max_depth=2, random_state=42)</pre><b>In a Jupyter environment, please rerun this cell to show the HTML representation or trust the notebook. <br />On GitHub, the HTML representation is unable to render, please try loading this page with nbviewer.org.</b></div><div class=\"sk-container\" hidden><div class=\"sk-item\"><div class=\"sk-estimator sk-toggleable\"><input class=\"sk-toggleable__control sk-hidden--visually\" id=\"sk-estimator-id-4\" type=\"checkbox\" checked><label for=\"sk-estimator-id-4\" class=\"sk-toggleable__label sk-toggleable__label-arrow\">DecisionTreeClassifier</label><div class=\"sk-toggleable__content\"><pre>DecisionTreeClassifier(max_depth=2, random_state=42)</pre></div></div></div></div></div>"
      ],
      "text/plain": [
       "DecisionTreeClassifier(max_depth=2, random_state=42)"
      ]
     },
     "execution_count": 103,
     "metadata": {},
     "output_type": "execute_result"
    }
   ],
   "source": [
    "from sklearn.tree import DecisionTreeClassifier,plot_tree\n",
    "\n",
    "# create the decision tree\n",
    "tree_school = DecisionTreeClassifier(max_depth=2, random_state=42)\n",
    "print(school_prep[0])\n",
    "tree_school.fit(fam_prep, school_target)"
   ]
  },
  {
   "cell_type": "markdown",
   "metadata": {
    "id": "kVsT6Oap--5n"
   },
   "source": [
    "Lets look at the tree"
   ]
  },
  {
   "cell_type": "code",
   "execution_count": 104,
   "metadata": {
    "colab": {
     "base_uri": "https://localhost:8080/",
     "height": 721
    },
    "id": "a45hwgYw_EdK",
    "outputId": "f85d5103-119f-4917-d6c6-b59e5b177c46"
   },
   "outputs": [
    {
     "data": {
      "text/plain": [
       "[Text(0.5, 0.8333333333333334, 'X[0] <= 0.875\\ngini = 0.735\\nsamples = 316\\nvalue = [80, 50, 82, 104]'),\n",
       " Text(0.25, 0.5, 'X[0] <= 0.125\\ngini = 0.723\\nsamples = 212\\nvalue = [37, 37, 59, 79]'),\n",
       " Text(0.125, 0.16666666666666666, 'gini = 0.0\\nsamples = 2\\nvalue = [2, 0, 0, 0]'),\n",
       " Text(0.375, 0.16666666666666666, 'gini = 0.721\\nsamples = 210\\nvalue = [35, 37, 59, 79]'),\n",
       " Text(0.75, 0.5, 'X[5] <= 3.5\\ngini = 0.707\\nsamples = 104\\nvalue = [43, 13, 23, 25]'),\n",
       " Text(0.625, 0.16666666666666666, 'gini = 0.728\\nsamples = 82\\nvalue = [29, 12, 20, 21]'),\n",
       " Text(0.875, 0.16666666666666666, 'gini = 0.541\\nsamples = 22\\nvalue = [14, 1, 3, 4]')]"
      ]
     },
     "execution_count": 104,
     "metadata": {},
     "output_type": "execute_result"
    },
    {
     "data": {
      "image/png": "[encoded data removed]",
      "text/plain": [
       "<Figure size 1000x1000 with 1 Axes>"
      ]
     },
     "metadata": {},
     "output_type": "display_data"
    }
   ],
   "source": [
    "plt.figure(figsize=(10,10))\n",
    "plot_tree(tree_school, fontsize=10)"
   ]
  },
  {
   "cell_type": "markdown",
   "metadata": {
    "id": "GaTM0xJb_MaE"
   },
   "source": [
    "At the restriction of max_depth 2, the tree decides based on grade 2"
   ]
  },
  {
   "cell_type": "code",
   "execution_count": null,
   "metadata": {
    "id": "oIVIL2jZF34S"
   },
   "outputs": [],
   "source": []
  },
  {
   "cell_type": "code",
   "execution_count": 70,
   "metadata": {
    "colab": {
     "base_uri": "https://localhost:8080/",
     "height": 990
    },
    "id": "gJ0iEFVqLLuc",
    "outputId": "907612ba-dafc-4127-a640-f3ad7d4bc753"
   },
   "outputs": [
    {
     "name": "stdout",
     "output_type": "stream",
     "text": [
      "[0.66666667 0.         0.02666667 0.         0.         0.\n",
      " 1.         1.        ]\n"
     ]
    },
    {
     "data": {
      "text/plain": [
       "[Text(0.5, 0.875, 'X[1] <= 0.167\\ngini = 0.735\\nsamples = 316\\nvalue = [80, 50, 82, 104]'),\n",
       " Text(0.25, 0.625, 'X[4] <= 0.5\\ngini = 0.737\\nsamples = 249\\nvalue = [77, 39, 70, 63]'),\n",
       " Text(0.125, 0.375, 'X[2] <= 0.233\\ngini = 0.732\\nsamples = 215\\nvalue = [75, 35, 57, 48]'),\n",
       " Text(0.0625, 0.125, 'gini = 0.726\\nsamples = 205\\nvalue = [74, 33, 57, 41]'),\n",
       " Text(0.1875, 0.125, 'gini = 0.46\\nsamples = 10\\nvalue = [1, 2, 0, 7]'),\n",
       " Text(0.375, 0.375, 'X[0] <= 0.167\\ngini = 0.642\\nsamples = 34\\nvalue = [2, 4, 13, 15]'),\n",
       " Text(0.3125, 0.125, 'gini = 0.688\\nsamples = 8\\nvalue = [1, 3, 3, 1]'),\n",
       " Text(0.4375, 0.125, 'gini = 0.559\\nsamples = 26\\nvalue = [1, 1, 10, 14]'),\n",
       " Text(0.75, 0.625, 'X[2] <= 0.033\\ngini = 0.564\\nsamples = 67\\nvalue = [3, 11, 12, 41]'),\n",
       " Text(0.625, 0.375, 'X[4] <= 0.5\\ngini = 0.318\\nsamples = 27\\nvalue = [0, 2, 3, 22]'),\n",
       " Text(0.5625, 0.125, 'gini = 0.234\\nsamples = 23\\nvalue = [0, 2, 1, 20]'),\n",
       " Text(0.6875, 0.125, 'gini = 0.5\\nsamples = 4\\nvalue = [0, 0, 2, 2]'),\n",
       " Text(0.875, 0.375, 'X[1] <= 0.5\\ngini = 0.668\\nsamples = 40\\nvalue = [3, 9, 9, 19]'),\n",
       " Text(0.8125, 0.125, 'gini = 0.707\\nsamples = 26\\nvalue = [2, 8, 7, 9]'),\n",
       " Text(0.9375, 0.125, 'gini = 0.459\\nsamples = 14\\nvalue = [1, 1, 2, 10]')]"
      ]
     },
     "execution_count": 70,
     "metadata": {},
     "output_type": "execute_result"
    },
    {
     "data": {
      "image/png": "[encoded data removed]",
      "text/plain": [
       "<Figure size 2000x1000 with 1 Axes>"
      ]
     },
     "metadata": {},
     "output_type": "display_data"
    }
   ],
   "source": [
    "tree_school_5 = DecisionTreeClassifier(max_depth=3, random_state=42)\n",
    "print(school_prep[0])\n",
    "tree_school_5.fit(school_prep, school_target)\n",
    "\n",
    "plt.figure(figsize=(20,10))\n",
    "plot_tree(tree_school_5, fontsize=10)"
   ]
  },
  {
   "cell_type": "markdown",
   "metadata": {
    "id": "2dvA-LsnL1ts"
   },
   "source": [
    "Increasing the maximum depth shows a different way the predictions are made, such as the student having attended nursery having some factor"
   ]
  },
  {
   "cell_type": "markdown",
   "metadata": {
    "id": "bidlT8Q50PX2"
   },
   "source": [
    "# Accuracy Tests"
   ]
  },
  {
   "cell_type": "code",
   "execution_count": null,
   "metadata": {
    "id": "AlgP7VoW0RsR"
   },
   "outputs": [],
   "source": [
    "from sklearn.model_selection import cross_val_score\n",
    "from sklearn.model_selection import cross_val_predict\n",
    "from sklearn.metrics import confusion_matrix\n",
    "from sklearn.metrics import precision_score, recall_score\n",
    "from sklearn.metrics import f1_score\n",
    "from sklearn.metrics import roc_curve\n",
    "from sklearn.metrics import roc_auc_score"
   ]
  },
  {
   "cell_type": "code",
   "execution_count": null,
   "metadata": {
    "id": "KeSSZOHcDgP7"
   },
   "outputs": [],
   "source": [
    "def plot_roc_curve(fpr, tpr, label=None):\n",
    "    plt.plot(fpr, tpr, linewidth=2, label=label)\n",
    "    plt.plot([0, 1], [0, 1], 'k--') # dashed diagonal\n",
    "    plt.axis([0, 1, 0, 1])                                    # Not shown in the book\n",
    "    plt.xlabel('False Positive Rate (Fall-Out)', fontsize=16) # Not shown\n",
    "    plt.ylabel('True Positive Rate (Recall)', fontsize=16)    # Not shown\n",
    "    plt.grid(True)                                            # Not shown"
   ]
  },
  {
   "cell_type": "code",
   "execution_count": null,
   "metadata": {
    "colab": {
     "base_uri": "https://localhost:8080/",
     "height": 378
    },
    "id": "QW-AGi1Fs9Dj",
    "outputId": "621ad9ce-751d-4905-d52b-42f7a3fd745c"
   },
   "outputs": [],
   "source": [
    "def testModel(model, test_data, predict):\n",
    "  train_pred = cross_val_predict(model, test_data, predict, cv=10)\n",
    "  cM = confusion_matrix(predict, train_pred)\n",
    "  TPos, FPos, TNeg, FNeg = cM[0][0] , cM[0][1] , cM[1][0] , cM[1][1]\n",
    "  print(\"Accuracy :\" , np.mean(cross_val_score(model, test_data, predict, cv=10, scoring=\"accuracy\")))\n",
    "  print(\"Confusion Matrix: \" , cM)\n",
    "  print(\"True Positives: \" , TPos)\n",
    "  print(\"False Positives: \" , FPos)\n",
    "  print(\"False Negatives: \" , FNeg)\n",
    "  print(\"True Negatives: \" , TNeg)\n",
    "  print(\"Sensitivity: \" , cM[0][0] / (cM[0][0]+cM[1][0]))\n",
    "  print(\"Specificity: \" , cM[1][1] / (cM[1][1]+cM[0][1]))\n",
    "  print(\"Precision: \", precision_score(predict, train_pred))\n",
    "  print(\"Recall: \" , recall_score(predict, train_pred))\n",
    "  print(\"F1 Score: \" , f1_score(predict, train_pred))\n",
    "  print(\"ROC Area: \" , roc_auc_score(predict, train_pred))\n",
    "\n",
    "testModel(tree_school_5, school_prep, school_test)"
   ]
  },
  {
   "cell_type": "markdown",
   "metadata": {
    "id": "G07rR61iOn8s"
   },
   "source": [
    "Naive Bayes Algorithm  | Accuracy | TP | FP | FN | TN | Sensitivity |Specificity | Precision | Recall | F1 Score | ROC Area\n",
    "-----------|-------|---|--|--|--|-------|-------|-------|-------|-------|------\n",
    "Mutlinomial|0.75615|230|12|9 |6 |0.77966|0.42857|0.42857|0.12162|0.18947|0.53602\n",
    "Gaussia    |0.60736|172|70|20|54|0.76106|0.22222|0.22222|0.27027|0.24390|0.4905\n",
    "Complement |0.59143|160|82|27|47|0.77295|0.24771|0.24771|0.36486|0.29508|0.51301\n",
    "Bernoulli  |0.72762|215|27|15|59|0.78467|0.35714|0.35714|0.20270|0.25862|0.54557\n",
    "Categorical|       |   |  |  |  |       |       |       |       |       |\n",
    "Complex    |       |   |  |  |  |       |       |       |       |       |"
   ]
  },
  {
   "cell_type": "code",
   "execution_count": null,
   "metadata": {
    "id": "vDGgeDpm8t3q"
   },
   "outputs": [],
   "source": [
    "def ROC_Curve(model, data, predict):\n",
    "  train_pred = cross_val_predict(model, test_data, predict, cv=3)\n",
    "  fpr, tpr, thresholds = roc_curve(predict, train_pred)\n",
    "  plt.figure(figsize=(8, 6))                         # Not shown\n",
    "  plot_roc_curve(fpr, tpr)\n",
    "  plt.plot([4.837e-3, 4.837e-3], [0., 0.4368], \"r:\") # Not shown\n",
    "  plt.plot([0.0, 4.837e-3], [0.4368, 0.4368], \"r:\")  # Not shown\n",
    "  plt.plot([4.837e-3], [0.4368], \"ro\")               # Not shown\n",
    "  plt.show()"
   ]
  }
 ],
 "metadata": {
  "colab": {
   "collapsed_sections": [],
   "provenance": []
  },
  "kernelspec": {
   "display_name": "Python 3 (ipykernel)",
   "language": "python",
   "name": "python3"
  },
  "language_info": {
   "codemirror_mode": {
    "name": "ipython",
    "version": 3
   },
   "file_extension": ".py",
   "mimetype": "text/x-python",
   "name": "python",
   "nbconvert_exporter": "python",
   "pygments_lexer": "ipython3",
   "version": "3.9.13"
  }
 },
 "nbformat": 4,
 "nbformat_minor": 1
}
