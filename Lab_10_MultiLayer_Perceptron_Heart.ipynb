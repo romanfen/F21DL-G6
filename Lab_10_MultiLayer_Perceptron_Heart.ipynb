{
  "nbformat": 4,
  "nbformat_minor": 0,
  "metadata": {
    "colab": {
      "provenance": [],
      "authorship_tag": "ABX9TyNFSAy3v1JemlIw033jeFKS",
      "include_colab_link": true
    },
    "kernelspec": {
      "name": "python3",
      "display_name": "Python 3"
    },
    "language_info": {
      "name": "python"
    }
  },
  "cells": [
    {
      "cell_type": "markdown",
      "metadata": {
        "id": "view-in-github",
        "colab_type": "text"
      },
      "source": [
        "<a href=\"https://colab.research.google.com/github/romanfen/F21DL-G6/blob/main/Lab_10_MultiLayer_Perceptron_Heart.ipynb\" target=\"_parent\"><img src=\"https://colab.research.google.com/assets/colab-badge.svg\" alt=\"Open In Colab\"/></a>"
      ]
    },
    {
      "cell_type": "markdown",
      "source": [
        "# Setup"
      ],
      "metadata": {
        "id": "Jt6__G7HjjYn"
      }
    },
    {
      "cell_type": "code",
      "execution_count": 73,
      "metadata": {
        "id": "OL99C5qcjilS"
      },
      "outputs": [],
      "source": [
        "import sklearn\n",
        "import tensorflow as tf\n",
        "import numpy as np\n",
        "import pandas as pd\n",
        "\n",
        "\n",
        "%matplotlib inline\n",
        "import matplotlib as mpl\n",
        "import matplotlib.pyplot as plt\n",
        "mpl.rc('axes', labelsize=14)\n",
        "mpl.rc('xtick', labelsize=12)\n",
        "mpl.rc('ytick', labelsize=12)\n",
        "\n",
        "# perceptron set up\n",
        "from sklearn.datasets import load_iris\n",
        "from sklearn.linear_model import Perceptron\n",
        "\n",
        "# stratificiation set up\n",
        "from sklearn.model_selection import StratifiedShuffleSplit\n",
        "\n",
        "# test imports\n",
        "from sklearn.model_selection import cross_val_score\n",
        "from sklearn.model_selection import cross_val_predict\n",
        "from sklearn.metrics import confusion_matrix\n",
        "from sklearn.metrics import precision_score, recall_score\n",
        "from sklearn.metrics import f1_score\n",
        "from sklearn.metrics import roc_curve\n",
        "from sklearn.metrics import roc_auc_score\n",
        "from sklearn.metrics import plot_roc_curve"
      ]
    },
    {
      "cell_type": "markdown",
      "source": [
        "# Load Data"
      ],
      "metadata": {
        "id": "aFdGDlTYl5Fp"
      }
    },
    {
      "cell_type": "markdown",
      "source": [
        "Chosen dataset relates to data from patients to deduce their risk of heart attack.\n",
        "\n",
        "Source: https://www.kaggle.com/datasets/rashikrahmanpritom/heart-attack-analysis-prediction-dataset\n",
        "\n",
        "Columns:\n",
        "* Age: Age of patient (numerical)\n",
        "* Sex: Sex of patient (ordinal)\n",
        "```\n",
        "0 : Female\n",
        "1 : Male\n",
        "```\n",
        "* Cp: Chest Pain type (ordinal)\n",
        "```\n",
        "0 : typical angina\n",
        "1 : atypical angina\n",
        "2 : non-anginal \n",
        "3 : asymptomatic\n",
        "```\n",
        "* Trtbps: Resting blood pressure measured in mm Hg (numerical)\n",
        "* Chol: Cholesterol in mg/dl via BMI sensor (numerical)\n",
        "* Fbs: Is fasting blood sugar below 120 mg / dl (binary)\n",
        "```\n",
        "0 : False\n",
        "1 : True\n",
        "```\n",
        "* Rest_ecg Resting Electrocardiographic Results (ordinal)\n",
        "```\n",
        "0 : Normal\n",
        "1 : ST-T Wave Abnormality\n",
        "2 : Probably / definite ventricular hypertrophy\n",
        "```\n",
        "* Thalach: Maximum heart rate achieved (numerical)\n",
        "* Exang: Does patient experience exercise induced angina (binary)\n",
        "```\n",
        "0 : No\n",
        "1 : Yes\n",
        "```\n",
        "* Oldpeak: ST depression induced by exercise relative to rest (numerical)\n",
        "* Slp: Slope of peak exercise ST segment (ordinal)\n",
        "```\n",
        "0 : unsloping\n",
        "1 : flat\n",
        "2 : downsloping\n",
        "```\n",
        "* caa: Number of major blood vessels (numerical range from 0 to 3)\n",
        "* thall: thalassemia\n",
        "```\n",
        "0 : null\n",
        "1 : fixed defect\n",
        "2 : normal \n",
        "3 : reversable defect\n",
        "```\n",
        "\n",
        "Target:\n",
        "* output: Diagnosis Chance of Heart Disease\n",
        "```\n",
        "0 : Less Chance\n",
        "1 : Increased Risk\n",
        "```"
      ],
      "metadata": {
        "id": "l2hB9XTFmUai"
      }
    },
    {
      "cell_type": "code",
      "source": [
        "# Load the data\n",
        "def load_data():\n",
        "    url = \"https://raw.githubusercontent.com/romanfen/F21DL-G6/main/datasets/heart.csv\"\n",
        "    return pd.read_csv(url)\n",
        "\n",
        "heart_data = load_data()\n",
        "heart_cols = list(heart_data.columns)\n",
        "print(heart_cols)"
      ],
      "metadata": {
        "colab": {
          "base_uri": "https://localhost:8080/"
        },
        "id": "GZyTujJ8l6KD",
        "outputId": "f62712ac-d8f9-4b9f-8206-5fc026f9c182"
      },
      "execution_count": 18,
      "outputs": [
        {
          "output_type": "stream",
          "name": "stdout",
          "text": [
            "['age', 'sex', 'cp', 'trtbps', 'chol', 'fbs', 'restecg', 'thalachh', 'exng', 'oldpeak', 'slp', 'caa', 'thall', 'output']\n"
          ]
        }
      ]
    },
    {
      "cell_type": "markdown",
      "source": [
        "Split into 3 sets of data"
      ],
      "metadata": {
        "id": "0HfwDR0C0mRf"
      }
    },
    {
      "cell_type": "code",
      "source": [
        "def split_dataset(data, ratio):\n",
        "  split = StratifiedShuffleSplit(n_splits=1, test_size=ratio, random_state=42)\n",
        "  for train_index, test_index in split.split(data, data[\"output\"]):\n",
        "      strat_train_set = data.loc[train_index]\n",
        "      strat_test_set = data.loc[test_index]\n",
        "  return strat_train_set, strat_test_set"
      ],
      "metadata": {
        "id": "ex2jri3F0llz"
      },
      "execution_count": 28,
      "outputs": []
    },
    {
      "cell_type": "markdown",
      "source": [
        "Set A - 80/20 split of training set and testing set"
      ],
      "metadata": {
        "id": "2JbUpxGp0yv1"
      }
    },
    {
      "cell_type": "code",
      "source": [
        "A_train, A_test = split_dataset(heart_data, 0.2)"
      ],
      "metadata": {
        "id": "HqSJaSko0yJU"
      },
      "execution_count": 39,
      "outputs": []
    },
    {
      "cell_type": "markdown",
      "source": [
        "Set B - 56/44 split of training set and testing set, moved 30% of training examples to the testing examples\n",
        "\n",
        "---\n",
        "\n"
      ],
      "metadata": {
        "id": "NJGjJYzu1b1L"
      }
    },
    {
      "cell_type": "code",
      "source": [
        "B_train, B_test = split_dataset(heart_data, 0.44)"
      ],
      "metadata": {
        "id": "GiYuJrtX1ogF"
      },
      "execution_count": 40,
      "outputs": []
    },
    {
      "cell_type": "markdown",
      "source": [
        "Set C - 32/68 split of training and testing set, moved 60% from original training set to testing set"
      ],
      "metadata": {
        "id": "pRJhD41m1yJV"
      }
    },
    {
      "cell_type": "code",
      "source": [
        "C_train, C_test = split_dataset(heart_data, 0.68)"
      ],
      "metadata": {
        "id": "vVDytEys2F1l"
      },
      "execution_count": 41,
      "outputs": []
    },
    {
      "cell_type": "markdown",
      "source": [
        "# Perceptron"
      ],
      "metadata": {
        "id": "e3u7pF0WlXhB"
      }
    },
    {
      "cell_type": "code",
      "source": [
        "def fit_data(data, i, t):\n",
        "  x = data.iloc[:, :-1]\n",
        "  y = data.iloc[:, -1]\n",
        "  clf = Perceptron(max_iter=i, tol=t)\n",
        "  clf.fit(x,y)\n",
        "  return clf, x, y"
      ],
      "metadata": {
        "id": "uuLw3jVu2ozt"
      },
      "execution_count": 52,
      "outputs": []
    },
    {
      "cell_type": "markdown",
      "source": [
        "Fitting the classifier with the training set A and then predicting for someone with healthy results gives a result which classifies them as being low risk for heart disease."
      ],
      "metadata": {
        "id": "GRQnKtoP47IT"
      }
    },
    {
      "cell_type": "code",
      "source": [
        "per_clf_A, X, y = fit_data(A_train, 1000, 1e-3)\n",
        "\n",
        "pred = per_clf_A.predict([[22, 1, 2, 110, 180, 1, 0, 100, 0, 0.5, 0, 1, 0]])\n",
        "pred"
      ],
      "metadata": {
        "colab": {
          "base_uri": "https://localhost:8080/"
        },
        "id": "xcrgBoRO2gtb",
        "outputId": "209c96d6-b517-4eab-caea-03f4ed2e336b"
      },
      "execution_count": 53,
      "outputs": [
        {
          "output_type": "stream",
          "name": "stderr",
          "text": [
            "/usr/local/lib/python3.7/dist-packages/sklearn/base.py:451: UserWarning: X does not have valid feature names, but Perceptron was fitted with feature names\n",
            "  \"X does not have valid feature names, but\"\n"
          ]
        },
        {
          "output_type": "execute_result",
          "data": {
            "text/plain": [
              "array([0])"
            ]
          },
          "metadata": {},
          "execution_count": 53
        }
      ]
    },
    {
      "cell_type": "code",
      "source": [
        "per_clf_B, Xb, yb = fit_data(B_train, 1000, 1e-3)\n",
        "per_clf_C, Xc, yc = fit_data(C_train, 1000, 1e-3)"
      ],
      "metadata": {
        "id": "CE_r_yrE7vdz"
      },
      "execution_count": 60,
      "outputs": []
    },
    {
      "cell_type": "markdown",
      "source": [
        "Test the perceptron for the test datasets"
      ],
      "metadata": {
        "id": "x6DdCmgd7Kpx"
      }
    },
    {
      "cell_type": "code",
      "source": [
        "per_clf_A.score(A_test.iloc[:, :-1], A_test.iloc[:, -1])"
      ],
      "metadata": {
        "colab": {
          "base_uri": "https://localhost:8080/"
        },
        "id": "XtzKZFXy69Yu",
        "outputId": "85ebd59f-345d-47fb-afb6-a70423423439"
      },
      "execution_count": 61,
      "outputs": [
        {
          "output_type": "execute_result",
          "data": {
            "text/plain": [
              "0.6885245901639344"
            ]
          },
          "metadata": {},
          "execution_count": 61
        }
      ]
    },
    {
      "cell_type": "code",
      "source": [
        "per_clf_B.score(B_test.iloc[:, :-1], B_test.iloc[:, -1])"
      ],
      "metadata": {
        "colab": {
          "base_uri": "https://localhost:8080/"
        },
        "id": "nMUI-FoP73Aj",
        "outputId": "b5e44fca-2268-4f5a-e4b4-aac523f019f1"
      },
      "execution_count": 62,
      "outputs": [
        {
          "output_type": "execute_result",
          "data": {
            "text/plain": [
              "0.6417910447761194"
            ]
          },
          "metadata": {},
          "execution_count": 62
        }
      ]
    },
    {
      "cell_type": "code",
      "source": [
        "per_clf_C.score(C_test.iloc[:, :-1], C_test.iloc[:, -1])"
      ],
      "metadata": {
        "colab": {
          "base_uri": "https://localhost:8080/"
        },
        "id": "aHbCPF8o75qP",
        "outputId": "6b4a75ce-ff67-4155-a91d-444b15068ce3"
      },
      "execution_count": 63,
      "outputs": [
        {
          "output_type": "execute_result",
          "data": {
            "text/plain": [
              "0.45893719806763283"
            ]
          },
          "metadata": {},
          "execution_count": 63
        }
      ]
    },
    {
      "cell_type": "markdown",
      "source": [
        "# Accuracy Tests"
      ],
      "metadata": {
        "id": "ake8YcN07bgj"
      }
    },
    {
      "cell_type": "markdown",
      "source": [
        "Classifier | Accuracy | TP | FP | FN | TN | Sensitivity |Specificity | Precision | Recall | F1 Score | ROC Area\n",
        "-----------|-------|---|--|--|--|-------|-------|-------|-------|-------|------\n",
        "A |0.59048|17|11|19|14|0.54939|0.633333|0.59016|0.59016|0.59016|0.78\n",
        "B |0.60330|43|18|38|35|0.55128|0.67857|0.60448|0.60448|0.60448|0.76\n",
        "C |0.58024|33|61|87|16|0.55932|0.58783|0.57971|0.57971|0.57971|0.70\n"
      ],
      "metadata": {
        "id": "5zTut3p_8In4"
      }
    },
    {
      "cell_type": "code",
      "source": [
        "def testModel(model, test_data, predict):\n",
        "  train_pred = cross_val_predict(model, test_data, predict, cv=10)\n",
        "  cM = confusion_matrix(predict, train_pred)\n",
        "  TPos, FPos, TNeg, FNeg = cM[0][0] , cM[0][1] , cM[1][0] , cM[1][1]\n",
        "  print(\"Accuracy :\" , np.mean(cross_val_score(model, test_data, predict, cv=10, scoring=\"accuracy\")))\n",
        "  print(\"Confusion Matrix: \" , cM)\n",
        "  print(\"True Positives: \" , TPos)\n",
        "  print(\"False Positives: \" , FPos)\n",
        "  print(\"False Negatives: \" , FNeg)\n",
        "  print(\"True Negatives: \" , TNeg)\n",
        "  print(\"Sensitivity: \" , cM[0][0] / (cM[0][0]+cM[1][0]))\n",
        "  print(\"Specificity: \" , cM[1][1] / (cM[1][1]+cM[0][1]))\n",
        "  print(\"Precision: \", precision_score(predict, train_pred, average='micro'))\n",
        "  print(\"Recall: \" , recall_score(predict, train_pred, average='micro'))\n",
        "  print(\"F1 Score: \" , f1_score(predict, train_pred, average='micro'))"
      ],
      "metadata": {
        "id": "frS4jQwB7dD7"
      },
      "execution_count": 57,
      "outputs": []
    },
    {
      "cell_type": "markdown",
      "source": [
        "Test Model A"
      ],
      "metadata": {
        "id": "_gNpK-iu7kai"
      }
    },
    {
      "cell_type": "code",
      "source": [
        "testModel(per_clf_A, A_test.iloc[:, :-1], A_test.iloc[:, -1])\n",
        "plot_roc_curve(per_clf_A, A_test.iloc[:, :-1], A_test.iloc[:, -1])"
      ],
      "metadata": {
        "colab": {
          "base_uri": "https://localhost:8080/",
          "height": 598
        },
        "id": "eZkulDIa7ltO",
        "outputId": "8f676508-138b-41bc-8248-971c9cc3181f"
      },
      "execution_count": 74,
      "outputs": [
        {
          "output_type": "stream",
          "name": "stdout",
          "text": [
            "Accuracy : 0.5904761904761904\n",
            "Confusion Matrix:  [[17 11]\n",
            " [14 19]]\n",
            "True Positives:  17\n",
            "False Positives:  11\n",
            "False Negatives:  19\n",
            "True Negatives:  14\n",
            "Sensitivity:  0.5483870967741935\n",
            "Specificity:  0.6333333333333333\n",
            "Precision:  0.5901639344262295\n",
            "Recall:  0.5901639344262295\n",
            "F1 Score:  0.5901639344262295\n"
          ]
        },
        {
          "output_type": "stream",
          "name": "stderr",
          "text": [
            "/usr/local/lib/python3.7/dist-packages/sklearn/utils/deprecation.py:87: FutureWarning: Function plot_roc_curve is deprecated; Function :func:`plot_roc_curve` is deprecated in 1.0 and will be removed in 1.2. Use one of the class methods: :meth:`sklearn.metric.RocCurveDisplay.from_predictions` or :meth:`sklearn.metric.RocCurveDisplay.from_estimator`.\n",
            "  warnings.warn(msg, category=FutureWarning)\n"
          ]
        },
        {
          "output_type": "execute_result",
          "data": {
            "text/plain": [
              "<sklearn.metrics._plot.roc_curve.RocCurveDisplay at 0x7fe419851350>"
            ]
          },
          "metadata": {},
          "execution_count": 74
        },
        {
          "output_type": "display_data",
          "data": {
            "text/plain": [
              "<Figure size 432x288 with 1 Axes>"
            ],
            "image/png": "[encoded data removed]"
          },
          "metadata": {
            "needs_background": "light"
          }
        }
      ]
    },
    {
      "cell_type": "markdown",
      "source": [
        "Test Model B"
      ],
      "metadata": {
        "id": "OJOjQQ6l8ADw"
      }
    },
    {
      "cell_type": "code",
      "source": [
        "testModel(per_clf_B, B_test.iloc[:, :-1], B_test.iloc[:, -1])\n",
        "plot_roc_curve(per_clf_B, B_test.iloc[:, :-1], B_test.iloc[:, -1])"
      ],
      "metadata": {
        "colab": {
          "base_uri": "https://localhost:8080/",
          "height": 598
        },
        "id": "DY7onXr47-9Z",
        "outputId": "d4155423-075f-4593-a010-835a4080435e"
      },
      "execution_count": 75,
      "outputs": [
        {
          "output_type": "stream",
          "name": "stdout",
          "text": [
            "Accuracy : 0.6032967032967034\n",
            "Confusion Matrix:  [[43 18]\n",
            " [35 38]]\n",
            "True Positives:  43\n",
            "False Positives:  18\n",
            "False Negatives:  38\n",
            "True Negatives:  35\n",
            "Sensitivity:  0.5512820512820513\n",
            "Specificity:  0.6785714285714286\n",
            "Precision:  0.6044776119402985\n",
            "Recall:  0.6044776119402985\n",
            "F1 Score:  0.6044776119402985\n"
          ]
        },
        {
          "output_type": "stream",
          "name": "stderr",
          "text": [
            "/usr/local/lib/python3.7/dist-packages/sklearn/utils/deprecation.py:87: FutureWarning: Function plot_roc_curve is deprecated; Function :func:`plot_roc_curve` is deprecated in 1.0 and will be removed in 1.2. Use one of the class methods: :meth:`sklearn.metric.RocCurveDisplay.from_predictions` or :meth:`sklearn.metric.RocCurveDisplay.from_estimator`.\n",
            "  warnings.warn(msg, category=FutureWarning)\n"
          ]
        },
        {
          "output_type": "execute_result",
          "data": {
            "text/plain": [
              "<sklearn.metrics._plot.roc_curve.RocCurveDisplay at 0x7fe419688a90>"
            ]
          },
          "metadata": {},
          "execution_count": 75
        },
        {
          "output_type": "display_data",
          "data": {
            "text/plain": [
              "<Figure size 432x288 with 1 Axes>"
            ],
            "image/png": "[encoded data removed]"
          },
          "metadata": {
            "needs_background": "light"
          }
        }
      ]
    },
    {
      "cell_type": "markdown",
      "source": [
        "Test Model C"
      ],
      "metadata": {
        "id": "_5JgRkDu8BCv"
      }
    },
    {
      "cell_type": "code",
      "source": [
        "testModel(per_clf_C, C_test.iloc[:, :-1], C_test.iloc[:, -1])\n",
        "plot_roc_curve(per_clf_C, C_test.iloc[:, :-1], C_test.iloc[:, -1])"
      ],
      "metadata": {
        "colab": {
          "base_uri": "https://localhost:8080/",
          "height": 598
        },
        "id": "36eAgE3e8CPA",
        "outputId": "61621090-b4a6-4069-a16a-88d9a7e9f53a"
      },
      "execution_count": 76,
      "outputs": [
        {
          "output_type": "stream",
          "name": "stdout",
          "text": [
            "Accuracy : 0.5802380952380953\n",
            "Confusion Matrix:  [[33 61]\n",
            " [26 87]]\n",
            "True Positives:  33\n",
            "False Positives:  61\n",
            "False Negatives:  87\n",
            "True Negatives:  26\n",
            "Sensitivity:  0.559322033898305\n",
            "Specificity:  0.5878378378378378\n",
            "Precision:  0.5797101449275363\n",
            "Recall:  0.5797101449275363\n",
            "F1 Score:  0.5797101449275363\n"
          ]
        },
        {
          "output_type": "stream",
          "name": "stderr",
          "text": [
            "/usr/local/lib/python3.7/dist-packages/sklearn/utils/deprecation.py:87: FutureWarning: Function plot_roc_curve is deprecated; Function :func:`plot_roc_curve` is deprecated in 1.0 and will be removed in 1.2. Use one of the class methods: :meth:`sklearn.metric.RocCurveDisplay.from_predictions` or :meth:`sklearn.metric.RocCurveDisplay.from_estimator`.\n",
            "  warnings.warn(msg, category=FutureWarning)\n"
          ]
        },
        {
          "output_type": "execute_result",
          "data": {
            "text/plain": [
              "<sklearn.metrics._plot.roc_curve.RocCurveDisplay at 0x7fe4196f76d0>"
            ]
          },
          "metadata": {},
          "execution_count": 76
        },
        {
          "output_type": "display_data",
          "data": {
            "text/plain": [
              "<Figure size 432x288 with 1 Axes>"
            ],
            "image/png": "[encoded data removed]"
          },
          "metadata": {
            "needs_background": "light"
          }
        }
      ]
    }
  ]
}