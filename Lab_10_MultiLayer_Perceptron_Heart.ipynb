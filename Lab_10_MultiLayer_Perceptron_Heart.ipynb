{
  "nbformat": 4,
  "nbformat_minor": 0,
  "metadata": {
    "colab": {
      "provenance": [],
      "authorship_tag": "ABX9TyOFMTz7A6/113d2bkyp3jdM",
      "include_colab_link": true
    },
    "kernelspec": {
      "name": "python3",
      "display_name": "Python 3"
    },
    "language_info": {
      "name": "python"
    }
  },
  "cells": [
    {
      "cell_type": "markdown",
      "metadata": {
        "id": "view-in-github",
        "colab_type": "text"
      },
      "source": [
        "<a href=\"https://colab.research.google.com/github/romanfen/F21DL-G6/blob/main/Lab_10_MultiLayer_Perceptron_Heart.ipynb\" target=\"_parent\"><img src=\"https://colab.research.google.com/assets/colab-badge.svg\" alt=\"Open In Colab\"/></a>"
      ]
    },
    {
      "cell_type": "markdown",
      "source": [
        "# Setup"
      ],
      "metadata": {
        "id": "Jt6__G7HjjYn"
      }
    },
    {
      "cell_type": "code",
      "execution_count": 26,
      "metadata": {
        "id": "OL99C5qcjilS"
      },
      "outputs": [],
      "source": [
        "import sklearn\n",
        "import tensorflow as tf\n",
        "import numpy as np\n",
        "import pandas as pd\n",
        "\n",
        "\n",
        "%matplotlib inline\n",
        "import matplotlib as mpl\n",
        "import matplotlib.pyplot as plt\n",
        "mpl.rc('axes', labelsize=14)\n",
        "mpl.rc('xtick', labelsize=12)\n",
        "mpl.rc('ytick', labelsize=12)\n",
        "\n",
        "# perceptron set up\n",
        "from sklearn.datasets import load_iris\n",
        "from sklearn.linear_model import Perceptron\n",
        "\n",
        "# stratificiation set up\n",
        "from sklearn.model_selection import StratifiedShuffleSplit"
      ]
    },
    {
      "cell_type": "markdown",
      "source": [
        "# Load Data"
      ],
      "metadata": {
        "id": "aFdGDlTYl5Fp"
      }
    },
    {
      "cell_type": "markdown",
      "source": [
        "Chosen dataset relates to data from patients to deduce their risk of heart attack.\n",
        "\n",
        "Source: https://www.kaggle.com/datasets/rashikrahmanpritom/heart-attack-analysis-prediction-dataset\n",
        "\n",
        "Columns:\n",
        "* Age: Age of patient (numerical)\n",
        "* Sex: Sex of patient (ordinal)\n",
        "```\n",
        "0 : Female\n",
        "1 : Male\n",
        "```\n",
        "* Cp: Chest Pain type (ordinal)\n",
        "```\n",
        "0 : typical angina\n",
        "1 : atypical angina\n",
        "2 : non-anginal \n",
        "3 : asymptomatic\n",
        "```\n",
        "* Trtbps: Resting blood pressure measured in mm Hg (numerical)\n",
        "* Chol: Cholesterol in mg/dl via BMI sensor (numerical)\n",
        "* Fbs: Is fasting blood sugar below 120 mg / dl (binary)\n",
        "```\n",
        "0 : False\n",
        "1 : True\n",
        "```\n",
        "* Rest_ecg Resting Electrocardiographic Results (ordinal)\n",
        "```\n",
        "0 : Normal\n",
        "1 : ST-T Wave Abnormality\n",
        "2 : Probably / definite ventricular hypertrophy\n",
        "```\n",
        "* Thalach: Maximum heart rate achieved (numerical)\n",
        "* Exang: Does patient experience exercise induced angina (binary)\n",
        "```\n",
        "0 : No\n",
        "1 : Yes\n",
        "```\n",
        "* Oldpeak: ST depression induced by exercise relative to rest (numerical)\n",
        "* Slp: Slope of peak exercise ST segment (ordinal)\n",
        "```\n",
        "0 : unsloping\n",
        "1 : flat\n",
        "2 : downsloping\n",
        "```\n",
        "* caa: Number of major blood vessels (numerical range from 0 to 3)\n",
        "* thall: thalassemia\n",
        "```\n",
        "0 : null\n",
        "1 : fixed defect\n",
        "2 : normal \n",
        "3 : reversable defect\n",
        "```\n",
        "\n",
        "Target:\n",
        "* output: Diagnosis Chance of Heart Disease\n",
        "```\n",
        "0 : Less Chance\n",
        "1 : Increased Risk\n",
        "```"
      ],
      "metadata": {
        "id": "l2hB9XTFmUai"
      }
    },
    {
      "cell_type": "code",
      "source": [
        "# Load the data\n",
        "def load_data():\n",
        "    url = \"https://raw.githubusercontent.com/romanfen/F21DL-G6/main/datasets/heart.csv\"\n",
        "    return pd.read_csv(url)\n",
        "\n",
        "heart_data = load_data()\n",
        "heart_cols = list(heart_data.columns)\n",
        "print(heart_cols)"
      ],
      "metadata": {
        "colab": {
          "base_uri": "https://localhost:8080/"
        },
        "id": "GZyTujJ8l6KD",
        "outputId": "f62712ac-d8f9-4b9f-8206-5fc026f9c182"
      },
      "execution_count": 18,
      "outputs": [
        {
          "output_type": "stream",
          "name": "stdout",
          "text": [
            "['age', 'sex', 'cp', 'trtbps', 'chol', 'fbs', 'restecg', 'thalachh', 'exng', 'oldpeak', 'slp', 'caa', 'thall', 'output']\n"
          ]
        }
      ]
    },
    {
      "cell_type": "markdown",
      "source": [
        "Split into 3 sets of data"
      ],
      "metadata": {
        "id": "0HfwDR0C0mRf"
      }
    },
    {
      "cell_type": "code",
      "source": [
        "def split_dataset(data, ratio):\n",
        "  split = StratifiedShuffleSplit(n_splits=1, test_size=ratio, random_state=42)\n",
        "  for train_index, test_index in split.split(data, data[\"output\"]):\n",
        "      strat_train_set = data.loc[train_index]\n",
        "      strat_test_set = data.loc[test_index]\n",
        "  return strat_train_set, strat_test_set"
      ],
      "metadata": {
        "id": "ex2jri3F0llz"
      },
      "execution_count": 28,
      "outputs": []
    },
    {
      "cell_type": "markdown",
      "source": [
        "Set A - 80/20 split of training set and testing set"
      ],
      "metadata": {
        "id": "2JbUpxGp0yv1"
      }
    },
    {
      "cell_type": "code",
      "source": [
        "A_train, A_test = split_dataset(heart_data, 0.2)"
      ],
      "metadata": {
        "id": "HqSJaSko0yJU"
      },
      "execution_count": 39,
      "outputs": []
    },
    {
      "cell_type": "markdown",
      "source": [
        "Set B - 56/44 split of training set and testing set, moved 30% of training examples to the testing examples\n",
        "\n",
        "---\n",
        "\n"
      ],
      "metadata": {
        "id": "NJGjJYzu1b1L"
      }
    },
    {
      "cell_type": "code",
      "source": [
        "B_train, B_test = split_dataset(heart_data, 0.44)"
      ],
      "metadata": {
        "id": "GiYuJrtX1ogF"
      },
      "execution_count": 40,
      "outputs": []
    },
    {
      "cell_type": "markdown",
      "source": [
        "Set C - 32/68 split of training and testing set, moved 60% from original training set to testing set"
      ],
      "metadata": {
        "id": "pRJhD41m1yJV"
      }
    },
    {
      "cell_type": "code",
      "source": [
        "C_train, C_test = split_dataset(heart_data, 0.68)"
      ],
      "metadata": {
        "id": "vVDytEys2F1l"
      },
      "execution_count": 41,
      "outputs": []
    },
    {
      "cell_type": "markdown",
      "source": [
        "# Perceptron"
      ],
      "metadata": {
        "id": "e3u7pF0WlXhB"
      }
    },
    {
      "cell_type": "code",
      "source": [
        "def fit_data(data, i, t):\n",
        "  x = data.iloc[:, :-1]\n",
        "  y = data.iloc[:, -1]\n",
        "  clf = Perceptron(max_iter=i, tol=t)\n",
        "  clf.fit(x,y)\n",
        "  return clf, x, y"
      ],
      "metadata": {
        "id": "uuLw3jVu2ozt"
      },
      "execution_count": 52,
      "outputs": []
    },
    {
      "cell_type": "markdown",
      "source": [
        "Fitting the classifier with the training set A and then predicting for someone with healthy results gives a result which classifies them as being low risk for heart disease."
      ],
      "metadata": {
        "id": "GRQnKtoP47IT"
      }
    },
    {
      "cell_type": "code",
      "source": [
        "per_clf_A, X, y = fit_data(A_train, 1000, 1e-3)\n",
        "\n",
        "pred = per_clf_A.predict([[22, 1, 2, 110, 180, 1, 0, 100, 0, 0.5, 0, 1, 0]])\n",
        "pred"
      ],
      "metadata": {
        "colab": {
          "base_uri": "https://localhost:8080/"
        },
        "id": "xcrgBoRO2gtb",
        "outputId": "209c96d6-b517-4eab-caea-03f4ed2e336b"
      },
      "execution_count": 53,
      "outputs": [
        {
          "output_type": "stream",
          "name": "stderr",
          "text": [
            "/usr/local/lib/python3.7/dist-packages/sklearn/base.py:451: UserWarning: X does not have valid feature names, but Perceptron was fitted with feature names\n",
            "  \"X does not have valid feature names, but\"\n"
          ]
        },
        {
          "output_type": "execute_result",
          "data": {
            "text/plain": [
              "array([0])"
            ]
          },
          "metadata": {},
          "execution_count": 53
        }
      ]
    }
  ]
}