{
  "nbformat": 4,
  "nbformat_minor": 0,
  "metadata": {
    "colab": {
      "provenance": [],
      "authorship_tag": "ABX9TyO1G6BJz1hSMqHtgnJOSx2X",
      "include_colab_link": true
    },
    "kernelspec": {
      "name": "python3",
      "display_name": "Python 3"
    },
    "language_info": {
      "name": "python"
    }
  },
  "cells": [
    {
      "cell_type": "markdown",
      "metadata": {
        "id": "view-in-github",
        "colab_type": "text"
      },
      "source": [
        "<a href=\"https://colab.research.google.com/github/romanfen/F21DL-G6/blob/main/Lab8_DecisionTree.ipynb\" target=\"_parent\"><img src=\"https://colab.research.google.com/assets/colab-badge.svg\" alt=\"Open In Colab\"/></a>"
      ]
    },
    {
      "cell_type": "markdown",
      "source": [
        "# Set Up"
      ],
      "metadata": {
        "id": "jGzsGP_UPePb"
      }
    },
    {
      "cell_type": "code",
      "execution_count": 1,
      "metadata": {
        "colab": {
          "base_uri": "https://localhost:8080/"
        },
        "id": "JqgcNGu8PRvB",
        "outputId": "5c6012cf-3a28-40c2-f6af-11719ed329be"
      },
      "outputs": [
        {
          "output_type": "stream",
          "name": "stdout",
          "text": [
            "3.7.15\n"
          ]
        }
      ],
      "source": [
        "import sys\n",
        "sys.path\n",
        "from platform import python_version\n",
        "assert sys.version_info >= (3, 5)\n",
        "print(python_version())\n",
        "\n",
        "import numpy as np\n",
        "import os\n",
        "import tarfile\n",
        "import urllib\n",
        "import pandas as pd\n",
        "import urllib.request\n",
        "from pylab import rcParams\n",
        "import seaborn as sb\n",
        "\n",
        "import sklearn\n",
        "assert sklearn.__version__ >= \"0.20\"\n",
        "from sklearn.preprocessing import OneHotEncoder\n",
        "from sklearn.linear_model import LinearRegression\n",
        "from sklearn.preprocessing import scale\n",
        "from sklearn.preprocessing import MinMaxScaler\n",
        "from collections import Counter\n",
        "\n",
        "# To plot pretty figures\n",
        "%matplotlib inline\n",
        "import matplotlib as mpl\n",
        "import matplotlib.pyplot as plt"
      ]
    },
    {
      "cell_type": "markdown",
      "source": [
        "## Load Data from GitHub"
      ],
      "metadata": {
        "id": "LeC18d5DPmKI"
      }
    },
    {
      "cell_type": "markdown",
      "source": [],
      "metadata": {
        "id": "On5CKLJ7PyoY"
      }
    },
    {
      "cell_type": "code",
      "source": [
        "# Load the data\n",
        "def load_data():\n",
        "    url = \"https://raw.githubusercontent.com/romanfen/F21DL-G6/main/datasets/Maths.csv\"\n",
        "    return pd.read_csv(url)\n",
        "\n",
        "students = load_data()\n",
        "students_cols = list(students.columns)\n",
        "print(students_cols)"
      ],
      "metadata": {
        "colab": {
          "base_uri": "https://localhost:8080/"
        },
        "id": "y1ZGuT_cPdnp",
        "outputId": "bc620701-7ced-4b67-8c5f-06fefcc36540"
      },
      "execution_count": 2,
      "outputs": [
        {
          "output_type": "stream",
          "name": "stdout",
          "text": [
            "['school', 'sex', 'age', 'address', 'famsize', 'Pstatus', 'Medu', 'Fedu', 'Mjob', 'Fjob', 'reason', 'guardian', 'traveltime', 'studytime', 'failures', 'schoolsup', 'famsup', 'paid', 'activities', 'nursery', 'higher', 'internet', 'romantic', 'famrel', 'freetime', 'goout', 'Dalc', 'Walc', 'health', 'absences', 'G1', 'G2', 'G3']\n"
          ]
        }
      ]
    },
    {
      "cell_type": "markdown",
      "source": [
        "# Data Prep"
      ],
      "metadata": {
        "id": "JWtpWlnXPxGg"
      }
    },
    {
      "cell_type": "markdown",
      "source": [
        "## Binning"
      ],
      "metadata": {
        "id": "nW36BKtuP1i4"
      }
    },
    {
      "cell_type": "code",
      "source": [
        "# Sort Grade 3 results into A,B,C and Fail Grades\n",
        "# A >= 70%\n",
        "# B >= 60%\n",
        "# C >= 50%\n",
        "# Fail < 70%\n",
        "\n",
        "def bin_grades(dataset):\n",
        "  dataset['G3_cat'] = pd.cut(dataset['G3'],\n",
        "                            bins=[-np.inf, 9.0, 11.0, 13.0, 20],\n",
        "                            labels=['Fail', 'C', 'B', 'A'])\n",
        "  \n",
        "bin_grades(students)\n",
        "students['G3_cat'].hist()"
      ],
      "metadata": {
        "colab": {
          "base_uri": "https://localhost:8080/",
          "height": 282
        },
        "id": "A4VWza6rP06I",
        "outputId": "b56afb1a-33dc-4415-b526-2cbf46cef8a7"
      },
      "execution_count": 3,
      "outputs": [
        {
          "output_type": "execute_result",
          "data": {
            "text/plain": [
              "<matplotlib.axes._subplots.AxesSubplot at 0x7f37fe5d5750>"
            ]
          },
          "metadata": {},
          "execution_count": 3
        },
        {
          "output_type": "display_data",
          "data": {
            "text/plain": [
              "<Figure size 432x288 with 1 Axes>"
            ],
            "image/png": "[encoded data removed]"
          },
          "metadata": {
            "needs_background": "light"
          }
        }
      ]
    },
    {
      "cell_type": "markdown",
      "source": [
        "## Data Subsets"
      ],
      "metadata": {
        "id": "d7tTjbeRQRz8"
      }
    },
    {
      "cell_type": "markdown",
      "source": [
        "In order to find relationships between the features of our data we will split the data into smaller datasets.\n",
        "\n",
        "activities_data - This dataset will contain infortmation relating to a students extra-cirricular activities\n",
        "\n",
        "family_data - This dataset will contain information relating to a students family life.\n",
        "\n",
        "school_data - This dataset will contain information relating to a students school and study habits.\n",
        "\n",
        "personal_data - This dataset contains information relating to the invdividuals lifestyle and health"
      ],
      "metadata": {
        "id": "GtUgSPIKQVuA"
      }
    },
    {
      "cell_type": "code",
      "source": [
        "activities_data = students[['activities','romantic','freetime','goout','Dalc','Walc','G1','G2','G3','G3_cat']]\n",
        "family_data = students[['famsize','Pstatus','Medu','Fedu','Mjob','Fjob','guardian','famsup','internet','G3','G3_cat']]\n",
        "school_data = students[['school','studytime','failures','schoolsup','paid','nursery','higher','absences','G3_cat']]#,'G1','G2',,'G3_cat']]\n",
        "personal_data = students[['school','sex','age','Dalc','Walc','health','absences','G1','G2','G3','G3_cat']]\n",
        "\n",
        "subsets = [activities_data, family_data, school_data, personal_data]"
      ],
      "metadata": {
        "id": "MMTiCvPbQT_I"
      },
      "execution_count": 9,
      "outputs": []
    },
    {
      "cell_type": "markdown",
      "source": [
        "The decisions trees will look at the personal data, so we will create training sets and test sets"
      ],
      "metadata": {
        "id": "yal_IE2WT8i5"
      }
    },
    {
      "cell_type": "code",
      "source": [
        "# Can also do stratified data split\n",
        "from sklearn.model_selection import StratifiedShuffleSplit\n",
        "\n",
        "def split_dataset(data, ratio):\n",
        "  split = StratifiedShuffleSplit(n_splits=1, test_size=ratio, random_state=42)\n",
        "  for train_index, test_index in split.split(data, data[\"G3_cat\"]):\n",
        "      strat_train_set = data.loc[train_index]\n",
        "      strat_test_set = data.loc[test_index]\n",
        "  return strat_train_set, strat_test_set"
      ],
      "metadata": {
        "id": "1S9XvFSuUCu6"
      },
      "execution_count": 15,
      "outputs": []
    },
    {
      "cell_type": "code",
      "source": [
        "# Split training 80% test 20%\n",
        "personal_train_8020, personal_test_8020 = split_dataset(personal_data, 0.2)\n",
        "personal_target_8020 = personal_train_8020['G3_cat'].copy()\n",
        "personal_train_8020, personal_test_8020 = personal_train_8020.drop(['G3_cat'], axis=1), personal_test_8020.drop(['G3_cat'], axis=1)\n",
        "\n",
        "# Split training 50% test 50%\n",
        "personal_train_5050, personal_test_5050 = split_dataset(personal_data, 0.5)\n",
        "personal_target_5050 = personal_train_5050['G3_cat'].copy()\n",
        "personal_train_5050, personal_test_5050 = personal_train_5050.drop(['G3_cat'], axis=1), personal_test_5050.drop(['G3_cat'], axis=1)\n",
        "\n",
        "# Split training 20% test 80%\n",
        "personal_train_2080, personal_test_2080 = split_dataset(personal_data, 0.8)\n",
        "personal_target_2080 = personal_train_2080['G3_cat'].copy()\n",
        "personal_train_2080, personal_test_8020 = personal_train_2080.drop(['G3_cat'], axis=1), personal_test_2080.drop(['G3_cat'], axis=1)"
      ],
      "metadata": {
        "id": "FoCNUPqdUQIK"
      },
      "execution_count": 16,
      "outputs": []
    },
    {
      "cell_type": "markdown",
      "source": [
        "## Pipeline"
      ],
      "metadata": {
        "id": "DuRZ0KxKWJgx"
      }
    },
    {
      "cell_type": "code",
      "source": [
        "# Pipeline\n",
        "from sklearn.pipeline import Pipeline\n",
        "from sklearn.preprocessing import MinMaxScaler\n",
        "from sklearn.impute import SimpleImputer\n",
        "from sklearn.compose import ColumnTransformer\n",
        "from sklearn.preprocessing import OneHotEncoder\n",
        "from sklearn.preprocessing import OrdinalEncoder\n",
        "\n",
        "def get_types(dataset):\n",
        "  num_attr = list(dataset.select_dtypes(include='number'))\n",
        "  cat_attr = list(dataset.select_dtypes(exclude='number'))\n",
        "  print(num_attr, cat_attr)\n",
        "  return num_attr, cat_attr\n",
        "\n",
        "num, cat = get_types(personal_train_8020)\n",
        "\n",
        "num_pipeline = Pipeline([\n",
        "      ('MnMx_scaler', MinMaxScaler()),\n",
        "  ])\n",
        "cat_pipeline = OrdinalEncoder()\n",
        "\n",
        "full_pipeline =  ColumnTransformer(\n",
        "    transformers=[\n",
        "        (\"num\", num_pipeline, num),#  Apply the numerical transformation to the all numeric columns\n",
        "        (\"cat\", cat_pipeline, cat), # Apply the One Hot Encoding to the all categorical columns\n",
        "  ])"
      ],
      "metadata": {
        "colab": {
          "base_uri": "https://localhost:8080/"
        },
        "id": "KkRpnEIHWKrx",
        "outputId": "7fbffe20-f8b1-4ca1-cba7-8b64b657458c"
      },
      "execution_count": 17,
      "outputs": [
        {
          "output_type": "stream",
          "name": "stdout",
          "text": [
            "['age', 'Dalc', 'Walc', 'health', 'absences', 'G1', 'G2', 'G3'] ['school', 'sex']\n"
          ]
        }
      ]
    },
    {
      "cell_type": "code",
      "source": [
        "prep_8020 = full_pipeline.fit_transform(personal_train_8020)\n",
        "prep_5050 = full_pipeline.fit_transform(personal_train_5050)\n",
        "prep_2080 = full_pipeline.fit_transform(personal_train_2080)\n",
        "\n",
        "print(personal_train_8020.head())\n",
        "print(prep_8020[3])"
      ],
      "metadata": {
        "colab": {
          "base_uri": "https://localhost:8080/"
        },
        "id": "Thu1I2xDWWAV",
        "outputId": "9e574d1e-0a47-4358-b0a2-b7fb6bbae18f"
      },
      "execution_count": 18,
      "outputs": [
        {
          "output_type": "stream",
          "name": "stdout",
          "text": [
            "    school sex  age  Dalc  Walc  health  absences  G1  G2  G3\n",
            "107     GP   M   16     1     1       5         2  16  18  18\n",
            "355     MS   F   18     1     1       5         0  10   9   9\n",
            "121     GP   M   15     1     2       5         6  16  14  15\n",
            "36      GP   M   15     1     1       4         2  15  16  18\n",
            "112     GP   F   16     1     1       5         6  10  13  13\n",
            "[0.         0.         0.         0.75       0.02666667 0.75\n",
            " 0.84210526 0.9        0.         1.        ]\n"
          ]
        }
      ]
    },
    {
      "cell_type": "markdown",
      "source": [
        "# Decision Trees"
      ],
      "metadata": {
        "id": "jQHBUSdOXq8x"
      }
    },
    {
      "cell_type": "code",
      "source": [
        "from sklearn.tree import DecisionTreeClassifier,plot_tree\n",
        "\n",
        "# create the decision trees\n",
        "tree_8020_2 = DecisionTreeClassifier(max_depth=2, random_state=42)\n",
        "tree_8020_2.fit(prep_8020, personal_target_8020)\n",
        "\n",
        "# create the decision trees\n",
        "tree_HalfSplit_2 = DecisionTreeClassifier(max_depth=2, random_state=42)\n",
        "tree_HalfSplit_2.fit(prep_5050, personal_target_5050)\n",
        "\n",
        "# create the decision trees\n",
        "tree_2080_2 = DecisionTreeClassifier(max_depth=2, random_state=42)\n",
        "tree_2080_2.fit(prep_2080, personal_target_2080)"
      ],
      "metadata": {
        "colab": {
          "base_uri": "https://localhost:8080/"
        },
        "id": "GOh8nSM4XseB",
        "outputId": "145f9e8d-90ae-4a04-e5fd-5ee2c650563d"
      },
      "execution_count": 21,
      "outputs": [
        {
          "output_type": "execute_result",
          "data": {
            "text/plain": [
              "DecisionTreeClassifier(max_depth=2, random_state=42)"
            ]
          },
          "metadata": {},
          "execution_count": 21
        }
      ]
    },
    {
      "cell_type": "code",
      "source": [
        "plt.figure(figsize=(10,10))\n",
        "plot_tree(tree_8020_2, fontsize=10)"
      ],
      "metadata": {
        "colab": {
          "base_uri": "https://localhost:8080/",
          "height": 662
        },
        "id": "oFeQt4kbYN4q",
        "outputId": "6d395d60-a852-4bf6-c6b3-0097bcb22ecd"
      },
      "execution_count": 22,
      "outputs": [
        {
          "output_type": "execute_result",
          "data": {
            "text/plain": [
              "[Text(0.4, 0.8333333333333334, 'X[7] <= 0.475\\ngini = 0.735\\nsamples = 316\\nvalue = [80, 50, 82, 104]'),\n",
              " Text(0.2, 0.5, 'gini = 0.0\\nsamples = 104\\nvalue = [0, 0, 0, 104]'),\n",
              " Text(0.6, 0.5, 'X[7] <= 0.575\\ngini = 0.652\\nsamples = 212\\nvalue = [80, 50, 82, 0]'),\n",
              " Text(0.4, 0.16666666666666666, 'gini = 0.0\\nsamples = 82\\nvalue = [0, 0, 82, 0]'),\n",
              " Text(0.8, 0.16666666666666666, 'gini = 0.473\\nsamples = 130\\nvalue = [80, 50, 0, 0]')]"
            ]
          },
          "metadata": {},
          "execution_count": 22
        },
        {
          "output_type": "display_data",
          "data": {
            "text/plain": [
              "<Figure size 720x720 with 1 Axes>"
            ],
            "image/png": "[encoded data removed]"
          },
          "metadata": {
            "needs_background": "light"
          }
        }
      ]
    },
    {
      "cell_type": "code",
      "source": [
        "plt.figure(figsize=(10,10))\n",
        "plot_tree(tree_HalfSplit_2, fontsize=10)"
      ],
      "metadata": {
        "colab": {
          "base_uri": "https://localhost:8080/",
          "height": 662
        },
        "id": "HB9bvtHzYPaC",
        "outputId": "5ad10f4b-f421-4573-f2a8-55e5f046a0c6"
      },
      "execution_count": 24,
      "outputs": [
        {
          "output_type": "execute_result",
          "data": {
            "text/plain": [
              "[Text(0.4, 0.8333333333333334, 'X[7] <= 0.475\\ngini = 0.735\\nsamples = 197\\nvalue = [50, 31, 51, 65]'),\n",
              " Text(0.2, 0.5, 'gini = 0.0\\nsamples = 65\\nvalue = [0, 0, 0, 65]'),\n",
              " Text(0.6, 0.5, 'X[7] <= 0.575\\ngini = 0.652\\nsamples = 132\\nvalue = [50, 31, 51, 0]'),\n",
              " Text(0.4, 0.16666666666666666, 'gini = 0.0\\nsamples = 51\\nvalue = [0, 0, 51, 0]'),\n",
              " Text(0.8, 0.16666666666666666, 'gini = 0.472\\nsamples = 81\\nvalue = [50, 31, 0, 0]')]"
            ]
          },
          "metadata": {},
          "execution_count": 24
        },
        {
          "output_type": "display_data",
          "data": {
            "text/plain": [
              "<Figure size 720x720 with 1 Axes>"
            ],
            "image/png": "[encoded data removed]"
          },
          "metadata": {
            "needs_background": "light"
          }
        }
      ]
    },
    {
      "cell_type": "code",
      "source": [
        "plt.figure(figsize=(10,10))\n",
        "plot_tree(tree_2080_2, fontsize=10)"
      ],
      "metadata": {
        "colab": {
          "base_uri": "https://localhost:8080/",
          "height": 662
        },
        "id": "IZNrhikWYRqf",
        "outputId": "5a4fcb3a-8388-4ac2-aaa7-4267eba48688"
      },
      "execution_count": 23,
      "outputs": [
        {
          "output_type": "execute_result",
          "data": {
            "text/plain": [
              "[Text(0.4, 0.8333333333333334, 'X[7] <= 0.475\\ngini = 0.734\\nsamples = 79\\nvalue = [20, 12, 21, 26]'),\n",
              " Text(0.2, 0.5, 'gini = 0.0\\nsamples = 26\\nvalue = [0, 0, 0, 26]'),\n",
              " Text(0.6, 0.5, 'X[7] <= 0.575\\ngini = 0.649\\nsamples = 53\\nvalue = [20, 12, 21, 0]'),\n",
              " Text(0.4, 0.16666666666666666, 'gini = 0.0\\nsamples = 21\\nvalue = [0, 0, 21, 0]'),\n",
              " Text(0.8, 0.16666666666666666, 'gini = 0.469\\nsamples = 32\\nvalue = [20, 12, 0, 0]')]"
            ]
          },
          "metadata": {},
          "execution_count": 23
        },
        {
          "output_type": "display_data",
          "data": {
            "text/plain": [
              "<Figure size 720x720 with 1 Axes>"
            ],
            "image/png": "[encoded data removed]"
          },
          "metadata": {
            "needs_background": "light"
          }
        }
      ]
    },
    {
      "cell_type": "markdown",
      "source": [
        "# Accuracy Tests"
      ],
      "metadata": {
        "id": "Y6vcZ9QjYdrB"
      }
    },
    {
      "cell_type": "code",
      "source": [
        "from sklearn.model_selection import cross_val_score\n",
        "from sklearn.model_selection import cross_val_predict\n",
        "from sklearn.metrics import confusion_matrix\n",
        "from sklearn.metrics import precision_score, recall_score\n",
        "from sklearn.metrics import f1_score\n",
        "from sklearn.metrics import roc_curve\n",
        "from sklearn.metrics import roc_auc_score"
      ],
      "metadata": {
        "id": "NipD85meYfN_"
      },
      "execution_count": 25,
      "outputs": []
    },
    {
      "cell_type": "code",
      "source": [
        "def testModel(model, test_data, predict):\n",
        "  train_pred = cross_val_predict(model, test_data, predict, cv=10)\n",
        "  cM = confusion_matrix(predict, train_pred)\n",
        "  TPos, FPos, TNeg, FNeg = cM[0][0] , cM[0][1] , cM[1][0] , cM[1][1]\n",
        "  print(\"Accuracy :\" , np.mean(cross_val_score(model, test_data, predict, cv=10, scoring=\"accuracy\")))\n",
        "  print(\"Confusion Matrix: \" , cM)\n",
        "  print(\"True Positives: \" , TPos)\n",
        "  print(\"False Positives: \" , FPos)\n",
        "  print(\"False Negatives: \" , FNeg)\n",
        "  print(\"True Negatives: \" , TNeg)\n",
        "  print(\"Sensitivity: \" , cM[0][0] / (cM[0][0]+cM[1][0]))\n",
        "  print(\"Specificity: \" , cM[1][1] / (cM[1][1]+cM[0][1]))\n",
        "  print(\"Precision: \", precision_score(predict, train_pred, average='micro'))\n",
        "  print(\"Recall: \" , recall_score(predict, train_pred, average='micro'))\n",
        "  print(\"F1 Score: \" , f1_score(predict, train_pred, average='micro'))"
      ],
      "metadata": {
        "id": "YlnQG54-Yic9"
      },
      "execution_count": 27,
      "outputs": []
    },
    {
      "cell_type": "code",
      "source": [
        "testModel(tree_8020_2, prep_8020, personal_target_8020)"
      ],
      "metadata": {
        "colab": {
          "base_uri": "https://localhost:8080/"
        },
        "id": "C2KrO329Yp_V",
        "outputId": "b4ef7414-cbd9-4534-c4b9-060919c2896b"
      },
      "execution_count": 28,
      "outputs": [
        {
          "output_type": "stream",
          "name": "stdout",
          "text": [
            "Accuracy : 0.841733870967742\n",
            "Confusion Matrix:  [[ 80   0   0   0]\n",
            " [ 50   0   0   0]\n",
            " [  0   0  82   0]\n",
            " [  0   0   0 104]]\n",
            "True Positives:  80\n",
            "False Positives:  0\n",
            "False Negatives:  0\n",
            "True Negatives:  50\n",
            "Sensitivity:  0.6153846153846154\n",
            "Specificity:  nan\n",
            "Precision:  0.8417721518987342\n",
            "Recall:  0.8417721518987342\n",
            "F1 Score:  0.8417721518987342\n"
          ]
        },
        {
          "output_type": "stream",
          "name": "stderr",
          "text": [
            "/usr/local/lib/python3.7/dist-packages/ipykernel_launcher.py:12: RuntimeWarning: invalid value encountered in long_scalars\n",
            "  if sys.path[0] == '':\n"
          ]
        }
      ]
    },
    {
      "cell_type": "code",
      "source": [
        "testModel(tree_HalfSplit_2, prep_5050, personal_target_5050)"
      ],
      "metadata": {
        "colab": {
          "base_uri": "https://localhost:8080/"
        },
        "id": "wlmkM07QZAWJ",
        "outputId": "bf03e2c9-8d09-44e9-e769-08f3e79af917"
      },
      "execution_count": 30,
      "outputs": [
        {
          "output_type": "stream",
          "name": "stdout",
          "text": [
            "Accuracy : 0.8426315789473684\n",
            "Confusion Matrix:  [[50  0  0  0]\n",
            " [31  0  0  0]\n",
            " [ 0  0 51  0]\n",
            " [ 0  0  0 65]]\n",
            "True Positives:  50\n",
            "False Positives:  0\n",
            "False Negatives:  0\n",
            "True Negatives:  31\n",
            "Sensitivity:  0.6172839506172839\n",
            "Specificity:  nan\n",
            "Precision:  0.8426395939086294\n",
            "Recall:  0.8426395939086294\n",
            "F1 Score:  0.8426395939086294\n"
          ]
        },
        {
          "output_type": "stream",
          "name": "stderr",
          "text": [
            "/usr/local/lib/python3.7/dist-packages/ipykernel_launcher.py:12: RuntimeWarning: invalid value encountered in long_scalars\n",
            "  if sys.path[0] == '':\n"
          ]
        }
      ]
    },
    {
      "cell_type": "code",
      "source": [
        "testModel(tree_2080_2, prep_2080, personal_target_2080)"
      ],
      "metadata": {
        "colab": {
          "base_uri": "https://localhost:8080/"
        },
        "id": "3Eh7dQ03ZBth",
        "outputId": "d0c674aa-8e3a-48a1-9824-bd2b77ff0ac7"
      },
      "execution_count": 31,
      "outputs": [
        {
          "output_type": "stream",
          "name": "stdout",
          "text": [
            "Accuracy : 0.8482142857142858\n",
            "Confusion Matrix:  [[20  0  0  0]\n",
            " [12  0  0  0]\n",
            " [ 0  0 21  0]\n",
            " [ 0  0  0 26]]\n",
            "True Positives:  20\n",
            "False Positives:  0\n",
            "False Negatives:  0\n",
            "True Negatives:  12\n",
            "Sensitivity:  0.625\n",
            "Specificity:  nan\n",
            "Precision:  0.8481012658227848\n",
            "Recall:  0.8481012658227848\n",
            "F1 Score:  0.8481012658227848\n"
          ]
        },
        {
          "output_type": "stream",
          "name": "stderr",
          "text": [
            "/usr/local/lib/python3.7/dist-packages/ipykernel_launcher.py:12: RuntimeWarning: invalid value encountered in long_scalars\n",
            "  if sys.path[0] == '':\n"
          ]
        }
      ]
    }
  ]
}