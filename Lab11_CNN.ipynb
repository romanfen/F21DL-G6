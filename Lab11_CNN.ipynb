{
  "nbformat": 4,
  "nbformat_minor": 0,
  "metadata": {
    "colab": {
      "provenance": [],
      "authorship_tag": "ABX9TyN73PALk+lBN1URc9eMTst2",
      "include_colab_link": true
    },
    "kernelspec": {
      "name": "python3",
      "display_name": "Python 3"
    },
    "language_info": {
      "name": "python"
    }
  },
  "cells": [
    {
      "cell_type": "markdown",
      "metadata": {
        "id": "view-in-github",
        "colab_type": "text"
      },
      "source": [
        "<a href=\"https://colab.research.google.com/github/romanfen/F21DL-G6/blob/main/Lab11_CNN.ipynb\" target=\"_parent\"><img src=\"https://colab.research.google.com/assets/colab-badge.svg\" alt=\"Open In Colab\"/></a>"
      ]
    },
    {
      "cell_type": "markdown",
      "source": [
        "# Set Up and Imports"
      ],
      "metadata": {
        "id": "EE0p3je--zTM"
      }
    },
    {
      "cell_type": "code",
      "source": [
        "import tensorflow as tf\n",
        "print(tf.__version__)"
      ],
      "metadata": {
        "colab": {
          "base_uri": "https://localhost:8080/"
        },
        "id": "oIEGCpyF-3pe",
        "outputId": "f0c6cf85-fd3a-456b-b671-9f2b438b3da4"
      },
      "execution_count": 189,
      "outputs": [
        {
          "output_type": "stream",
          "name": "stdout",
          "text": [
            "2.9.2\n"
          ]
        }
      ]
    },
    {
      "cell_type": "code",
      "source": [
        "import matplotlib.pyplot as plt\n",
        "import numpy as np"
      ],
      "metadata": {
        "id": "DQt3rF0g-9QH"
      },
      "execution_count": 190,
      "outputs": []
    },
    {
      "cell_type": "code",
      "source": [
        "from google.colab import drive\n",
        "drive.mount('/content/drive')"
      ],
      "metadata": {
        "colab": {
          "base_uri": "https://localhost:8080/"
        },
        "id": "_GBkmLg2Dl6A",
        "outputId": "d177c24e-c7c7-446f-e9f1-3b1a7d1d1a92"
      },
      "execution_count": 191,
      "outputs": [
        {
          "output_type": "stream",
          "name": "stdout",
          "text": [
            "Drive already mounted at /content/drive; to attempt to forcibly remount, call drive.mount(\"/content/drive\", force_remount=True).\n"
          ]
        }
      ]
    },
    {
      "cell_type": "markdown",
      "source": [
        "# Import Smile Data"
      ],
      "metadata": {
        "id": "VmrTrbrB-WsW"
      }
    },
    {
      "cell_type": "code",
      "execution_count": 192,
      "metadata": {
        "id": "fOInMsWu62Y4"
      },
      "outputs": [],
      "source": [
        "X = np.load('/content/drive/MyDrive/Colab Notebooks/smiley_X.npy')\n",
        "y = np.load('/content/drive/MyDrive/Colab Notebooks/smiley_y.npy')"
      ]
    },
    {
      "cell_type": "code",
      "source": [
        "class_names = ['smile','frown']"
      ],
      "metadata": {
        "id": "oTzqoL4VWMOu"
      },
      "execution_count": 193,
      "outputs": []
    },
    {
      "cell_type": "code",
      "source": [
        "def showImage(img,group):\n",
        "  plt.figure()\n",
        "  plt.imshow(X[img].squeeze())    # data is actually a 3d array, squeeze slices it into a 2d for imaging\n",
        "  plt.colorbar()\n",
        "  plt.grid(False)\n",
        "  plt.xlabel(class_names[int(y[group])])\n",
        "  plt.show()\n",
        "\n",
        "showImage(0,0)"
      ],
      "metadata": {
        "colab": {
          "base_uri": "https://localhost:8080/",
          "height": 283
        },
        "id": "xXLnDp8hUBu0",
        "outputId": "35a22ea8-f478-482c-95a1-fc522fc1c80b"
      },
      "execution_count": 194,
      "outputs": [
        {
          "output_type": "display_data",
          "data": {
            "text/plain": [
              "<Figure size 432x288 with 2 Axes>"
            ],
            "image/png": "[encoded data removed]"
          },
          "metadata": {
            "needs_background": "light"
          }
        }
      ]
    },
    {
      "cell_type": "code",
      "source": [
        "y[0]"
      ],
      "metadata": {
        "colab": {
          "base_uri": "https://localhost:8080/"
        },
        "id": "37ONt_IpWRBr",
        "outputId": "cdae8084-ab20-4849-b3cf-2829225e8d16"
      },
      "execution_count": 195,
      "outputs": [
        {
          "output_type": "execute_result",
          "data": {
            "text/plain": [
              "0.0"
            ]
          },
          "metadata": {},
          "execution_count": 195
        }
      ]
    },
    {
      "cell_type": "markdown",
      "source": [
        "# Training and Test Sets"
      ],
      "metadata": {
        "id": "1AEZ-tanWcgO"
      }
    },
    {
      "cell_type": "code",
      "source": [
        "X.shape, y.shape"
      ],
      "metadata": {
        "colab": {
          "base_uri": "https://localhost:8080/"
        },
        "id": "AN1ml4OLWemA",
        "outputId": "99976631-91ac-4184-bbdb-960ad3851128"
      },
      "execution_count": 196,
      "outputs": [
        {
          "output_type": "execute_result",
          "data": {
            "text/plain": [
              "((144, 9, 9, 1), (144,))"
            ]
          },
          "metadata": {},
          "execution_count": 196
        }
      ]
    },
    {
      "cell_type": "markdown",
      "source": [
        "Split data 80% train and 20% test"
      ],
      "metadata": {
        "id": "pOmLFZIdX3hz"
      }
    },
    {
      "cell_type": "code",
      "source": [
        "x_train, x_test, y_train, y_test = X[:114], X[114:], y[:114], y[114:]\n",
        "x_train.shape"
      ],
      "metadata": {
        "colab": {
          "base_uri": "https://localhost:8080/"
        },
        "id": "qyV_WKbAXc-_",
        "outputId": "a834b9ad-ff87-49d9-af8f-4e2c16dfc888"
      },
      "execution_count": 197,
      "outputs": [
        {
          "output_type": "execute_result",
          "data": {
            "text/plain": [
              "(114, 9, 9, 1)"
            ]
          },
          "metadata": {},
          "execution_count": 197
        }
      ]
    },
    {
      "cell_type": "markdown",
      "source": [
        "# Visualise Data"
      ],
      "metadata": {
        "id": "3MP-wXrMYerl"
      }
    },
    {
      "cell_type": "code",
      "source": [
        "plt.figure(figsize=(15,15))\n",
        "for i in range(25):\n",
        "    plt.subplot(5,5,i+1)\n",
        "    plt.xticks([])\n",
        "    plt.yticks([])\n",
        "    plt.grid(False)\n",
        "    plt.imshow(x_train[i].squeeze(), cmap=plt.cm.binary)\n",
        "    plt.xlabel(class_names[int(y_train[i])])\n",
        "plt.show()"
      ],
      "metadata": {
        "colab": {
          "base_uri": "https://localhost:8080/",
          "height": 0
        },
        "id": "WIDy0HKNYhMg",
        "outputId": "94a398eb-7aa2-47b7-fb20-13949519c7d3"
      },
      "execution_count": 198,
      "outputs": [
        {
          "output_type": "display_data",
          "data": {
            "text/plain": [
              "<Figure size 1080x1080 with 25 Axes>"
            ],
            "image/png": "[encoded data removed]"
          },
          "metadata": {}
        }
      ]
    },
    {
      "cell_type": "code",
      "source": [
        "x_train.shape"
      ],
      "metadata": {
        "colab": {
          "base_uri": "https://localhost:8080/"
        },
        "id": "-8-wuJH6ZcdP",
        "outputId": "a7c8c559-da61-4c9b-f92a-489996b55f22"
      },
      "execution_count": 199,
      "outputs": [
        {
          "output_type": "execute_result",
          "data": {
            "text/plain": [
              "(114, 9, 9, 1)"
            ]
          },
          "metadata": {},
          "execution_count": 199
        }
      ]
    },
    {
      "cell_type": "markdown",
      "source": [
        "# ANN Model"
      ],
      "metadata": {
        "id": "vNxM9S6uZUZ5"
      }
    },
    {
      "cell_type": "markdown",
      "source": [
        "## Building Model"
      ],
      "metadata": {
        "id": "LDbkn754Zmkl"
      }
    },
    {
      "cell_type": "code",
      "source": [
        "nn_model = tf.keras.Sequential([\n",
        "    tf.keras.layers.Flatten(input_shape=(9, 9)),\n",
        "    tf.keras.layers.Dense(128, activation='relu'),\n",
        "    tf.keras.layers.Dense(10, activation='softmax')\n",
        "])"
      ],
      "metadata": {
        "id": "tHoKaN_GZWK0"
      },
      "execution_count": 200,
      "outputs": []
    },
    {
      "cell_type": "code",
      "source": [
        "nn_model.compile(optimizer='adam',\n",
        "              loss='sparse_categorical_crossentropy',\n",
        "              metrics=['accuracy'])"
      ],
      "metadata": {
        "id": "1UZLqlnEZiim"
      },
      "execution_count": 201,
      "outputs": []
    },
    {
      "cell_type": "markdown",
      "source": [
        "## Training Model"
      ],
      "metadata": {
        "id": "jZoLRvSGZn3c"
      }
    },
    {
      "cell_type": "code",
      "source": [
        "nn_model.fit(x=x_train,y=y_train,epochs=10)"
      ],
      "metadata": {
        "colab": {
          "base_uri": "https://localhost:8080/"
        },
        "id": "HIhH29s4ZpC9",
        "outputId": "9a9b677f-7aa0-4ef1-a057-c8ddae19a828"
      },
      "execution_count": 202,
      "outputs": [
        {
          "output_type": "stream",
          "name": "stdout",
          "text": [
            "Epoch 1/10\n",
            "4/4 [==============================] - 0s 4ms/step - loss: 2.2984 - accuracy: 0.1404\n",
            "Epoch 2/10\n",
            "4/4 [==============================] - 0s 4ms/step - loss: 2.0067 - accuracy: 0.4298\n",
            "Epoch 3/10\n",
            "4/4 [==============================] - 0s 4ms/step - loss: 1.7389 - accuracy: 0.5789\n",
            "Epoch 4/10\n",
            "4/4 [==============================] - 0s 4ms/step - loss: 1.4933 - accuracy: 0.6140\n",
            "Epoch 5/10\n",
            "4/4 [==============================] - 0s 6ms/step - loss: 1.2703 - accuracy: 0.6404\n",
            "Epoch 6/10\n",
            "4/4 [==============================] - 0s 4ms/step - loss: 1.0691 - accuracy: 0.7018\n",
            "Epoch 7/10\n",
            "4/4 [==============================] - 0s 4ms/step - loss: 0.8922 - accuracy: 0.7807\n",
            "Epoch 8/10\n",
            "4/4 [==============================] - 0s 4ms/step - loss: 0.7408 - accuracy: 0.8947\n",
            "Epoch 9/10\n",
            "4/4 [==============================] - 0s 6ms/step - loss: 0.6160 - accuracy: 0.9912\n",
            "Epoch 10/10\n",
            "4/4 [==============================] - 0s 4ms/step - loss: 0.5083 - accuracy: 1.0000\n"
          ]
        },
        {
          "output_type": "execute_result",
          "data": {
            "text/plain": [
              "<keras.callbacks.History at 0x7f966e29c250>"
            ]
          },
          "metadata": {},
          "execution_count": 202
        }
      ]
    },
    {
      "cell_type": "markdown",
      "source": [
        "## Evaluating Model"
      ],
      "metadata": {
        "id": "9JpOzrF3ZtaI"
      }
    },
    {
      "cell_type": "code",
      "source": [
        "nn_model.metrics_names"
      ],
      "metadata": {
        "colab": {
          "base_uri": "https://localhost:8080/"
        },
        "id": "fG-747dhjYYS",
        "outputId": "a6645f94-8a81-48af-a563-00a87b39710e"
      },
      "execution_count": 203,
      "outputs": [
        {
          "output_type": "execute_result",
          "data": {
            "text/plain": [
              "['loss', 'accuracy']"
            ]
          },
          "metadata": {},
          "execution_count": 203
        }
      ]
    },
    {
      "cell_type": "code",
      "source": [
        "test_loss, test_acc = nn_model.evaluate(x_test,  y_test, verbose=1)\n",
        "print('\\nTest accuracy:', test_acc)"
      ],
      "metadata": {
        "colab": {
          "base_uri": "https://localhost:8080/"
        },
        "id": "W0Qlsz2cZvG8",
        "outputId": "07ba2819-56e7-404e-cf5b-736aad19e5c3"
      },
      "execution_count": 204,
      "outputs": [
        {
          "output_type": "stream",
          "name": "stdout",
          "text": [
            "1/1 [==============================] - 0s 129ms/step - loss: 0.4580 - accuracy: 1.0000\n",
            "\n",
            "Test accuracy: 1.0\n"
          ]
        }
      ]
    },
    {
      "cell_type": "markdown",
      "source": [
        "## Prediction"
      ],
      "metadata": {
        "id": "z4PE0wY3Z8_M"
      }
    },
    {
      "cell_type": "code",
      "source": [
        "classifications = nn_model.predict(x_test)"
      ],
      "metadata": {
        "colab": {
          "base_uri": "https://localhost:8080/"
        },
        "id": "HeSFZPdXZ-gc",
        "outputId": "069c0a7d-1be2-4bf9-e7d5-84d6d1641ff6"
      },
      "execution_count": 205,
      "outputs": [
        {
          "output_type": "stream",
          "name": "stdout",
          "text": [
            "1/1 [==============================] - 0s 56ms/step\n"
          ]
        }
      ]
    },
    {
      "cell_type": "code",
      "source": [
        "print(classifications[3])"
      ],
      "metadata": {
        "colab": {
          "base_uri": "https://localhost:8080/"
        },
        "id": "wEHv0SVgaAac",
        "outputId": "4ada8863-3877-4d3c-c1da-f6957ad43f5d"
      },
      "execution_count": 206,
      "outputs": [
        {
          "output_type": "stream",
          "name": "stdout",
          "text": [
            "[0.26570782 0.6370511  0.01099651 0.01501044 0.00665256 0.00610204\n",
            " 0.01234926 0.01503031 0.00916188 0.02193813]\n"
          ]
        }
      ]
    },
    {
      "cell_type": "code",
      "source": [
        "np.argmax(classifications[3])"
      ],
      "metadata": {
        "colab": {
          "base_uri": "https://localhost:8080/"
        },
        "id": "fSmUxaKcaEjC",
        "outputId": "edf01510-590d-4fdb-aa22-ab35bcf2dd28"
      },
      "execution_count": 207,
      "outputs": [
        {
          "output_type": "execute_result",
          "data": {
            "text/plain": [
              "1"
            ]
          },
          "metadata": {},
          "execution_count": 207
        }
      ]
    },
    {
      "cell_type": "code",
      "source": [
        "np.max(classifications[3])"
      ],
      "metadata": {
        "colab": {
          "base_uri": "https://localhost:8080/"
        },
        "id": "mpWRBEPQaJhj",
        "outputId": "3e630732-5431-419a-9caa-2fd0aa13cdf5"
      },
      "execution_count": 208,
      "outputs": [
        {
          "output_type": "execute_result",
          "data": {
            "text/plain": [
              "0.6370511"
            ]
          },
          "metadata": {},
          "execution_count": 208
        }
      ]
    },
    {
      "cell_type": "code",
      "source": [
        "class_names[np.argmax(classifications[3])]"
      ],
      "metadata": {
        "colab": {
          "base_uri": "https://localhost:8080/",
          "height": 0
        },
        "id": "Z3ieu6WqaGwc",
        "outputId": "0fbb13f7-0ede-438d-ed18-cd5f4194965a"
      },
      "execution_count": 209,
      "outputs": [
        {
          "output_type": "execute_result",
          "data": {
            "text/plain": [
              "'frown'"
            ],
            "application/vnd.google.colaboratory.intrinsic+json": {
              "type": "string"
            }
          },
          "metadata": {},
          "execution_count": 209
        }
      ]
    },
    {
      "cell_type": "code",
      "source": [
        "plt.imshow(x_test[3].squeeze())\n",
        "plt.colorbar()\n",
        "plt.grid(False)"
      ],
      "metadata": {
        "colab": {
          "base_uri": "https://localhost:8080/",
          "height": 0
        },
        "id": "2QSVk88eaLJ8",
        "outputId": "622b3365-1026-44ff-dc2a-5e64be67ecf9"
      },
      "execution_count": 210,
      "outputs": [
        {
          "output_type": "display_data",
          "data": {
            "text/plain": [
              "<Figure size 432x288 with 2 Axes>"
            ],
            "image/png": "[encoded data removed]"
          },
          "metadata": {
            "needs_background": "light"
          }
        }
      ]
    },
    {
      "cell_type": "code",
      "source": [
        "def plot_value_array(i, predictions_array, true_label):\n",
        "    \n",
        "    predictions_array, true_label = predictions_array, true_label[i]\n",
        "    plt.grid(False)\n",
        "    plt.xticks(range(10))\n",
        "    plt.yticks([])\n",
        "    thisplot = plt.bar(range(10), predictions_array, color=\"#777777\")\n",
        "    plt.ylim([0, 1])\n",
        "    predicted_label = np.argmax(predictions_array)\n",
        "    thisplot[predicted_label].set_color('red')\n",
        "    thisplot[int(true_label)].set_color('blue')"
      ],
      "metadata": {
        "id": "IWsa4HACaUBA"
      },
      "execution_count": 211,
      "outputs": []
    },
    {
      "cell_type": "code",
      "source": [
        "def plot_image(i, predictions_array, true_label, img):\n",
        "    \n",
        "    predictions_array, true_label, img = predictions_array, true_label[i], img[i]\n",
        "    plt.grid(False)\n",
        "    plt.xticks([])\n",
        "    plt.yticks([])\n",
        "    plt.imshow(img, cmap=plt.cm.binary)\n",
        "    predicted_label = np.argmax(predictions_array)\n",
        "    if predicted_label == true_label:\n",
        "        color = 'blue'\n",
        "    else:\n",
        "        color = 'red'\n",
        "\n",
        "    plt.xlabel(\"{} {:2.0f}% ({})\".format(class_names[predicted_label],\n",
        "                                100*np.max(predictions_array),\n",
        "                                class_names[int(true_label)]),\n",
        "                                color=color)"
      ],
      "metadata": {
        "id": "hBlcCut0aVxh"
      },
      "execution_count": 212,
      "outputs": []
    },
    {
      "cell_type": "code",
      "source": [
        "i = 0\n",
        "plt.figure(figsize=(6,3))\n",
        "plt.subplot(1,2,1)\n",
        "plot_image(i, classifications[i], y_test.squeeze(), x_test.squeeze())\n",
        "plt.subplot(1,2,2)\n",
        "plot_value_array(i, classifications[i],  y_test)\n",
        "plt.show()"
      ],
      "metadata": {
        "colab": {
          "base_uri": "https://localhost:8080/",
          "height": 0
        },
        "id": "ThRrU8BhaXOc",
        "outputId": "815f9a5a-5bb8-402f-c2d5-03e31ed5655a"
      },
      "execution_count": 213,
      "outputs": [
        {
          "output_type": "display_data",
          "data": {
            "text/plain": [
              "<Figure size 432x216 with 2 Axes>"
            ],
            "image/png": "[encoded data removed]"
          },
          "metadata": {
            "needs_background": "light"
          }
        }
      ]
    },
    {
      "cell_type": "code",
      "source": [
        "i = 12\n",
        "plt.figure(figsize=(6,3))\n",
        "plt.subplot(1,2,1)\n",
        "plot_image(i, classifications[i], y_test.squeeze(), x_test.squeeze())\n",
        "plt.subplot(1,2,2)\n",
        "plot_value_array(i, classifications[i],  y_test)\n",
        "plt.show()"
      ],
      "metadata": {
        "colab": {
          "base_uri": "https://localhost:8080/",
          "height": 0
        },
        "id": "Xr-iRxgOauRF",
        "outputId": "1baf3d9a-9357-48a1-f2ea-875412da384a"
      },
      "execution_count": 214,
      "outputs": [
        {
          "output_type": "display_data",
          "data": {
            "text/plain": [
              "<Figure size 432x216 with 2 Axes>"
            ],
            "image/png": "[encoded data removed]"
          },
          "metadata": {
            "needs_background": "light"
          }
        }
      ]
    },
    {
      "cell_type": "code",
      "source": [
        "num_rows = 10\n",
        "num_cols = 3\n",
        "num_images = num_rows*num_cols\n",
        "plt.figure(figsize=(2*2*num_cols, 2*num_rows))\n",
        "for i in range(num_images):\n",
        "    plt.subplot(num_rows, 2*num_cols, 2*i+1)\n",
        "    plot_image(i, classifications[i], y_test.squeeze(), x_test.squeeze())\n",
        "    plt.subplot(num_rows, 2*num_cols, 2*i+2)\n",
        "    plot_value_array(i, classifications[i], y_test.squeeze())\n",
        "plt.tight_layout()\n",
        "plt.show()"
      ],
      "metadata": {
        "colab": {
          "base_uri": "https://localhost:8080/",
          "height": 0
        },
        "id": "l4fV56knazfU",
        "outputId": "be04ce51-7865-46a0-cc83-0113dc59bc26"
      },
      "execution_count": 215,
      "outputs": [
        {
          "output_type": "display_data",
          "data": {
            "text/plain": [
              "<Figure size 864x1440 with 60 Axes>"
            ],
            "image/png": "[encoded data removed]"
          },
          "metadata": {
            "needs_background": "light"
          }
        }
      ]
    },
    {
      "cell_type": "markdown",
      "source": [
        "# CNN Model"
      ],
      "metadata": {
        "id": "Gbq2EXIGb1ZE"
      }
    },
    {
      "cell_type": "markdown",
      "source": [
        "## Building Model"
      ],
      "metadata": {
        "id": "4DKCOIx3cVYA"
      }
    },
    {
      "cell_type": "code",
      "source": [
        "cnn_model = tf.keras.models.Sequential([\n",
        "  tf.keras.layers.Conv2D(64, (3,3), activation='relu', input_shape=(9, 9, 1)),\n",
        "  tf.keras.layers.MaxPooling2D((2,2), padding='same'),\n",
        "  tf.keras.layers.Conv2D(64, (3,3), activation='relu'),\n",
        "  tf.keras.layers.MaxPooling2D((2,2), padding='same'),\n",
        "  tf.keras.layers.Flatten(),\n",
        "  tf.keras.layers.Dense(128, activation='relu'),\n",
        "  tf.keras.layers.Dense(10, activation='softmax')\n",
        "])\n",
        "cnn_model.compile(optimizer='adam', loss='sparse_categorical_crossentropy', metrics=['accuracy'])\n",
        "cnn_model.summary()"
      ],
      "metadata": {
        "colab": {
          "base_uri": "https://localhost:8080/"
        },
        "id": "U2jZW2oYcU5P",
        "outputId": "b495f084-88ea-4e20-c22d-fb7afc78d430"
      },
      "execution_count": 216,
      "outputs": [
        {
          "output_type": "stream",
          "name": "stdout",
          "text": [
            "Model: \"sequential_16\"\n",
            "_________________________________________________________________\n",
            " Layer (type)                Output Shape              Param #   \n",
            "=================================================================\n",
            " conv2d_26 (Conv2D)          (None, 7, 7, 64)          640       \n",
            "                                                                 \n",
            " max_pooling2d_26 (MaxPoolin  (None, 4, 4, 64)         0         \n",
            " g2D)                                                            \n",
            "                                                                 \n",
            " conv2d_27 (Conv2D)          (None, 2, 2, 64)          36928     \n",
            "                                                                 \n",
            " max_pooling2d_27 (MaxPoolin  (None, 1, 1, 64)         0         \n",
            " g2D)                                                            \n",
            "                                                                 \n",
            " flatten_16 (Flatten)        (None, 64)                0         \n",
            "                                                                 \n",
            " dense_32 (Dense)            (None, 128)               8320      \n",
            "                                                                 \n",
            " dense_33 (Dense)            (None, 10)                1290      \n",
            "                                                                 \n",
            "=================================================================\n",
            "Total params: 47,178\n",
            "Trainable params: 47,178\n",
            "Non-trainable params: 0\n",
            "_________________________________________________________________\n"
          ]
        }
      ]
    },
    {
      "cell_type": "markdown",
      "source": [
        "## Training Model"
      ],
      "metadata": {
        "id": "9LV7fdH7ccLz"
      }
    },
    {
      "cell_type": "code",
      "source": [
        "cnn_model.fit(x_train, y_train, epochs=5)"
      ],
      "metadata": {
        "colab": {
          "base_uri": "https://localhost:8080/"
        },
        "id": "O90HbqiWcecZ",
        "outputId": "23431b24-1840-4a29-a64f-0d315791d823"
      },
      "execution_count": 217,
      "outputs": [
        {
          "output_type": "stream",
          "name": "stdout",
          "text": [
            "Epoch 1/5\n",
            "4/4 [==============================] - 1s 12ms/step - loss: 2.2189 - accuracy: 0.2982\n",
            "Epoch 2/5\n",
            "4/4 [==============================] - 0s 10ms/step - loss: 1.8925 - accuracy: 0.7105\n",
            "Epoch 3/5\n",
            "4/4 [==============================] - 0s 11ms/step - loss: 1.4507 - accuracy: 0.7368\n",
            "Epoch 4/5\n",
            "4/4 [==============================] - 0s 12ms/step - loss: 0.9642 - accuracy: 0.7895\n",
            "Epoch 5/5\n",
            "4/4 [==============================] - 0s 11ms/step - loss: 0.6392 - accuracy: 0.9123\n"
          ]
        },
        {
          "output_type": "execute_result",
          "data": {
            "text/plain": [
              "<keras.callbacks.History at 0x7f966f65fe90>"
            ]
          },
          "metadata": {},
          "execution_count": 217
        }
      ]
    },
    {
      "cell_type": "markdown",
      "source": [
        "## Evaluating Model"
      ],
      "metadata": {
        "id": "D0IAoKuVfJEt"
      }
    },
    {
      "cell_type": "code",
      "source": [
        "test_loss, test_acc = cnn_model.evaluate(x_test,  y_test, verbose=0)\n",
        "print('\\nTest accuracy:', test_acc)"
      ],
      "metadata": {
        "colab": {
          "base_uri": "https://localhost:8080/"
        },
        "id": "OZVZk_tMfILm",
        "outputId": "fd6511d3-1e23-496f-aa77-eee3d0b2dd62"
      },
      "execution_count": 218,
      "outputs": [
        {
          "output_type": "stream",
          "name": "stdout",
          "text": [
            "\n",
            "Test accuracy: 0.9333333373069763\n"
          ]
        }
      ]
    },
    {
      "cell_type": "markdown",
      "source": [
        "## Prediction"
      ],
      "metadata": {
        "id": "1RxkPbvtfdXn"
      }
    },
    {
      "cell_type": "code",
      "source": [
        "classifications = cnn_model.predict(x_test)\n",
        "print(classifications[3])"
      ],
      "metadata": {
        "colab": {
          "base_uri": "https://localhost:8080/"
        },
        "id": "N943D8CHfZGd",
        "outputId": "43dcc798-e256-4a25-eeed-1e3b5526aad6"
      },
      "execution_count": 219,
      "outputs": [
        {
          "output_type": "stream",
          "name": "stdout",
          "text": [
            "1/1 [==============================] - 0s 102ms/step\n",
            "[3.7185478e-01 6.0033381e-01 1.2152168e-03 2.4038393e-03 4.4545485e-04\n",
            " 2.5275308e-03 5.5558560e-03 1.2753619e-02 1.2308285e-03 1.6789916e-03]\n"
          ]
        }
      ]
    },
    {
      "cell_type": "code",
      "source": [
        "class_names[np.argmax(classifications[18])]"
      ],
      "metadata": {
        "colab": {
          "base_uri": "https://localhost:8080/",
          "height": 36
        },
        "id": "U8ktSETVfgXc",
        "outputId": "1fe1183c-9816-46c5-912a-270ca70d2230"
      },
      "execution_count": 220,
      "outputs": [
        {
          "output_type": "execute_result",
          "data": {
            "text/plain": [
              "'smile'"
            ],
            "application/vnd.google.colaboratory.intrinsic+json": {
              "type": "string"
            }
          },
          "metadata": {},
          "execution_count": 220
        }
      ]
    },
    {
      "cell_type": "code",
      "source": [
        "plt.imshow(x_test[18].reshape(9,9))\n",
        "plt.colorbar()\n",
        "plt.grid(False)"
      ],
      "metadata": {
        "colab": {
          "base_uri": "https://localhost:8080/",
          "height": 269
        },
        "id": "4FVNOqZ8fis4",
        "outputId": "fc3c6470-b52d-45d1-d5d1-f6d312666754"
      },
      "execution_count": 221,
      "outputs": [
        {
          "output_type": "display_data",
          "data": {
            "text/plain": [
              "<Figure size 432x288 with 2 Axes>"
            ],
            "image/png": "[encoded data removed]"
          },
          "metadata": {
            "needs_background": "light"
          }
        }
      ]
    },
    {
      "cell_type": "markdown",
      "source": [
        "# Visualise Layers"
      ],
      "metadata": {
        "id": "eMGJpx81ftgg"
      }
    },
    {
      "cell_type": "code",
      "source": [
        "f, axarr = plt.subplots(3,4)\n",
        "FIRST_IMAGE=0\n",
        "SECOND_IMAGE=7\n",
        "THIRD_IMAGE=26\n",
        "CONVOLUTION_NUMBER = 1\n",
        "\n",
        "from tensorflow.keras import models\n",
        "\n",
        "layer_outputs = [layer.output for layer in cnn_model.layers]\n",
        "activation_model = tf.keras.models.Model(inputs = cnn_model.input, outputs = layer_outputs)\n",
        "for x in range(0,4):\n",
        "  f1 = activation_model.predict(x_test[FIRST_IMAGE].reshape(1, 9, 9, 1))[x]\n",
        "  axarr[0,x].imshow(f1[0, : , :, CONVOLUTION_NUMBER], cmap='inferno')\n",
        "  axarr[0,x].grid(False)\n",
        "  f2 = activation_model.predict(x_test[SECOND_IMAGE].reshape(1, 9, 9, 1))[x]\n",
        "  axarr[1,x].imshow(f2[0, : , :, CONVOLUTION_NUMBER], cmap='inferno')\n",
        "  axarr[1,x].grid(False)\n",
        "  f3 = activation_model.predict(x_test[THIRD_IMAGE].reshape(1, 9, 9, 1))[x]\n",
        "  axarr[2,x].imshow(f3[0, : , :, CONVOLUTION_NUMBER], cmap='inferno')\n",
        "  axarr[2,x].grid(False)"
      ],
      "metadata": {
        "colab": {
          "base_uri": "https://localhost:8080/",
          "height": 488
        },
        "id": "B9zOwWcxfv8C",
        "outputId": "88da2584-eb1f-4927-9e83-2333f60b8743"
      },
      "execution_count": 222,
      "outputs": [
        {
          "output_type": "stream",
          "name": "stdout",
          "text": [
            "1/1 [==============================] - 0s 140ms/step\n",
            "1/1 [==============================] - 0s 149ms/step\n",
            "1/1 [==============================] - 0s 165ms/step\n",
            "1/1 [==============================] - 0s 163ms/step\n",
            "1/1 [==============================] - 0s 96ms/step\n",
            "1/1 [==============================] - 0s 50ms/step\n",
            "1/1 [==============================] - 0s 81ms/step\n",
            "1/1 [==============================] - 0s 30ms/step\n",
            "1/1 [==============================] - 0s 18ms/step\n",
            "1/1 [==============================] - 0s 18ms/step\n",
            "1/1 [==============================] - 0s 19ms/step\n",
            "1/1 [==============================] - 0s 18ms/step\n"
          ]
        },
        {
          "output_type": "display_data",
          "data": {
            "text/plain": [
              "<Figure size 432x288 with 12 Axes>"
            ],
            "image/png": "[encoded data removed]"
          },
          "metadata": {
            "needs_background": "light"
          }
        }
      ]
    },
    {
      "cell_type": "markdown",
      "source": [
        "# Evaluation Methods"
      ],
      "metadata": {
        "id": "_9h8kL7ik7zs"
      }
    },
    {
      "cell_type": "markdown",
      "source": [
        "## k-fold evaluation"
      ],
      "metadata": {
        "id": "G5fIJtB_pkeM"
      }
    },
    {
      "cell_type": "code",
      "source": [
        "from sklearn.model_selection import ShuffleSplit\n",
        "\n",
        "def split_data(X):\n",
        "  sp = ShuffleSplit(n_splits=10, test_size=0.2, random_state=42)\n",
        "  sp.get_n_splits(X)\n",
        "  return sp\n",
        "\n",
        "sp = split_data(X)"
      ],
      "metadata": {
        "id": "o97ItlbYk7PH"
      },
      "execution_count": 223,
      "outputs": []
    },
    {
      "cell_type": "code",
      "source": [
        "for train_index, test_index in sp.split(X, y):\n",
        "  print(\"TRAIN:\", train_index, \"\\n TEST:\", test_index)\n",
        "  showImage(test_index[0], test_index[0])"
      ],
      "metadata": {
        "colab": {
          "base_uri": "https://localhost:8080/",
          "height": 1000
        },
        "id": "OmdhxgnklwGw",
        "outputId": "e47c1315-59e8-4529-a398-7411b66b1ade"
      },
      "execution_count": 224,
      "outputs": [
        {
          "output_type": "stream",
          "name": "stdout",
          "text": [
            "TRAIN: [124  31  98  36  16  10  93 111  42 118 127  96  60   0  84  28  40  86\n",
            "  24  25  23 115  67  44  15  95  39  22  68  80 140  47  30 112  76 137\n",
            "  33  81 142  62 139 135  53   5  85 109  49  35  77  34 131   7  43  70\n",
            "  89  83 123 129   8  13 108 114   3  17  38  72 120   6 101   2 122  54\n",
            "  50 104  46 105  61 141  79 136  91  41  58  90  48  88 126  21  57  75\n",
            "  32 138  59  63 128  37  29 107 134   1  52 130 103  99 116  87  74 121\n",
            " 143  20  71 106  14  92 102] \n",
            " TEST: [117  19  82  97  56  12 132  65  66  18  51  78  94 133 100  64  27  69\n",
            " 125  73  11 119 110 113  55  45   9   4  26]\n"
          ]
        },
        {
          "output_type": "display_data",
          "data": {
            "text/plain": [
              "<Figure size 432x288 with 2 Axes>"
            ],
            "image/png": "[encoded data removed]"
          },
          "metadata": {
            "needs_background": "light"
          }
        },
        {
          "output_type": "stream",
          "name": "stdout",
          "text": [
            "TRAIN: [ 24 113  68 132  17  49   6 121  67 120 119  25 126 129  19  77 130  90\n",
            "  64  93  32  15  47  63  21 115  33  81   4 105  37  16  75  98  10  54\n",
            "  66 140 138  52  73  18 101  53 112  87  86  55  97   1  38  11  84  57\n",
            "  92 133 127 125  78  23 111  50  36  99   8 100  71  69   2  76 103 143\n",
            "   0  96 108 142  88  91  74 118  29  83  43 107 124 122   5 116  56  61\n",
            "  44 137  65  27  85 114  58  70  31  12  35  28 131 134  51  95  62 123\n",
            "  41  89  14 136  26 102 141] \n",
            " TEST: [ 30 117  79 128   3 139   7  45  40  48 110 106  20  82  80  13  72  34\n",
            " 104  60  59  94  46  42  39   9  22 135 109]\n"
          ]
        },
        {
          "output_type": "display_data",
          "data": {
            "text/plain": [
              "<Figure size 432x288 with 2 Axes>"
            ],
            "image/png": "[encoded data removed]"
          },
          "metadata": {
            "needs_background": "light"
          }
        },
        {
          "output_type": "stream",
          "name": "stdout",
          "text": [
            "TRAIN: [143  30 141 104  79  33 100  14  71  11  13  15 107   0 135  35 124  12\n",
            "  69 142 136  61  91  28  38  95  73  42   8  77  39  89  25   1  41 105\n",
            "  65  22  46  78 139  82  76  57 110  24  17 123 121  31  62  59  52  86\n",
            "  23  36   5  45 102  43 122  48  99  34   3  18 120  60  68 138  63  27\n",
            "  96 113 129  97 106  26 125 132  50 108 101  37  29 134  21  85 114  58\n",
            "  75 128 130  16  66   6   7 119  19  47  20  32  67  53  81 109 127  92\n",
            "  98 111  83 103 112  74 115] \n",
            " TEST: [ 40  49  54  44   2  72 133 140  93  70 118 131  80  55 126  51  56   4\n",
            "  10  84 116   9  88 137  64  87 117  90  94]\n"
          ]
        },
        {
          "output_type": "display_data",
          "data": {
            "text/plain": [
              "<Figure size 432x288 with 2 Axes>"
            ],
            "image/png": "[encoded data removed]"
          },
          "metadata": {
            "needs_background": "light"
          }
        },
        {
          "output_type": "stream",
          "name": "stdout",
          "text": [
            "TRAIN: [ 78  37  20  24  41  10  96   6  82  40  55  53  52   7 107  16 129  67\n",
            "  72  45  30  64  12 101  43 113  80  39  65 104   2  69  36  42 142 141\n",
            " 109  86  34  49  11  73  31   1  23 127   3  83 118 130 139 122  51 132\n",
            "  94   9 133  32  38  84 143  99 136 106 120  98 134  93  46 112 138  77\n",
            "  28  56  85 100  50 124  25  75  66  92  21  68 140  63 102  60  15 131\n",
            " 135 108 103  88  47 117  95  33 110   0 121 137 128 126  22  61 116  89\n",
            "  57  91  18  62 119 105 123] \n",
            " TEST: [ 19  87  90  81   5  14 111  97  27  13  58 114  26  79  54  71 125  48\n",
            "  17  76  74  29  44  59  70   8   4 115  35]\n"
          ]
        },
        {
          "output_type": "display_data",
          "data": {
            "text/plain": [
              "<Figure size 432x288 with 2 Axes>"
            ],
            "image/png": "[encoded data removed]"
          },
          "metadata": {
            "needs_background": "light"
          }
        },
        {
          "output_type": "stream",
          "name": "stdout",
          "text": [
            "TRAIN: [ 67 126 129  62  63  77  14 113 105 109  72 132  79  88  10  47 121  20\n",
            "  46  50  31  78  43   5 117  87  32  55 128  48 120 136 130   2   0  71\n",
            " 104  19 101  97  81  66 102  76 114  53  60 141  30  69  35   3  44  70\n",
            " 100  64   7 133  37  36  28 143  65  26  49 103 131  39  12  45   6  16\n",
            " 115  73 137 138  17  74 106  92  86  34   4  94  13 119  57  41 123 108\n",
            "  38  56  15  22  52 139  84 122 134  24  98  68 116 110  82  51 127  27\n",
            "   8  75  99  18 140  85 111] \n",
            " TEST: [ 59  61   1 118 124  96  42  95  83  40  25  33  23  89 125 112  90  54\n",
            "  21  80  29  58  91 107 142  93   9  11 135]\n"
          ]
        },
        {
          "output_type": "display_data",
          "data": {
            "text/plain": [
              "<Figure size 432x288 with 2 Axes>"
            ],
            "image/png": "[encoded data removed]"
          },
          "metadata": {
            "needs_background": "light"
          }
        },
        {
          "output_type": "stream",
          "name": "stdout",
          "text": [
            "TRAIN: [130  47  12   1 112  74  90  60  19  40  70  45 139 126  28 132  83  41\n",
            "  57  93  23 120  87  51  75  66 123  14 137  17 127 136  67 110  59  63\n",
            "  37 141  65  13 103 140  96  56 107  79  86  11  49 105  53  95 128  38\n",
            "  71  33  31 131  61   3 121  44  50 116  72  77 129  16  82  99  73  36\n",
            " 134 100  22  52   2 101 135  94  68  80  91   5  54 111  20   0  98 104\n",
            "  97 143  76  48  26  58  85  88  62  25  84  10  64 117  32 118   4 108\n",
            "  29  55   9  46 114  81 133] \n",
            " TEST: [ 24  92  34 106  39   6  35 109  89 113 115 125  78   8 119 124 142  42\n",
            "   7  21 138  27 102  69 122  18  43  15  30]\n"
          ]
        },
        {
          "output_type": "display_data",
          "data": {
            "text/plain": [
              "<Figure size 432x288 with 2 Axes>"
            ],
            "image/png": "[encoded data removed]"
          },
          "metadata": {
            "needs_background": "light"
          }
        },
        {
          "output_type": "stream",
          "name": "stdout",
          "text": [
            "TRAIN: [ 18  70  76  48  96  42  59 108  95  57  81  92  19 105 124  49  64 121\n",
            "  36  75  53  99   8  23  30 110  10  29   3 125  54  61 133  20 143  52\n",
            "  32  68 101 102  94 104 116   5  40  41  39 119 136  97  66   9  67 127\n",
            "  12 128  24  43 118  16  56  38  73 109  88  63  14  37  17  22   2   6\n",
            " 113  58 111 122   1  87 135  86  27 138  13  85 129 131  78  51  98 112\n",
            "   7 141  35 140  80  60  47  62 106  93  55 120  46  25  72  44  77  33\n",
            "  45  89  11 132   0  69  21] \n",
            " TEST: [117 115  71  31 100  34  28  15  50 137  65  26 134 103 123 126 107  91\n",
            "  84  82 130  74 114  90 142  79   4 139  83]\n"
          ]
        },
        {
          "output_type": "display_data",
          "data": {
            "text/plain": [
              "<Figure size 432x288 with 2 Axes>"
            ],
            "image/png": "[encoded data removed]"
          },
          "metadata": {
            "needs_background": "light"
          }
        },
        {
          "output_type": "stream",
          "name": "stdout",
          "text": [
            "TRAIN: [ 47  87  11 125 118  45   7  55 139  23  56  30 142  54  67  76 117   9\n",
            "   1 112 132  53  57  99 131  97  80  35  26  73 102  51  32  28  46  79\n",
            " 110  91 136   6  66   5  69 121  86 140  52  65 135  24  14 138  22 133\n",
            "  50  31 106  38 108 114  17 109  41  88   3 128  25 124  82   4  36  84\n",
            " 123  29 111  13 137 104  10  71  92 113 127  21  63  39   0  34  98  75\n",
            "  33 134  74 119 116  77  49 107  59  61  68  48  94  93  37   8  16  72\n",
            " 100  62  64  83 143  12 129] \n",
            " TEST: [ 81 120  42  96   2  78  40 115 103  15  85 105  20 130 141 122  89  70\n",
            "  90  44  58  19 101 126  95  43  27  18  60]\n"
          ]
        },
        {
          "output_type": "display_data",
          "data": {
            "text/plain": [
              "<Figure size 432x288 with 2 Axes>"
            ],
            "image/png": "[encoded data removed]"
          },
          "metadata": {
            "needs_background": "light"
          }
        },
        {
          "output_type": "stream",
          "name": "stdout",
          "text": [
            "TRAIN: [128  57  22  95  93 110 143   9 108   2  38 106   7  65   3  98  64  75\n",
            "  97 112  13  67  17  63 115  15  82  59  44  68  79  29  31  61  18  55\n",
            "  88  12 120 111  60  78  19  99  84  80  27 140  21 102 134  48  32  69\n",
            " 107  70 101  23 118 135  58  42  16  94  33  90  81   6   1  37  74 141\n",
            "  24 119  34 132  25 137  51  73   8  52  72  46 127  14 133 114  54 123\n",
            "  62 130  56  86  53  35 109  89  20 100  45   0  10  40  39  28  50 136\n",
            " 121  30  91 105 126  71  36] \n",
            " TEST: [125 104 129  49 139  11   5 142 124  43 131  66 117 103  47  77 113  76\n",
            " 122   4 116  26  87 138  85  92  41  96  83]\n"
          ]
        },
        {
          "output_type": "display_data",
          "data": {
            "text/plain": [
              "<Figure size 432x288 with 2 Axes>"
            ],
            "image/png": "[encoded data removed]"
          },
          "metadata": {
            "needs_background": "light"
          }
        },
        {
          "output_type": "stream",
          "name": "stdout",
          "text": [
            "TRAIN: [ 82  60 126   0  91  96  67  68  71 110  62 119  51  18 131  55  32 130\n",
            " 104 141 135  89  34 101  38  48 114 117  79 134  20 100 105 108 140  77\n",
            "  50  64  53 137  63  45  61 106  88  44   9  70 136  11 116   5  30  56\n",
            "  26  93  75 122  99  16  33  37  40  41 143  17  69  74 133 125  97 139\n",
            "  57  25   3  21  72 102  24  65  39   8  13 113 120  95  86 109  58  29\n",
            "  73  80  23 107  85 121 115  98  43  52  36   4  19 118 129  10  46 128\n",
            "   1  81  28  35 124 111  84] \n",
            " TEST: [ 22 142  14 138 103  90  92  66  27  76  12 132  15  47  54 127  87 112\n",
            "  42  59  78  49  94  83   2   6  31 123   7]\n"
          ]
        },
        {
          "output_type": "display_data",
          "data": {
            "text/plain": [
              "<Figure size 432x288 with 2 Axes>"
            ],
            "image/png": "[encoded data removed]"
          },
          "metadata": {
            "needs_background": "light"
          }
        }
      ]
    },
    {
      "cell_type": "code",
      "source": [
        "accuracies = []\n",
        "for train_index, test_index in sp.split(X, y):\n",
        "  cnn_model.fit(X[train_index], y[train_index], epochs=5)\n",
        "  accuracies.append(cnn_model.evaluate(X[train_index], y[train_index], verbose=0)[1])"
      ],
      "metadata": {
        "id": "tm6C7tuEvAXg",
        "outputId": "bd4943f6-f797-4240-866e-ed1b13cf98e1",
        "colab": {
          "base_uri": "https://localhost:8080/"
        }
      },
      "execution_count": 225,
      "outputs": [
        {
          "output_type": "stream",
          "name": "stdout",
          "text": [
            "Epoch 1/5\n",
            "4/4 [==============================] - 0s 8ms/step - loss: 0.4842 - accuracy: 0.9130\n",
            "Epoch 2/5\n",
            "4/4 [==============================] - 0s 8ms/step - loss: 0.4035 - accuracy: 0.9130\n",
            "Epoch 3/5\n",
            "4/4 [==============================] - 0s 8ms/step - loss: 0.3487 - accuracy: 0.9217\n",
            "Epoch 4/5\n",
            "4/4 [==============================] - 0s 8ms/step - loss: 0.2781 - accuracy: 0.9130\n",
            "Epoch 5/5\n",
            "4/4 [==============================] - 0s 7ms/step - loss: 0.2406 - accuracy: 0.9130\n",
            "Epoch 1/5\n",
            "4/4 [==============================] - 0s 8ms/step - loss: 0.1870 - accuracy: 1.0000\n",
            "Epoch 2/5\n",
            "4/4 [==============================] - 0s 8ms/step - loss: 0.1550 - accuracy: 0.9043\n",
            "Epoch 3/5\n",
            "4/4 [==============================] - 0s 8ms/step - loss: 0.1162 - accuracy: 0.9826\n",
            "Epoch 4/5\n",
            "4/4 [==============================] - 0s 8ms/step - loss: 0.1024 - accuracy: 1.0000\n",
            "Epoch 5/5\n",
            "4/4 [==============================] - 0s 7ms/step - loss: 0.0752 - accuracy: 1.0000\n",
            "Epoch 1/5\n",
            "4/4 [==============================] - 0s 8ms/step - loss: 0.0622 - accuracy: 1.0000\n",
            "Epoch 2/5\n",
            "4/4 [==============================] - 0s 8ms/step - loss: 0.0476 - accuracy: 1.0000\n",
            "Epoch 3/5\n",
            "4/4 [==============================] - 0s 8ms/step - loss: 0.0369 - accuracy: 1.0000\n",
            "Epoch 4/5\n",
            "4/4 [==============================] - 0s 8ms/step - loss: 0.0279 - accuracy: 1.0000\n",
            "Epoch 5/5\n",
            "4/4 [==============================] - 0s 8ms/step - loss: 0.0224 - accuracy: 1.0000\n",
            "Epoch 1/5\n",
            "4/4 [==============================] - 0s 9ms/step - loss: 0.0149 - accuracy: 1.0000\n",
            "Epoch 2/5\n",
            "4/4 [==============================] - 0s 8ms/step - loss: 0.0120 - accuracy: 1.0000\n",
            "Epoch 3/5\n",
            "4/4 [==============================] - 0s 8ms/step - loss: 0.0104 - accuracy: 1.0000\n",
            "Epoch 4/5\n",
            "4/4 [==============================] - 0s 8ms/step - loss: 0.0088 - accuracy: 1.0000\n",
            "Epoch 5/5\n",
            "4/4 [==============================] - 0s 8ms/step - loss: 0.0077 - accuracy: 1.0000\n",
            "Epoch 1/5\n",
            "4/4 [==============================] - 0s 7ms/step - loss: 0.0079 - accuracy: 1.0000\n",
            "Epoch 2/5\n",
            "4/4 [==============================] - 0s 7ms/step - loss: 0.0069 - accuracy: 1.0000\n",
            "Epoch 3/5\n",
            "4/4 [==============================] - 0s 7ms/step - loss: 0.0061 - accuracy: 1.0000\n",
            "Epoch 4/5\n",
            "4/4 [==============================] - 0s 7ms/step - loss: 0.0056 - accuracy: 1.0000\n",
            "Epoch 5/5\n",
            "4/4 [==============================] - 0s 7ms/step - loss: 0.0051 - accuracy: 1.0000\n",
            "Epoch 1/5\n",
            "4/4 [==============================] - 0s 10ms/step - loss: 0.0042 - accuracy: 1.0000\n",
            "Epoch 2/5\n",
            "4/4 [==============================] - 0s 8ms/step - loss: 0.0039 - accuracy: 1.0000\n",
            "Epoch 3/5\n",
            "4/4 [==============================] - 0s 7ms/step - loss: 0.0036 - accuracy: 1.0000\n",
            "Epoch 4/5\n",
            "4/4 [==============================] - 0s 8ms/step - loss: 0.0033 - accuracy: 1.0000\n",
            "Epoch 5/5\n",
            "4/4 [==============================] - 0s 7ms/step - loss: 0.0031 - accuracy: 1.0000\n",
            "Epoch 1/5\n",
            "4/4 [==============================] - 0s 12ms/step - loss: 0.0026 - accuracy: 1.0000\n",
            "Epoch 2/5\n",
            "4/4 [==============================] - 0s 8ms/step - loss: 0.0024 - accuracy: 1.0000\n",
            "Epoch 3/5\n",
            "4/4 [==============================] - 0s 8ms/step - loss: 0.0023 - accuracy: 1.0000\n",
            "Epoch 4/5\n",
            "4/4 [==============================] - 0s 8ms/step - loss: 0.0021 - accuracy: 1.0000\n",
            "Epoch 5/5\n",
            "4/4 [==============================] - 0s 8ms/step - loss: 0.0020 - accuracy: 1.0000\n",
            "Epoch 1/5\n",
            "4/4 [==============================] - 0s 8ms/step - loss: 0.0022 - accuracy: 1.0000\n",
            "Epoch 2/5\n",
            "4/4 [==============================] - 0s 7ms/step - loss: 0.0020 - accuracy: 1.0000\n",
            "Epoch 3/5\n",
            "4/4 [==============================] - 0s 8ms/step - loss: 0.0019 - accuracy: 1.0000\n",
            "Epoch 4/5\n",
            "4/4 [==============================] - 0s 8ms/step - loss: 0.0018 - accuracy: 1.0000\n",
            "Epoch 5/5\n",
            "4/4 [==============================] - 0s 7ms/step - loss: 0.0018 - accuracy: 1.0000\n",
            "Epoch 1/5\n",
            "4/4 [==============================] - 0s 8ms/step - loss: 0.0017 - accuracy: 1.0000\n",
            "Epoch 2/5\n",
            "4/4 [==============================] - 0s 8ms/step - loss: 0.0016 - accuracy: 1.0000\n",
            "Epoch 3/5\n",
            "4/4 [==============================] - 0s 11ms/step - loss: 0.0015 - accuracy: 1.0000\n",
            "Epoch 4/5\n",
            "4/4 [==============================] - 0s 10ms/step - loss: 0.0014 - accuracy: 1.0000\n",
            "Epoch 5/5\n",
            "4/4 [==============================] - 0s 8ms/step - loss: 0.0014 - accuracy: 1.0000\n",
            "Epoch 1/5\n",
            "4/4 [==============================] - 0s 8ms/step - loss: 0.0014 - accuracy: 1.0000\n",
            "Epoch 2/5\n",
            "4/4 [==============================] - 0s 7ms/step - loss: 0.0013 - accuracy: 1.0000\n",
            "Epoch 3/5\n",
            "4/4 [==============================] - 0s 7ms/step - loss: 0.0012 - accuracy: 1.0000\n",
            "Epoch 4/5\n",
            "4/4 [==============================] - 0s 8ms/step - loss: 0.0012 - accuracy: 1.0000\n",
            "Epoch 5/5\n",
            "4/4 [==============================] - 0s 9ms/step - loss: 0.0011 - accuracy: 1.0000\n"
          ]
        }
      ]
    },
    {
      "cell_type": "code",
      "source": [
        "accuracies"
      ],
      "metadata": {
        "id": "9D62O_GFwFL3",
        "outputId": "6b024e86-4ef4-4b22-8352-b5605afb678c",
        "colab": {
          "base_uri": "https://localhost:8080/"
        }
      },
      "execution_count": 226,
      "outputs": [
        {
          "output_type": "execute_result",
          "data": {
            "text/plain": [
              "[0.991304337978363, 1.0, 1.0, 1.0, 1.0, 1.0, 1.0, 1.0, 1.0, 1.0]"
            ]
          },
          "metadata": {},
          "execution_count": 226
        }
      ]
    }
  ]
}